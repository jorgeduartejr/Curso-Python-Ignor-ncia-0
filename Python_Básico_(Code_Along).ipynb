{
 "cells": [
  {
   "cell_type": "markdown",
   "metadata": {
    "id": "sPwRp_0xEsSH"
   },
   "source": [
    "# Python Básico"
   ]
  },
  {
   "cell_type": "markdown",
   "metadata": {
    "id": "KWQKRM3-EsSJ"
   },
   "source": [
    "**OBJETIVOS**: Ensinar o básico da linguagem python para o curso"
   ]
  },
  {
   "cell_type": "markdown",
   "metadata": {
    "id": "n1TQWeDjEsSK"
   },
   "source": [
    "---"
   ]
  },
  {
   "cell_type": "markdown",
   "metadata": {
    "id": "GH6UMzioEsSK"
   },
   "source": [
    "## Introdução "
   ]
  },
  {
   "cell_type": "markdown",
   "metadata": {
    "id": "4Uqt7nykEsSL"
   },
   "source": [
    "### Variáveis"
   ]
  },
  {
   "cell_type": "markdown",
   "metadata": {
    "id": "tjftd8e3EsSL"
   },
   "source": [
    "Em qualquer linguagem de programação é crucial saber trabalhar com variáveis. Elas são estruturas cujo objetivo é armazenar informações temporárias do programa na memória RAM.\n",
    "\n",
    "Em python, a sintaxe para se criar uma variável é simples:"
   ]
  },
  {
   "cell_type": "code",
   "execution_count": 1,
   "metadata": {
    "ExecuteTime": {
     "end_time": "2022-05-25T16:59:07.780853Z",
     "start_time": "2022-05-25T16:59:07.778144Z"
    },
    "id": "l9ZpQfkOH4Cs"
   },
   "outputs": [],
   "source": [
    "a = 1"
   ]
  },
  {
   "cell_type": "markdown",
   "metadata": {
    "id": "kC5s5HRcEsSM"
   },
   "source": [
    "Ao dizer a = 1, estamos falando: \"Por favor, armazene o valor de 1 a variável cujo nome será 'a'\". Desta forma o sinal '=' em Python é o sinal de atribuição."
   ]
  },
  {
   "cell_type": "markdown",
   "metadata": {
    "id": "xUFNv492EsSN"
   },
   "source": [
    "Há, é claro, regras para se criar um nome de uma variável, sendo elas:\n",
    "1. Não pode começar com um número\n",
    "2. Não pode conter caracter especial (\",\", \"´\", \"/\", ...), mas pode ter acentos (á, é, í, ...) e \"_\"\n",
    "3. Não pode ter espaços no nome"
   ]
  },
  {
   "cell_type": "code",
   "execution_count": 2,
   "metadata": {
    "ExecuteTime": {
     "end_time": "2022-05-25T16:59:07.867433Z",
     "start_time": "2022-05-25T16:59:07.790795Z"
    },
    "id": "FJfKXKfGH4Cu"
   },
   "outputs": [
    {
     "ename": "SyntaxError",
     "evalue": "invalid syntax (236849885.py, line 1)",
     "output_type": "error",
     "traceback": [
      "\u001b[0;36m  Input \u001b[0;32mIn [2]\u001b[0;36m\u001b[0m\n\u001b[0;31m    123abc = 1\u001b[0m\n\u001b[0m       ^\u001b[0m\n\u001b[0;31mSyntaxError\u001b[0m\u001b[0;31m:\u001b[0m invalid syntax\n"
     ]
    }
   ],
   "source": [
    "123abc = 1"
   ]
  },
  {
   "cell_type": "markdown",
   "metadata": {
    "id": "gBoQWLYjEsSO"
   },
   "source": [
    "Você ainda pode criar múltiplas variáveis numa mesma linha"
   ]
  },
  {
   "cell_type": "code",
   "execution_count": null,
   "metadata": {
    "ExecuteTime": {
     "end_time": "2022-05-25T16:59:07.869575Z",
     "start_time": "2022-05-25T16:59:07.869546Z"
    },
    "colab": {
     "base_uri": "https://localhost:8080/",
     "height": 130
    },
    "id": "D05D2hxpH4Cv",
    "outputId": "f469b396-cc15-4805-f1ac-57d07735abc6"
   },
   "outputs": [],
   "source": [
    "a,b,c = 1,2,3"
   ]
  },
  {
   "cell_type": "markdown",
   "metadata": {
    "id": "Jiqf4BevEsSO"
   },
   "source": [
    "Nós podemos utilizar o console do jupyter para acompanhar os valores de variáveis e nós podemos substituir os valores das mesmas"
   ]
  },
  {
   "cell_type": "code",
   "execution_count": null,
   "metadata": {
    "ExecuteTime": {
     "end_time": "2022-05-25T16:59:07.871511Z",
     "start_time": "2022-05-25T16:59:07.871483Z"
    },
    "id": "BQUEvHJwH4Cw"
   },
   "outputs": [],
   "source": [
    "a = 2"
   ]
  },
  {
   "cell_type": "code",
   "execution_count": null,
   "metadata": {
    "ExecuteTime": {
     "end_time": "2022-05-25T16:59:07.873449Z",
     "start_time": "2022-05-25T16:59:07.873420Z"
    }
   },
   "outputs": [],
   "source": [
    "a = 1"
   ]
  },
  {
   "cell_type": "markdown",
   "metadata": {
    "id": "hGWjvQU7EsSP"
   },
   "source": [
    "As variáveis em Python possuem tipos. E nós veremos ao longo desse notebook os principais tipos utilizados. Mas de longe o tipo mais comum de variáveis que trabalhamos são as numéricas: Inteiras, Reais e Complexas"
   ]
  },
  {
   "cell_type": "code",
   "execution_count": null,
   "metadata": {
    "ExecuteTime": {
     "end_time": "2022-05-25T16:59:07.875183Z",
     "start_time": "2022-05-25T16:59:07.875154Z"
    },
    "id": "wqnd2JY6H4Cx"
   },
   "outputs": [],
   "source": [
    "type(a)"
   ]
  },
  {
   "cell_type": "markdown",
   "metadata": {
    "id": "S0ZvDMKGEsSP"
   },
   "source": [
    "**NOTA**: Em Python nós temos as \"funções padrões da linguagem\" que são expressões como o \"type\" acima que podem ser utilizados livremente. Note que a cor do texto muda e devemos ter cuidado para não dar nomes de variáveis que sejam nomes desses \"nomes reservados\""
   ]
  },
  {
   "cell_type": "markdown",
   "metadata": {
    "id": "7ZSSFpfAEsSP"
   },
   "source": [
    "---"
   ]
  },
  {
   "cell_type": "markdown",
   "metadata": {
    "id": "GXf67CdtEsSQ"
   },
   "source": [
    "### Inteiros "
   ]
  },
  {
   "cell_type": "markdown",
   "metadata": {
    "id": "9I772n3MEsSQ"
   },
   "source": [
    "Inteiros são os tipos mais comuns de variáveis podendo ir de $-\\infty$ a $+\\infty$, mas que não são representados com casas decimais:\n",
    "\n",
    "-100, -10, -3, -2, -1, 0, 1, 2, 3, ..."
   ]
  },
  {
   "cell_type": "code",
   "execution_count": null,
   "metadata": {
    "ExecuteTime": {
     "end_time": "2022-05-25T16:59:07.876374Z",
     "start_time": "2022-05-25T16:59:07.876359Z"
    },
    "id": "NzI99JWFH4Cy"
   },
   "outputs": [],
   "source": [
    "a = 1\n",
    "b = 2\n",
    "c = -5\n"
   ]
  },
  {
   "cell_type": "markdown",
   "metadata": {
    "id": "beqYa_VREsSQ"
   },
   "source": [
    "---"
   ]
  },
  {
   "cell_type": "markdown",
   "metadata": {
    "id": "OGvkYKhdEsSQ"
   },
   "source": [
    "### Operações "
   ]
  },
  {
   "cell_type": "markdown",
   "metadata": {
    "id": "u1K_j31FEsSQ"
   },
   "source": [
    "Números inteiros (e variáveis do python em geral) aceitam operações matemáticas "
   ]
  },
  {
   "cell_type": "markdown",
   "metadata": {
    "id": "6gm7LCYyEsSR"
   },
   "source": [
    "**Soma**"
   ]
  },
  {
   "cell_type": "code",
   "execution_count": null,
   "metadata": {
    "ExecuteTime": {
     "end_time": "2022-05-25T16:59:07.878276Z",
     "start_time": "2022-05-25T16:59:07.878240Z"
    },
    "id": "pQqOO0_mH4Cz"
   },
   "outputs": [],
   "source": [
    "1 + 1"
   ]
  },
  {
   "cell_type": "markdown",
   "metadata": {
    "id": "ibAH8guLEsSR"
   },
   "source": [
    "**Subtração**"
   ]
  },
  {
   "cell_type": "code",
   "execution_count": null,
   "metadata": {
    "ExecuteTime": {
     "end_time": "2022-05-25T16:59:07.880685Z",
     "start_time": "2022-05-25T16:59:07.880651Z"
    },
    "id": "EVRR1tY8H4Cz"
   },
   "outputs": [],
   "source": [
    "a + b"
   ]
  },
  {
   "cell_type": "code",
   "execution_count": null,
   "metadata": {
    "ExecuteTime": {
     "end_time": "2022-05-25T16:59:07.883281Z",
     "start_time": "2022-05-25T16:59:07.883246Z"
    }
   },
   "outputs": [],
   "source": [
    "c = a + b\n",
    "c"
   ]
  },
  {
   "cell_type": "code",
   "execution_count": null,
   "metadata": {
    "ExecuteTime": {
     "end_time": "2022-05-25T16:59:07.886125Z",
     "start_time": "2022-05-25T16:59:07.886113Z"
    }
   },
   "outputs": [],
   "source": [
    "c -= b\n",
    "c"
   ]
  },
  {
   "cell_type": "markdown",
   "metadata": {
    "id": "giSdr0RdEsSR"
   },
   "source": [
    "**Multiplicação**"
   ]
  },
  {
   "cell_type": "code",
   "execution_count": 3,
   "metadata": {
    "ExecuteTime": {
     "end_time": "2022-05-25T16:59:07.953046Z",
     "start_time": "2022-05-25T16:59:07.890545Z"
    },
    "id": "hiimGZTYH4C0"
   },
   "outputs": [
    {
     "data": {
      "text/plain": [
       "6"
      ]
     },
     "execution_count": 3,
     "metadata": {},
     "output_type": "execute_result"
    }
   ],
   "source": [
    "2 * 3\n"
   ]
  },
  {
   "cell_type": "code",
   "execution_count": 4,
   "metadata": {
    "ExecuteTime": {
     "end_time": "2022-05-25T16:59:08.530305Z",
     "start_time": "2022-05-25T16:59:07.954451Z"
    }
   },
   "outputs": [
    {
     "ename": "NameError",
     "evalue": "name 'c' is not defined",
     "output_type": "error",
     "traceback": [
      "\u001b[0;31m---------------------------------------------------------------------------\u001b[0m",
      "\u001b[0;31mNameError\u001b[0m                                 Traceback (most recent call last)",
      "Input \u001b[0;32mIn [4]\u001b[0m, in \u001b[0;36m<cell line: 1>\u001b[0;34m()\u001b[0m\n\u001b[0;32m----> 1\u001b[0m a \u001b[38;5;241m*\u001b[39m \u001b[43mc\u001b[49m\n",
      "\u001b[0;31mNameError\u001b[0m: name 'c' is not defined"
     ]
    }
   ],
   "source": [
    "a * c"
   ]
  },
  {
   "cell_type": "markdown",
   "metadata": {
    "id": "aRbSn73OEsSR"
   },
   "source": [
    "**Divisão**"
   ]
  },
  {
   "cell_type": "code",
   "execution_count": null,
   "metadata": {
    "ExecuteTime": {
     "end_time": "2022-05-25T16:59:08.533447Z",
     "start_time": "2022-05-25T16:59:08.533436Z"
    },
    "id": "0CNEebLRH4C0"
   },
   "outputs": [],
   "source": [
    "b / a"
   ]
  },
  {
   "cell_type": "markdown",
   "metadata": {
    "id": "KSwTfWfUEsSR"
   },
   "source": [
    "**Divisão inteira**"
   ]
  },
  {
   "cell_type": "markdown",
   "metadata": {
    "id": "MxFfUtlLEsSS"
   },
   "source": [
    "<img src=\"https://gracianotorrao.files.wordpress.com/2014/10/divisaoi.png\" />"
   ]
  },
  {
   "cell_type": "code",
   "execution_count": null,
   "metadata": {
    "ExecuteTime": {
     "end_time": "2022-05-25T16:59:08.534431Z",
     "start_time": "2022-05-25T16:59:08.534421Z"
    },
    "id": "gcgFIXbpH4C1"
   },
   "outputs": [],
   "source": [
    "17 // 2"
   ]
  },
  {
   "cell_type": "code",
   "execution_count": null,
   "metadata": {
    "ExecuteTime": {
     "end_time": "2022-05-25T16:59:08.535184Z",
     "start_time": "2022-05-25T16:59:08.535175Z"
    }
   },
   "outputs": [],
   "source": [
    "17 / 2"
   ]
  },
  {
   "cell_type": "code",
   "execution_count": null,
   "metadata": {
    "ExecuteTime": {
     "end_time": "2022-05-25T16:59:08.535776Z",
     "start_time": "2022-05-25T16:59:08.535767Z"
    }
   },
   "outputs": [],
   "source": [
    "17 % 2"
   ]
  },
  {
   "cell_type": "markdown",
   "metadata": {
    "id": "9ZTeXl9OEsSS"
   },
   "source": [
    "**Exponencial**"
   ]
  },
  {
   "cell_type": "code",
   "execution_count": null,
   "metadata": {
    "ExecuteTime": {
     "end_time": "2022-05-25T16:59:08.536322Z",
     "start_time": "2022-05-25T16:59:08.536312Z"
    },
    "id": "ax1CdHI1H4C1"
   },
   "outputs": [],
   "source": [
    "2 ** 3"
   ]
  },
  {
   "cell_type": "markdown",
   "metadata": {
    "id": "N0JUJq_LEsSS"
   },
   "source": [
    "Operações no python seguem a mesma ordem da matemática, e nós podemos utilizar parenteses para determinar a ordem das operações"
   ]
  },
  {
   "cell_type": "code",
   "execution_count": null,
   "metadata": {
    "ExecuteTime": {
     "end_time": "2022-05-25T16:59:08.538117Z",
     "start_time": "2022-05-25T16:59:08.538090Z"
    }
   },
   "outputs": [],
   "source": [
    "1 + 2 * 3"
   ]
  },
  {
   "cell_type": "code",
   "execution_count": null,
   "metadata": {
    "ExecuteTime": {
     "end_time": "2022-05-25T16:59:08.539952Z",
     "start_time": "2022-05-25T16:59:08.539928Z"
    },
    "id": "NPlR2tGzH4C1"
   },
   "outputs": [],
   "source": [
    "(1+2) * 3"
   ]
  },
  {
   "cell_type": "markdown",
   "metadata": {
    "id": "HEc0YYruEsSS"
   },
   "source": [
    "---"
   ]
  },
  {
   "cell_type": "markdown",
   "metadata": {
    "id": "-eiihRKqEsSS"
   },
   "source": [
    "### Comentários "
   ]
  },
  {
   "cell_type": "markdown",
   "metadata": {
    "id": "q8XMbdxwEsSS"
   },
   "source": [
    "Uma parte primordial de todo código é a estrutura de comentários que nos permite explicar o que cada bloco de código está fazendo com linguagem humana, para que terceiros possam entender mais facilmente o que estamos escrevendo.\n",
    "\n",
    "Python apresentar algumas sintaxes para escreve comentários"
   ]
  },
  {
   "cell_type": "markdown",
   "metadata": {
    "id": "QJvs8s5zEsSS"
   },
   "source": [
    "O #"
   ]
  },
  {
   "cell_type": "code",
   "execution_count": null,
   "metadata": {
    "ExecuteTime": {
     "end_time": "2022-05-25T16:59:08.541436Z",
     "start_time": "2022-05-25T16:59:08.541421Z"
    },
    "id": "wBVFrCllH4C2"
   },
   "outputs": [],
   "source": [
    "# Isto é um comentário\n",
    "# Isto também é um comentário\n",
    "a = 1\n"
   ]
  },
  {
   "cell_type": "markdown",
   "metadata": {
    "id": "ql_GsmNLEsST"
   },
   "source": [
    "O \"\"\" ou '''"
   ]
  },
  {
   "cell_type": "code",
   "execution_count": null,
   "metadata": {
    "ExecuteTime": {
     "end_time": "2022-05-25T16:59:08.542662Z",
     "start_time": "2022-05-25T16:59:08.542645Z"
    },
    "id": "tA-AmgmyH4C2"
   },
   "outputs": [],
   "source": [
    "\"\"\"Isto também \n",
    "\n",
    "\n",
    "\n",
    "\n",
    "é um comentário\"\"\"\n",
    "\n",
    "\"\"\"Aqui também é\"\"\"\n",
    "\n",
    "'''Mas eu não preciso me prender as \"\"\"aspas duplas\"\"\" kkk'''"
   ]
  },
  {
   "cell_type": "markdown",
   "metadata": {
    "id": "Du74fYaZEsST"
   },
   "source": [
    "---"
   ]
  },
  {
   "cell_type": "markdown",
   "metadata": {
    "id": "rE9MHGR3EsST"
   },
   "source": [
    "### Print e Input"
   ]
  },
  {
   "cell_type": "markdown",
   "metadata": {
    "id": "W-l90YDUEsST"
   },
   "source": [
    "A função print é responsável por imprimir saídas no console de Python. Apesar de não ser muito utilizada dentro do contexto do jupyter essa função é muito usada em códigos tradicionais e na maioria dos ambientes de programação de produção.\n",
    "\n",
    "Para utiliza-la é simples basta chamar "
   ]
  },
  {
   "cell_type": "code",
   "execution_count": null,
   "metadata": {
    "ExecuteTime": {
     "end_time": "2022-05-25T16:59:08.543541Z",
     "start_time": "2022-05-25T16:59:08.543527Z"
    },
    "id": "MbevIqnJH4C3"
   },
   "outputs": [],
   "source": [
    "print(\"Alguma coisa a ser impressa\")"
   ]
  },
  {
   "cell_type": "markdown",
   "metadata": {
    "id": "cYZFkkqPEsST"
   },
   "source": [
    "E o conteúdo entre \"\" será colocado no console. Além disso você pode imprimir dados específicos ou dividir suas impressões em vária pedaços utilizando a sintaxe de vírgula"
   ]
  },
  {
   "cell_type": "code",
   "execution_count": null,
   "metadata": {
    "ExecuteTime": {
     "end_time": "2022-05-25T16:59:08.544897Z",
     "start_time": "2022-05-25T16:59:08.544883Z"
    },
    "id": "OH8tfGHRH4C3"
   },
   "outputs": [],
   "source": [
    "a = 1\n",
    "b = 2\n",
    "print(\"O valor de A é \",a)\n",
    "print(\"O valor de B é \",b)\n",
    "print(\"O valor de A + B é \",a+b)\n",
    "print(\"Olá\", \"Mundo\", \"Cruel\")"
   ]
  },
  {
   "cell_type": "markdown",
   "metadata": {
    "id": "i185b5SXEsST"
   },
   "source": [
    "Por padrão a função print gerará separadores utilizando o \" \", mas você pode especificar como separar as palavras usando o argumento sep "
   ]
  },
  {
   "cell_type": "code",
   "execution_count": null,
   "metadata": {
    "ExecuteTime": {
     "end_time": "2022-05-25T16:59:08.545939Z",
     "start_time": "2022-05-25T16:59:08.545925Z"
    },
    "id": "uFEqyR6XH4C4"
   },
   "outputs": [],
   "source": [
    "print(\"Olá\", \"Mundo\", \"Cruel\",sep=\"/\")"
   ]
  },
  {
   "cell_type": "markdown",
   "metadata": {
    "id": "88gTzkMoEsST"
   },
   "source": [
    "Os textos impressos ainda aceitam caracteres especiais que utilizam a sintaxe \"\\alguma letra\""
   ]
  },
  {
   "cell_type": "code",
   "execution_count": null,
   "metadata": {
    "ExecuteTime": {
     "end_time": "2022-05-25T16:59:08.547055Z",
     "start_time": "2022-05-25T16:59:08.547041Z"
    },
    "id": "L9MnSJvsH4C4"
   },
   "outputs": [],
   "source": [
    "print(\"Olá\\nmundo\")\n"
   ]
  },
  {
   "cell_type": "markdown",
   "metadata": {
    "id": "687TUDTREsSU"
   },
   "source": [
    "Nós também podemos incorporar os valores de variáveis dentro do texto a ser imprimido utilizado a sintaxe do %"
   ]
  },
  {
   "cell_type": "code",
   "execution_count": null,
   "metadata": {
    "ExecuteTime": {
     "end_time": "2022-05-25T16:59:08.548228Z",
     "start_time": "2022-05-25T16:59:08.548214Z"
    },
    "id": "6mZR51p6H4C4"
   },
   "outputs": [],
   "source": [
    "print(\"O valor de a é %d \"% a,\"Não sei\",sep=\"|\")"
   ]
  },
  {
   "cell_type": "markdown",
   "metadata": {
    "id": "PSH7VSAGEsSU"
   },
   "source": [
    "Além de exportar informação nós também podemos receber informação por meio da função input"
   ]
  },
  {
   "cell_type": "code",
   "execution_count": null,
   "metadata": {
    "ExecuteTime": {
     "end_time": "2022-05-25T16:59:08.549385Z",
     "start_time": "2022-05-25T16:59:08.549370Z"
    },
    "id": "L5U07yvMH4C5"
   },
   "outputs": [],
   "source": [
    "print(\"O valor de a é %03d\" % 7)"
   ]
  },
  {
   "cell_type": "markdown",
   "metadata": {
    "id": "QPFhENrREsSU"
   },
   "source": [
    "A função input retornará o valor digitado que pode ser armazenado numa variável"
   ]
  },
  {
   "cell_type": "code",
   "execution_count": null,
   "metadata": {
    "ExecuteTime": {
     "end_time": "2022-05-25T16:59:08.550298Z",
     "start_time": "2022-05-25T16:59:08.550284Z"
    },
    "id": "cR9UCD6-H4C5"
   },
   "outputs": [],
   "source": [
    "input(\"Digite um valor: \")"
   ]
  },
  {
   "cell_type": "code",
   "execution_count": null,
   "metadata": {
    "ExecuteTime": {
     "end_time": "2022-05-25T16:59:08.551667Z",
     "start_time": "2022-05-25T16:59:08.551652Z"
    }
   },
   "outputs": [],
   "source": [
    "num = input(\"Digite um valor:\")"
   ]
  },
  {
   "cell_type": "markdown",
   "metadata": {
    "id": "4mGpeCKxEsSU"
   },
   "source": [
    "Entretanto note que o console não fornece um valor inteiro como estamos acostumados, mas no lugar nos devolve um valor '1'. Para obter o nosso valor de interesse precisamos fazer uma conversão de tipo"
   ]
  },
  {
   "cell_type": "code",
   "execution_count": null,
   "metadata": {
    "ExecuteTime": {
     "end_time": "2022-05-25T16:59:08.552655Z",
     "start_time": "2022-05-25T16:59:08.552641Z"
    },
    "id": "qhpylppAH4C5"
   },
   "outputs": [],
   "source": [
    "num = int(input(\"Digite um valor: \"))\n",
    "num"
   ]
  },
  {
   "cell_type": "markdown",
   "metadata": {
    "id": "MMaa2FjGEsSU"
   },
   "source": [
    "---"
   ]
  },
  {
   "cell_type": "markdown",
   "metadata": {
    "id": "kHUSs9-gEsSU"
   },
   "source": [
    "**Exercício 1**\n",
    "\n",
    "Organize os numeros 2,3,4,5,10,12 para obter a saída 18\n",
    "em uma única operação:\n",
    "\n",
    "    x = 12*3\n",
    "    x = x + 4\n",
    "    x = x//10\n",
    "    x = x*5\n",
    "    x = x - 2\n",
    "    print(x)\n"
   ]
  },
  {
   "cell_type": "code",
   "execution_count": null,
   "metadata": {
    "ExecuteTime": {
     "end_time": "2022-05-25T16:59:08.553642Z",
     "start_time": "2022-05-25T16:59:08.553627Z"
    },
    "id": "JoSSIaoUEsSV",
    "solution2": "shown",
    "solution2_first": true
   },
   "outputs": [],
   "source": [
    "#x = 12*3 # 36\n",
    "#x = 36*5 # 180\n",
    "#x = x//10 # 18\n",
    "x = (12 * 3 + 4) // 10 * 5 - 2\n",
    "print(x)\n"
   ]
  },
  {
   "cell_type": "code",
   "execution_count": null,
   "metadata": {
    "ExecuteTime": {
     "end_time": "2022-05-25T16:59:08.554552Z",
     "start_time": "2022-05-25T16:59:08.554538Z"
    },
    "cellView": "form",
    "id": "4wSqByMLEsSU",
    "solution2": "shown"
   },
   "outputs": [],
   "source": [
    "#@title Resposta\n",
    "x = (12 * 3 + 4) // 10 * 5 - 2\n",
    "print(x)"
   ]
  },
  {
   "cell_type": "markdown",
   "metadata": {
    "id": "av6-ODamEsSV"
   },
   "source": [
    "**Exercício 2**\n",
    "\n",
    "Escreva um Programa que imprime dois numeros de sua escolha\n",
    "e que depois imprime a soma, a subtração, a multiplicação,\n",
    "a divisão normal e a divisão inteira,\n",
    "e o resto da divisão do maior pelo menor\n",
    "(coloque na mensagem a palavra resto ao invez do símbolo %)\n",
    "\n",
    "EXEMPLO DE SAÍDA:\n",
    "\n",
    "x = 15; y = 10\n",
    "\n",
    "    15 + 10 = 25\n",
    "    15 - 10 = 5\n",
    "    15 x 10 = 150\n",
    "    15 / 10 = 1.5\n",
    "    15 // 10 = 1\n",
    "    15 resto 10 = 5\n"
   ]
  },
  {
   "cell_type": "code",
   "execution_count": null,
   "metadata": {
    "ExecuteTime": {
     "end_time": "2022-05-25T16:59:08.555674Z",
     "start_time": "2022-05-25T16:59:08.555660Z"
    },
    "id": "PCk7m6AUEsSV",
    "solution2": "shown",
    "solution2_first": true
   },
   "outputs": [],
   "source": [
    "x = int(input(\"Digite o valor de x: \"))\n",
    "y = int(input(\"Digite o valor de y: \"))\n",
    "print(\"x = 10; y= 20\")\n",
    "print(\"x + y = \",x+y)\n",
    "print(\"x - y = \",x-y)\n",
    "print(\"x * y = \",x*y)\n",
    "print(\"x / y = \",x / y)\n",
    "print(\"x // y = \",x // y)\n",
    "print(\"x resto y = \",x % y)\n"
   ]
  },
  {
   "cell_type": "code",
   "execution_count": null,
   "metadata": {
    "ExecuteTime": {
     "end_time": "2022-05-25T16:59:08.556910Z",
     "start_time": "2022-05-25T16:59:08.556896Z"
    },
    "cellView": "form",
    "id": "-xG22c6WEsSV",
    "solution2": "shown"
   },
   "outputs": [],
   "source": [
    "#@title Resposta\n",
    "x = int(input(\"Digite o valor de x: \"))\n",
    "y = int(input(\"Digite o valor de y: \"))\n",
    "\n",
    "print(\"x =\", x, \"\\ny =\", y)\n",
    "print(x, \"+\", y, \"=\", x + y)\n",
    "print(x, \"-\", y, \"=\", x - y)\n",
    "print(x, \"x\", y, \"=\", x * y)\n",
    "print(x, \"/\", y, \"=\", x / y)\n",
    "print(x, \"//\", y, \"=\", x // y)\n",
    "print(x, \"resto\", y, \"=\", x % y)"
   ]
  },
  {
   "cell_type": "markdown",
   "metadata": {
    "id": "UZfkST2hEsSV"
   },
   "source": [
    "---"
   ]
  },
  {
   "cell_type": "markdown",
   "metadata": {
    "id": "Mu6uXNvpEsSV"
   },
   "source": [
    "## Controladores de Fluxo "
   ]
  },
  {
   "cell_type": "markdown",
   "metadata": {
    "id": "EIjHj4erEsSV"
   },
   "source": [
    "### Estruturas de Decisão "
   ]
  },
  {
   "cell_type": "markdown",
   "metadata": {
    "id": "nP-YvDmTEsSV"
   },
   "source": [
    "#### Variáveis Booleanas"
   ]
  },
  {
   "cell_type": "markdown",
   "metadata": {
    "id": "lJ8WcHKTEsSW"
   },
   "source": [
    "Além das variáveis de tipo inteiro nós temos outros tipos como as variáveis booleanas que são representações de valores binários de Verdadeiro e Falso (True e False respectivamente)"
   ]
  },
  {
   "cell_type": "code",
   "execution_count": null,
   "metadata": {
    "ExecuteTime": {
     "end_time": "2022-05-25T16:59:08.557879Z",
     "start_time": "2022-05-25T16:59:08.557865Z"
    },
    "id": "L-fdaaNGH4C8"
   },
   "outputs": [],
   "source": [
    "verdadeiro = True\n",
    "falso = False\n"
   ]
  },
  {
   "cell_type": "markdown",
   "metadata": {
    "id": "FYghuLUYEsSW"
   },
   "source": [
    "As variáveis booleanas são resultados de comparações entre diferentes valores que avaliam uma determinada expressão"
   ]
  },
  {
   "cell_type": "code",
   "execution_count": null,
   "metadata": {
    "ExecuteTime": {
     "end_time": "2022-05-25T16:59:08.559034Z",
     "start_time": "2022-05-25T16:59:08.559020Z"
    },
    "id": "lMLsBoe4H4C8"
   },
   "outputs": [],
   "source": [
    "a = 2\n",
    "a > 1"
   ]
  },
  {
   "cell_type": "markdown",
   "metadata": {
    "id": "EFomP8mhEsSW"
   },
   "source": [
    "Veja que o resultado da expressão a > 1 é um valor booleano nos dizendo que o valor de a, 2, é de fato maior do que 1. De forma análoga temos todas as expressões comparativas conhecidas"
   ]
  },
  {
   "cell_type": "code",
   "execution_count": null,
   "metadata": {
    "id": "JDyykCmzH4C8"
   },
   "outputs": [],
   "source": []
  },
  {
   "cell_type": "markdown",
   "metadata": {
    "id": "dEyrGg2uEsSW"
   },
   "source": [
    "Podemos também concatenar expressões utilizando os operadores lógico and, or e not"
   ]
  },
  {
   "cell_type": "markdown",
   "metadata": {
    "id": "OJrD61b4EsSW"
   },
   "source": [
    "AND: Só é verdadeiro quando as duas expressões são verdadeiras"
   ]
  },
  {
   "cell_type": "code",
   "execution_count": null,
   "metadata": {
    "id": "XP6Tf3bDH4C9"
   },
   "outputs": [],
   "source": []
  },
  {
   "cell_type": "markdown",
   "metadata": {
    "id": "zqgEVUMgEsSW"
   },
   "source": [
    "OR: É verdadeiro quando uma das expressões é verdadeira"
   ]
  },
  {
   "cell_type": "code",
   "execution_count": null,
   "metadata": {
    "id": "p7q0jqePH4C9"
   },
   "outputs": [],
   "source": []
  },
  {
   "cell_type": "markdown",
   "metadata": {
    "id": "s-LIah4CEsSW"
   },
   "source": [
    "NOT: Inverte o resultado de uma comparação"
   ]
  },
  {
   "cell_type": "code",
   "execution_count": null,
   "metadata": {
    "id": "GjNRUY0mH4C9"
   },
   "outputs": [],
   "source": []
  },
  {
   "cell_type": "markdown",
   "metadata": {
    "id": "xs_Ip0FQEsSX"
   },
   "source": [
    "#### If / Elif / Else "
   ]
  },
  {
   "cell_type": "markdown",
   "metadata": {
    "id": "D_vLF-51EsSX"
   },
   "source": [
    "Booleanos sozinhos não adicionam muito aos nosso programas, mas estruturas de decisão sim, uma vez que as mesmas podem alterar o andamento do código e executar determinados blocos de acordo com as condições especificadas"
   ]
  },
  {
   "cell_type": "code",
   "execution_count": null,
   "metadata": {
    "ExecuteTime": {
     "end_time": "2022-05-25T16:59:08.560036Z",
     "start_time": "2022-05-25T16:59:08.560022Z"
    },
    "id": "CqgiNqLnH4C-"
   },
   "outputs": [],
   "source": [
    "idade = int(input(\"Qual a sua idade? \"))\n",
    "if idade >= 18:\n",
    "    print(\"Hora de encher a cara\")\n",
    "else:\n",
    "    print(\"Fim\")"
   ]
  },
  {
   "cell_type": "code",
   "execution_count": null,
   "metadata": {
    "ExecuteTime": {
     "end_time": "2022-05-25T16:59:08.561236Z",
     "start_time": "2022-05-25T16:59:08.561222Z"
    }
   },
   "outputs": [],
   "source": [
    "idade = int(input(\"Qual a sua idade? \"))\n",
    "if idade >= 18:\n",
    "    print(\"Hora de encher a cara\")\n",
    "else:\n",
    "    print(\"Pra você só toddynho\")"
   ]
  },
  {
   "cell_type": "code",
   "execution_count": null,
   "metadata": {
    "ExecuteTime": {
     "end_time": "2022-05-25T16:59:08.562257Z",
     "start_time": "2022-05-25T16:59:08.562242Z"
    }
   },
   "outputs": [],
   "source": [
    "idade = int(input(\"Qual a sua idade? \"))\n",
    "if idade >= 65:\n",
    "    print(\"Da pra pegar o busão de graça\")\n",
    "elif idade >= 18:\n",
    "    print(\"Hora de encher a cara\")\n",
    "else:\n",
    "    print(\"Pra você só toddynho\")"
   ]
  },
  {
   "cell_type": "markdown",
   "metadata": {
    "id": "Rw2UulO8EsSX"
   },
   "source": [
    "---"
   ]
  },
  {
   "cell_type": "markdown",
   "metadata": {
    "id": "c4hELKLWEsSX"
   },
   "source": [
    "**Exercício 3**\n",
    "\n",
    "Faça um Programa para uma loja de tintas.\n",
    "\n",
    "O programa deverá pedir o tamanho em metros quadrados da área a ser pintada.\n",
    "Considere que a cobertura da tinta é de 1 litro para cada 6 metros quadrados\n",
    "e que a tinta é vendida em latas de 18 litros, que custam R\\\\$ 80,00 ou\n",
    "em galões de 4 litros, que custam R\\\\$ 25,00.\n",
    "\n",
    "Informe ao usuário as quantidades de tinta a serem compradas e os respectivos\n",
    "preços em 3 situações:\n",
    "    comprar apenas latas de 18 litros;\n",
    "    comprar apenas galões de 4 litros;\n",
    "    misturar latas e galões, de forma que o preço seja o menor."
   ]
  },
  {
   "cell_type": "code",
   "execution_count": null,
   "metadata": {
    "ExecuteTime": {
     "end_time": "2022-05-25T16:59:08.563281Z",
     "start_time": "2022-05-25T16:59:08.563267Z"
    },
    "id": "IbScKN9dEsSX",
    "solution2": "shown",
    "solution2_first": true
   },
   "outputs": [],
   "source": [
    "area = int(input(\"Qual a área que deseja ser pintada ?\"))\n",
    "litros_tinta = (area // 6)\n",
    "if area % 6 <= 5 and area % 6 != 0:\n",
    "    litros_tinta = litros_tinta + 1\n",
    "\n",
    "print(\"Litros necessários:\", litros_tinta, \"\\n\")\n",
    "\n",
    "print(\"Utilizando apenas latas de 18 litros: \")\n",
    "valor = 1\n",
    "if litros_tinta <= 18:\n",
    "    valor = 1\n",
    "    print(\"Usará uma lata de 18 litros no valor de 80 reais\")\n",
    "elif litros_tinta > 18:\n",
    "    valor = valor + litros_tinta // 18\n",
    "    print(\"Usará %d latas de 18 litros no valor de %d reais\" % (valor,valor*80))\n",
    "    \n",
    "print(\"Utilizando apenas latas de 4 litros: \")\n",
    "valor = 1\n",
    "if litros_tinta <= 4:\n",
    "    valor = 1\n",
    "    print(\"Usará uma lata de 18 litros no valor de 25 reais\")\n",
    "elif litros_tinta > 4:\n",
    "    valor = valor + litros_tinta // 4\n",
    "    print(\"Usará %d latas de 4 litros no valor de %d reais\" % (valor, valor*25))\n",
    "    \n",
    "print(\"Utilizando os dois tipos de latas: \")\n",
    "\n",
    "latas = litros_tinta // 18\n",
    "galoes = 0\n",
    "litros_restantes = litros_tinta % 18\n",
    "\n",
    "if litros_restantes <= 3 * 4:\n",
    "    galoes = litros_restantes // 4\n",
    "    if litros_restantes % 4 > 0:\n",
    "        galoes += 1\n",
    "else:\n",
    "    latas += 1\n",
    "print(\"Serão necessárias\", latas, \"latas\")\n",
    "print(\"Serão necessárias\", galoes, \"galoes\")\n",
    "print(\"Obteremos\", latas * 18 + galoes * 4, \"litros\")\n",
    "print(\"Total: R$\", galoes * 25 + latas * 80)\n",
    "        \n",
    "    \n",
    "\n",
    "\n"
   ]
  },
  {
   "cell_type": "code",
   "execution_count": null,
   "metadata": {
    "ExecuteTime": {
     "end_time": "2022-05-25T16:59:08.564459Z",
     "start_time": "2022-05-25T16:59:08.564445Z"
    },
    "cellView": "form",
    "id": "q1afgGjlEsSX",
    "solution2": "shown"
   },
   "outputs": [],
   "source": [
    "#@title Resposta\n",
    "# insira o valor da área aqui\n",
    "area = int(input(\"Insira o valor da área: \"))\n",
    "\n",
    "# Vamos calcular o numero de litros necessários para pintar a casa\n",
    "litros = area // 6\n",
    "if area % 6 > 0:\n",
    "    litros = litros + 1\n",
    "\n",
    "print(\"Litros necessários:\", litros, \"\\n\")\n",
    "\n",
    "print(\"1) comprar apenas latas de 18 litros\")\n",
    "latas = litros // 18\n",
    "if litros % 18 > 0:\n",
    "    latas = latas + 1\n",
    "\n",
    "print(\"Serão necessárias\", latas, \"latas\")\n",
    "print(\"Obteremos\", latas * 18, \"litros\")\n",
    "print(\"Total: R$\", latas * 80)\n",
    "\n",
    "print(\"\\n2)Comprar apenas galões de 4 litros\")\n",
    "galoes = litros//4\n",
    "if litros % 4 > 0:\n",
    "    galoes = galoes + 1\n",
    "\n",
    "print(\"Serão necessárias\", galoes, \"galoes\")\n",
    "print(\"Obteremos\", galoes * 4, \"litros\")\n",
    "print(\"Total: R$\", galoes * 25)\n",
    "\n",
    "# Vamos pensar, o preço total por litro pago nas latas é 80/18 ~ 4.44 R$/L\n",
    "# enquanto que para o gualão é 25/4 ~ 6.25 R$/L\n",
    "# portanto é sempre mais vantajoso comprar o máximo de latas possíveis\n",
    "# e o mínimo de galões, desde que o preço desses galoes não ultrapasse o preço\n",
    "# de uma lata, isto é, o numero de galoes seja menor ou igual a 3 (R$ 75)\n",
    "print(\"\\n3)Misturar latas e galões, de forma que o preço seja o menor.\")\n",
    "latas = litros // 18\n",
    "galoes = 0\n",
    "litros_restantes = litros % 18\n",
    "\n",
    "if litros_restantes <= 3 * 4:\n",
    "    # Ou seja o numero de galoes necessarios seja menor do que três\n",
    "    galoes = litros_restantes // 4\n",
    "    if litros_restantes % 4 > 0:\n",
    "        galoes += 1\n",
    "else:\n",
    "    latas += 1\n",
    "\n",
    "print(\"Serão necessárias\", latas, \"latas\")\n",
    "print(\"Serão necessárias\", galoes, \"galoes\")\n",
    "print(\"Obteremos\", latas * 18 + galoes * 4, \"litros\")\n",
    "print(\"Total: R$\", galoes * 25 + latas * 80)"
   ]
  },
  {
   "cell_type": "markdown",
   "metadata": {
    "id": "Q21r8Mc_EsSY"
   },
   "source": [
    "---"
   ]
  },
  {
   "cell_type": "markdown",
   "metadata": {
    "id": "52L348CYEsSY"
   },
   "source": [
    "### Estruturas de Repetição "
   ]
  },
  {
   "cell_type": "markdown",
   "metadata": {
    "id": "LxjYJXvrEsSY"
   },
   "source": [
    "Estruturas de repetição são cruciais em qualquer linguagem de programação porque permitem que determinados blocos de código sejam executados múltiplas vezes. É justamente esse tipo de estrutura que evita que tenhamos que escrever o mesmo código repetidas vezes para se atingir um determinado resultado"
   ]
  },
  {
   "cell_type": "markdown",
   "metadata": {
    "id": "R1aTgnkqEsSY"
   },
   "source": [
    "#### While "
   ]
  },
  {
   "cell_type": "markdown",
   "metadata": {
    "id": "3yz1xcsBEsSY"
   },
   "source": [
    "O bloco while é utilizado para executar um determinado bloco de código ENQUANTO (while em português) uma condição seja verdadeira"
   ]
  },
  {
   "cell_type": "code",
   "execution_count": null,
   "metadata": {
    "ExecuteTime": {
     "end_time": "2022-05-25T16:59:08.565303Z",
     "start_time": "2022-05-25T16:59:08.565289Z"
    },
    "id": "BBLXZBiCH4C_"
   },
   "outputs": [],
   "source": [
    "a = 0\n",
    "while a < 5:\n",
    "    print(a)\n",
    "    a += 1"
   ]
  },
  {
   "cell_type": "markdown",
   "metadata": {
    "id": "G8Nz910lEsSY"
   },
   "source": [
    "É preciso ser muito cuidadoso, entretanto com laços infinitos, uma vez que seu programa travará caso você faça isso, entretanto é relativamente comum seu uso por exemplo em jogos ou em aps iterativos de uso contínuo"
   ]
  },
  {
   "cell_type": "code",
   "execution_count": null,
   "metadata": {
    "ExecuteTime": {
     "end_time": "2022-05-25T16:59:08.566309Z",
     "start_time": "2022-05-25T16:59:08.566295Z"
    },
    "id": "Jq45eYkmH4DA"
   },
   "outputs": [],
   "source": [
    "a = 0\n",
    "while a < 5:\n",
    "    print(a)  # dessa forma ele nunca para de atualizar e faz um while infinito\n",
    "    "
   ]
  },
  {
   "cell_type": "markdown",
   "metadata": {
    "id": "RSEyg3JZEsSY"
   },
   "source": [
    "---"
   ]
  },
  {
   "cell_type": "markdown",
   "metadata": {
    "id": "Wb3Ik4XAEsSY"
   },
   "source": [
    "**Exercício 4**\n",
    "\n",
    "Dizemos que um inteiro positivo n é perfeito se for igual à soma de\n",
    "seus divisores positivos diferentes de n.\n",
    "\n",
    "Exemplo: 6 é perfeito, pois 1+2+3 = 6.\n",
    "       \n",
    "Dado um inteiro positivo n, verificar se n é perfeito."
   ]
  },
  {
   "cell_type": "code",
   "execution_count": null,
   "metadata": {
    "ExecuteTime": {
     "end_time": "2022-05-25T16:59:08.567235Z",
     "start_time": "2022-05-25T16:59:08.567221Z"
    },
    "id": "zbBwsh6fEsSZ",
    "solution2": "shown",
    "solution2_first": true
   },
   "outputs": [],
   "source": [
    "n = int(input(\"Digite um número N: \"))\n",
    "cont = 2\n",
    "soma = 1\n",
    "while cont < n:\n",
    "    a += 1\n",
    "    if (n % cont == 0):\n",
    "        soma+=cont\n",
    "    cont+= 1\n",
    "if soma == n:\n",
    "    print(\"O número\",n, \"é perfeito\")\n",
    "else:\n",
    "    print(\"O número\",n, \"não é perfeito\")\n",
    "    \n"
   ]
  },
  {
   "cell_type": "code",
   "execution_count": null,
   "metadata": {
    "ExecuteTime": {
     "end_time": "2022-05-25T16:59:08.568366Z",
     "start_time": "2022-05-25T16:59:08.568351Z"
    },
    "cellView": "form",
    "id": "WyhL8h8TEsSY",
    "solution2": "shown"
   },
   "outputs": [],
   "source": [
    "#@title Resposta\n",
    "n = int(input(\"Digite o valor de n: \"))\n",
    "\n",
    "cont, soma = 2, 1\n",
    "while cont < n:\n",
    "    if n % cont == 0:\n",
    "        soma += cont\n",
    "    cont += 1\n",
    "\n",
    "if soma == n:\n",
    "    print (\"O número\", n, \"é perfeito\")\n",
    "else:\n",
    "    print (\"O número\", n, \"não é perfeito\")"
   ]
  },
  {
   "cell_type": "markdown",
   "metadata": {
    "id": "wnNmqU-oEsSZ"
   },
   "source": [
    "---"
   ]
  },
  {
   "cell_type": "markdown",
   "metadata": {
    "id": "ZwghVaW6EsSZ"
   },
   "source": [
    "#### For "
   ]
  },
  {
   "cell_type": "markdown",
   "metadata": {
    "id": "0WaNYgVBEsSZ"
   },
   "source": [
    "Laços for, diferente do while, percorrem uma lista de itens em particular combinados com a expressão in. Esses laços são muito usados com listas (que veremos mais a frente), mas também com objetos \"range\""
   ]
  },
  {
   "cell_type": "code",
   "execution_count": null,
   "metadata": {
    "ExecuteTime": {
     "end_time": "2022-05-25T16:59:08.569387Z",
     "start_time": "2022-05-25T16:59:08.569372Z"
    },
    "id": "PsdmS8eUH4DB"
   },
   "outputs": [],
   "source": [
    "for a in range (5):\n",
    "    print(a)\n",
    "    "
   ]
  },
  {
   "cell_type": "markdown",
   "metadata": {
    "id": "ja1acPdGEsSZ"
   },
   "source": [
    "---"
   ]
  },
  {
   "cell_type": "code",
   "execution_count": null,
   "metadata": {
    "ExecuteTime": {
     "end_time": "2022-05-25T16:59:08.570365Z",
     "start_time": "2022-05-25T16:59:08.570352Z"
    }
   },
   "outputs": [],
   "source": [
    "# começo = 0 inclusivo\n",
    "# fim = não incluso\n",
    "# passo = 1\n",
    "for a in range(0,5,2):\n",
    "    print(a)"
   ]
  },
  {
   "cell_type": "markdown",
   "metadata": {
    "id": "Wgjwv2tOEsSZ"
   },
   "source": [
    "**Exercício 5**\n",
    "\n",
    "Sabe-se que um número da forma n^3 é igual a soma de n ímpares consecutivos.\n",
    "\n",
    "Exemplo: 1^3= 1, 2^3= 3+5, 3^3= 7+9+11,  4^3= 13+15+17+19,...\n",
    "\n",
    "Dado m, determine os ímpares consecutivos cuja soma é igual a n^3 para n\n",
    "assumindo valores de 1 a m. "
   ]
  },
  {
   "cell_type": "code",
   "execution_count": null,
   "metadata": {
    "ExecuteTime": {
     "end_time": "2022-05-25T16:59:08.571608Z",
     "start_time": "2022-05-25T16:59:08.571594Z"
    },
    "id": "P59L6OVsEsSZ",
    "solution2": "hidden",
    "solution2_first": true
   },
   "outputs": [],
   "source": [
    "m = int(input(\"Digite um valor m: \"))\n",
    "for n in range(1,m+1):\n",
    "    soma, inicio = 0,1\n",
    "    while soma != n*n*n:\n",
    "        soma = 0\n",
    "        for i in range(n):\n",
    "            soma =soma + inicio + 2 * i\n",
    "        inicio += 2 \n",
    "        \n",
    "    inicio = inicio - 2\n",
    "    print(\"%d*%d*%d = \" %(n,n,n))\n",
    "    for i in range(n):\n",
    "        print(\"+\", inicio + 2 * i)\n",
    "    print(\"\\n\")\n",
    "    "
   ]
  },
  {
   "cell_type": "code",
   "execution_count": null,
   "metadata": {
    "ExecuteTime": {
     "end_time": "2022-05-25T16:59:08.572535Z",
     "start_time": "2022-05-25T16:59:08.572522Z"
    },
    "cellView": "form",
    "id": "JMc2yPedEsSZ",
    "outputId": "7775cbf2-9d8c-40d6-cd1f-f289260633f1",
    "solution2": "hidden"
   },
   "outputs": [],
   "source": [
    "#@title Resposta\n",
    "m = int(input(\"Digite o valor de m: \"))\n",
    "for n in range(1, m+1):\n",
    "    soma, inicio = 0, 1\n",
    "    while soma != n*n*n:\n",
    "        soma = 0\n",
    "        for i in range(n):\n",
    "            soma = soma + inicio + 2 * i\n",
    "        inicio += 2\n",
    "\n",
    "    inicio = inicio - 2\n",
    "    print(\"%d*%d*%d = \" % (n, n, n))\n",
    "    for i in range(n):\n",
    "        print(\"+\", inicio + 2 * i)\n",
    "    print(\"\\n\")"
   ]
  },
  {
   "cell_type": "markdown",
   "metadata": {
    "id": "VOzR47y9EsSZ"
   },
   "source": [
    "---"
   ]
  },
  {
   "cell_type": "markdown",
   "metadata": {
    "id": "nBhOdYBaEsSZ"
   },
   "source": [
    "#### Break e Continue"
   ]
  },
  {
   "cell_type": "markdown",
   "metadata": {
    "id": "SA7YxCleEsSZ"
   },
   "source": [
    "As expressões break e continue são controladores de fluxo que permitem alterar como um determinado loop funciona"
   ]
  },
  {
   "cell_type": "code",
   "execution_count": null,
   "metadata": {
    "ExecuteTime": {
     "end_time": "2022-05-25T16:59:08.573944Z",
     "start_time": "2022-05-25T16:59:08.573931Z"
    },
    "id": "WwytqKj8H4DD"
   },
   "outputs": [],
   "source": [
    "for i in range(5):\n",
    "    if i == 3:\n",
    "        break\n",
    "    print(i)\n"
   ]
  },
  {
   "cell_type": "code",
   "execution_count": null,
   "metadata": {
    "ExecuteTime": {
     "end_time": "2022-05-25T16:59:08.574910Z",
     "start_time": "2022-05-25T16:59:08.574897Z"
    }
   },
   "outputs": [],
   "source": [
    "for i in range(5):\n",
    "    if i == 3:\n",
    "        continue\n",
    "    print(i)"
   ]
  },
  {
   "cell_type": "markdown",
   "metadata": {
    "id": "QHjtbyQkEsSa"
   },
   "source": [
    "---"
   ]
  },
  {
   "cell_type": "markdown",
   "metadata": {
    "id": "pIXXnKT6EsSa"
   },
   "source": [
    "**Exercício 6**\n",
    "\n",
    "Escreva o jogo do chute.\n",
    "\n",
    "\n",
    "Nele, dado um número inteiro entre 1 e 100, você deve pedir\n",
    "para o usuário advinhar o número que você escolheu\n",
    "\n",
    "Para cada chute do usuário você deve imprimir uma dica, se\n",
    "ele chutou baixo de mais ou alto demais\n",
    "\n",
    "Uma vez que o usuário acerte o chute o programa imprime uma\n",
    "mensagem e também o número de chutes que o usuário deu\n",
    "\n",
    "OBS: Use o statement break\n",
    "\n",
    "Exemplo:\n",
    "\n",
    "    Tente advinhar o número que eu estou pensando\n",
    "    Seu Chute: 50\n",
    "    Você deve chutar mais alto!\n",
    "    Seu Chute: 75\n",
    "    Você deve chutar mais alto!\n",
    "    Seu Chute: 87\n",
    "    Você deve chutar mais alto!\n",
    "    Seu Chute: 93\n",
    "    Você deve chutar mais alto!\n",
    "    Seu Chute: 97\n",
    "    Você deve chutar mais baixo!\n",
    "    Seu Chute: 95\n",
    "    Parabens você acertou!!\n",
    "    Você chutou 6 vezes"
   ]
  },
  {
   "cell_type": "code",
   "execution_count": null,
   "metadata": {
    "ExecuteTime": {
     "end_time": "2022-05-25T16:59:08.575918Z",
     "start_time": "2022-05-25T16:59:08.575905Z"
    },
    "id": "fpfh7ZUFEsSa",
    "solution2": "hidden",
    "solution2_first": true
   },
   "outputs": [],
   "source": [
    "import random\n",
    "maquina_escolha = random.randint(1, 100)\n",
    "# print(\"A escolha da maquina foi: \",maquina_escolha)\n",
    "print(\"Tente advinhar o número que eu estou pensando\")\n",
    "\n",
    "tentativa = 0\n",
    "while True:\n",
    "    escolha = int(input(\"Digite seu chute: \"))\n",
    "    tentativa += 1\n",
    "    if escolha == maquina_escolha:\n",
    "        break\n",
    "    elif escolha < maquina_escolha:\n",
    "        print(\"Você deve chutar mais alto!\")\n",
    "    else:\n",
    "        print(\"Você deve chtar mais baixo\")\n",
    "        \n",
    "print(\"Você acertou, Parabéns!\")\n",
    "print(\"Você tentou %i vezes\" %(tentativa))\n",
    "    \n"
   ]
  },
  {
   "cell_type": "code",
   "execution_count": null,
   "metadata": {
    "ExecuteTime": {
     "end_time": "2022-05-25T16:59:08.576662Z",
     "start_time": "2022-05-25T16:59:08.576648Z"
    },
    "cellView": "form",
    "id": "xwtlFMoSEsSa",
    "solution2": "hidden"
   },
   "outputs": [],
   "source": [
    "#@title Resposta\n",
    "num = 37\n",
    "\n",
    "chutes = 0\n",
    "\n",
    "print(\"Tente advinhar o número que eu estou pensando\")\n",
    "\n",
    "while True:\n",
    "    chute = int(input(\"Seu Chute: \"))\n",
    "    chutes += 1\n",
    "    if chute == num:\n",
    "        break\n",
    "    elif chute < num:\n",
    "        print(\"Você deve chutar mais alto!\")\n",
    "    else:\n",
    "        print(\"Você deve chutar mais baixo!\")\n",
    "\n",
    "\n",
    "print(\"Parabens você acertou!!\")\n",
    "print(\"Você chutou %i vezes\"%chutes)"
   ]
  },
  {
   "cell_type": "markdown",
   "metadata": {
    "id": "2BnwrJgkEsSa"
   },
   "source": [
    "---"
   ]
  },
  {
   "cell_type": "markdown",
   "metadata": {
    "id": "9ixwrbQKEsSa"
   },
   "source": [
    "## Tipos de Variáveis"
   ]
  },
  {
   "cell_type": "markdown",
   "metadata": {
    "id": "G55O_P2dEsSa"
   },
   "source": [
    "### Variáveis Numéricas "
   ]
  },
  {
   "cell_type": "markdown",
   "metadata": {
    "id": "KWCXzuWDEsSa"
   },
   "source": [
    "#### Reais"
   ]
  },
  {
   "cell_type": "markdown",
   "metadata": {
    "id": "jqSo-qI4EsSa"
   },
   "source": [
    "Números reais são iguais a números inteiros, exceto que possuem casas decimais representadas por ."
   ]
  },
  {
   "cell_type": "code",
   "execution_count": null,
   "metadata": {
    "ExecuteTime": {
     "end_time": "2022-05-25T16:59:08.577517Z",
     "start_time": "2022-05-25T16:59:08.577504Z"
    },
    "id": "DDQCbOwMH4DE"
   },
   "outputs": [],
   "source": [
    "a = 1.1\n",
    "b = 1.0\n",
    "c = 2.\n",
    "d = .27\n"
   ]
  },
  {
   "cell_type": "markdown",
   "metadata": {
    "id": "Q4Kn99wJEsSa",
    "solution": "hidden",
    "solution_first": true
   },
   "source": [
    "Podemos converter números reais para inteiros e vice-versa utilizando operações matemáticas, na qual, por padrão, sempre converteremos o resultado da operação para um valor real."
   ]
  },
  {
   "cell_type": "code",
   "execution_count": null,
   "metadata": {
    "ExecuteTime": {
     "end_time": "2022-05-25T16:59:08.578401Z",
     "start_time": "2022-05-25T16:59:08.578387Z"
    },
    "id": "0FieJ7B7H4DE"
   },
   "outputs": [],
   "source": [
    "1.1 * 2"
   ]
  },
  {
   "cell_type": "code",
   "execution_count": null,
   "metadata": {
    "ExecuteTime": {
     "end_time": "2022-05-25T16:59:08.579482Z",
     "start_time": "2022-05-25T16:59:08.579469Z"
    }
   },
   "outputs": [],
   "source": [
    "4.3 // 3"
   ]
  },
  {
   "cell_type": "markdown",
   "metadata": {
    "id": "Ky6aDs5BEsSb"
   },
   "source": [
    "As funções float e int.\n",
    "\n",
    "É importante notar que a função int não arredonda o número real, ela apenas pega o valor da representação numérica inteira do número"
   ]
  },
  {
   "cell_type": "code",
   "execution_count": null,
   "metadata": {
    "ExecuteTime": {
     "end_time": "2022-05-25T16:59:08.580553Z",
     "start_time": "2022-05-25T16:59:08.580540Z"
    },
    "id": "BpFvKzIAH4DF"
   },
   "outputs": [],
   "source": [
    "float(2)"
   ]
  },
  {
   "cell_type": "code",
   "execution_count": null,
   "metadata": {
    "ExecuteTime": {
     "end_time": "2022-05-25T16:59:08.581511Z",
     "start_time": "2022-05-25T16:59:08.581498Z"
    }
   },
   "outputs": [],
   "source": [
    "float(\"2.3\")"
   ]
  },
  {
   "cell_type": "markdown",
   "metadata": {
    "id": "N8GktGYMEsSb"
   },
   "source": [
    "E a função round"
   ]
  },
  {
   "cell_type": "code",
   "execution_count": null,
   "metadata": {
    "ExecuteTime": {
     "end_time": "2022-05-25T16:59:08.582529Z",
     "start_time": "2022-05-25T16:59:08.582516Z"
    },
    "id": "fS9OpkCGH4DF"
   },
   "outputs": [],
   "source": [
    "round(2.6)"
   ]
  },
  {
   "cell_type": "code",
   "execution_count": null,
   "metadata": {
    "ExecuteTime": {
     "end_time": "2022-05-25T16:59:08.583501Z",
     "start_time": "2022-05-25T16:59:08.583488Z"
    }
   },
   "outputs": [],
   "source": [
    "round(3.4567,2)"
   ]
  },
  {
   "cell_type": "markdown",
   "metadata": {
    "id": "rPO9tZOGEsSb"
   },
   "source": [
    "Nas funções de print podemos formatar números inteiros"
   ]
  },
  {
   "cell_type": "code",
   "execution_count": null,
   "metadata": {
    "ExecuteTime": {
     "end_time": "2022-05-25T16:59:08.584353Z",
     "start_time": "2022-05-25T16:59:08.584343Z"
    },
    "id": "Me1kF6KVH4DF"
   },
   "outputs": [],
   "source": [
    "print(\"Numero real\",2.3)"
   ]
  },
  {
   "cell_type": "code",
   "execution_count": null,
   "metadata": {
    "ExecuteTime": {
     "end_time": "2022-05-25T16:59:08.584889Z",
     "start_time": "2022-05-25T16:59:08.584879Z"
    }
   },
   "outputs": [],
   "source": [
    "print(\"NUmero real %f\" % 2.3)"
   ]
  },
  {
   "cell_type": "code",
   "execution_count": null,
   "metadata": {
    "ExecuteTime": {
     "end_time": "2022-05-25T16:59:08.585456Z",
     "start_time": "2022-05-25T16:59:08.585446Z"
    }
   },
   "outputs": [],
   "source": [
    "print(\"Numero real %.2f\" %2.34565)"
   ]
  },
  {
   "cell_type": "markdown",
   "metadata": {
    "id": "CArU9Qh6EsSb"
   },
   "source": [
    "---"
   ]
  },
  {
   "cell_type": "markdown",
   "metadata": {
    "id": "pRw5ppU7EsSb"
   },
   "source": [
    "**Exercício 7**"
   ]
  },
  {
   "cell_type": "markdown",
   "metadata": {
    "id": "bzEGXoyPEsSb"
   },
   "source": [
    "Tendo como dados de entrada a altura e o sexo de uma pessoa, construa um algoritmo que calcule seu peso ideal, utilizando as seguintes fórmulas:\n",
    "\n",
    "Para homens: (72.7*h) - 58\n",
    "\n",
    "Para mulheres: (62.1*h) - 44.7 (h = altura)\n",
    "\n",
    "Peça o peso da pessoa e informe se ela está dentro, acima ou abaixo do peso."
   ]
  },
  {
   "cell_type": "code",
   "execution_count": null,
   "metadata": {
    "ExecuteTime": {
     "end_time": "2022-05-25T16:59:08.586044Z",
     "start_time": "2022-05-25T16:59:08.586034Z"
    },
    "id": "ULvO7QCNEsSc",
    "solution2": "shown",
    "solution2_first": true
   },
   "outputs": [],
   "source": [
    "sexo = int(input(\"Digite o seu sexo: [0] = masc/[1] = fem\"))\n",
    "altura = float(input(\"Digite a sua altura: \"))\n",
    "peso_atual = float(input(\"Digite o seu peso: \"))\n",
    "\n",
    "\n",
    "if sexo == 0:\n",
    "    peso_ideal = (72.7 * altura) - 58\n",
    "elif sexo  == 1:\n",
    "    peso_ideal = (62.1 * altura) - 44.7\n",
    "\n",
    "if peso_atual > peso_ideal:\n",
    "    print(\"Você está acima do peso!\")\n",
    "elif peso_atual == peso_ideal:\n",
    "    print(\"Você está no peso ideal, parabens!\")\n",
    "else:\n",
    "    print(\"Você está abaixo do peso\")\n",
    "                   \n",
    "print(\"Seu peso atual é de %.2f kgs\" % peso_atual)\n",
    "print(\"Seu peso é de %.2f Kgs\" % peso_ideal)"
   ]
  },
  {
   "cell_type": "code",
   "execution_count": null,
   "metadata": {
    "ExecuteTime": {
     "end_time": "2022-05-25T16:59:08.587262Z",
     "start_time": "2022-05-25T16:59:08.587252Z"
    },
    "cellView": "form",
    "id": "wQ6ZzLKMEsSb",
    "solution2": "shown"
   },
   "outputs": [],
   "source": [
    "#@title Resposta\n",
    "altura = float(input(\"Digite a sua altura: \"))\n",
    "sexo = int(input(\"Digite o seu sexo(Masculino = 0/ Feminino = 1): \"))\n",
    "peso = float(input(\"Digite o seu peso: \"))\n",
    "\n",
    "if sexo == 0:\n",
    "    peso_ideal = (72.7 * altura) - 58\n",
    "else:\n",
    "    peso_ideal = (62.1 * altura) - 44.7\n",
    "\n",
    "if peso > peso_ideal:\n",
    "    print(\"Você está acima do peso\")\n",
    "elif peso == peso_ideal:\n",
    "    print(\"Você está no seu peso ideal\")\n",
    "else:\n",
    "    print(\"Você está abaixo do peso\")"
   ]
  },
  {
   "cell_type": "markdown",
   "metadata": {
    "id": "cNMcWB-iEsSc"
   },
   "source": [
    "---"
   ]
  },
  {
   "cell_type": "markdown",
   "metadata": {
    "id": "8rRVHjGDEsSc"
   },
   "source": [
    "#### Complexo "
   ]
  },
  {
   "cell_type": "markdown",
   "metadata": {
    "id": "7dtxcO66EsSc"
   },
   "source": [
    "Python também possuí estruturas para representar números complexos utilizando o j para representar a parte imaginária de um número"
   ]
  },
  {
   "cell_type": "code",
   "execution_count": null,
   "metadata": {
    "ExecuteTime": {
     "end_time": "2022-05-25T16:59:08.587932Z",
     "start_time": "2022-05-25T16:59:08.587922Z"
    },
    "id": "S6BOm3TLH4DG"
   },
   "outputs": [],
   "source": [
    "a = 1 + 2j\n",
    "a"
   ]
  },
  {
   "cell_type": "markdown",
   "metadata": {
    "ExecuteTime": {
     "end_time": "2021-09-06T14:46:01.693481Z",
     "start_time": "2021-09-06T14:46:01.680986Z"
    },
    "id": "mUWYCbvpEsSc"
   },
   "source": [
    "Podemos acessar as partes reais e complexas de um número de forma independente"
   ]
  },
  {
   "cell_type": "code",
   "execution_count": null,
   "metadata": {
    "ExecuteTime": {
     "end_time": "2022-05-25T16:59:08.588662Z",
     "start_time": "2022-05-25T16:59:08.588652Z"
    },
    "id": "DxlpRdRCH4DH"
   },
   "outputs": [],
   "source": [
    "a.real\n"
   ]
  },
  {
   "cell_type": "code",
   "execution_count": null,
   "metadata": {
    "ExecuteTime": {
     "end_time": "2022-05-25T16:59:08.589283Z",
     "start_time": "2022-05-25T16:59:08.589273Z"
    }
   },
   "outputs": [],
   "source": [
    "a.imag"
   ]
  },
  {
   "cell_type": "markdown",
   "metadata": {
    "id": "ENkX2nSbEsSc"
   },
   "source": [
    "E até fazer operações númericas com essas partes"
   ]
  },
  {
   "cell_type": "code",
   "execution_count": null,
   "metadata": {
    "ExecuteTime": {
     "end_time": "2022-05-25T16:59:08.589860Z",
     "start_time": "2022-05-25T16:59:08.589851Z"
    },
    "id": "6QB1jzpNH4DH"
   },
   "outputs": [],
   "source": [
    "a.real = a.real + 2"
   ]
  },
  {
   "cell_type": "markdown",
   "metadata": {
    "id": "jui-NfeCEsSc"
   },
   "source": [
    "Assim como com o próprio número"
   ]
  },
  {
   "cell_type": "code",
   "execution_count": null,
   "metadata": {
    "ExecuteTime": {
     "end_time": "2022-05-25T16:59:08.590763Z",
     "start_time": "2022-05-25T16:59:08.590753Z"
    },
    "id": "yn5Iu9dHH4DH"
   },
   "outputs": [],
   "source": [
    "a + 2"
   ]
  },
  {
   "cell_type": "markdown",
   "metadata": {
    "id": "Yc-rwdNHEsSc"
   },
   "source": [
    "De forma análoga a int e float, temos também uma função \"complex\" que permite fazer a conversão em um número complexo"
   ]
  },
  {
   "cell_type": "code",
   "execution_count": null,
   "metadata": {
    "ExecuteTime": {
     "end_time": "2022-05-25T16:59:08.591523Z",
     "start_time": "2022-05-25T16:59:08.591513Z"
    },
    "id": "KcZTKdvbH4DI"
   },
   "outputs": [],
   "source": [
    "complex(5,2)"
   ]
  },
  {
   "cell_type": "markdown",
   "metadata": {
    "id": "uJLPagZPEsSd"
   },
   "source": [
    "---"
   ]
  },
  {
   "cell_type": "code",
   "execution_count": null,
   "metadata": {
    "ExecuteTime": {
     "end_time": "2022-05-25T16:59:08.592387Z",
     "start_time": "2022-05-25T16:59:08.592374Z"
    }
   },
   "outputs": [],
   "source": [
    "complex(2,6)"
   ]
  },
  {
   "cell_type": "markdown",
   "metadata": {
    "id": "eqxx7cDQEsSd"
   },
   "source": [
    "### Variáveis de Coleção "
   ]
  },
  {
   "cell_type": "markdown",
   "metadata": {
    "id": "4xW5b9WnEsSd"
   },
   "source": [
    "Além das variáveis que observamos até aqui que representam uma entidade numérica, nós também temos variáveis que corresponde a uma coleção de objetos. Isto é, variáveis com múltiplos valores. "
   ]
  },
  {
   "cell_type": "markdown",
   "metadata": {
    "id": "25XWT5iTEsSd"
   },
   "source": [
    "Essas variáveis são muito utilizadas quando precisamos armazenar grupos de informação específicos e tem múltiplicas aplicação nos ambientes de programação. Vamos ver as principais delas"
   ]
  },
  {
   "cell_type": "markdown",
   "metadata": {
    "id": "J5-TKMEeEsSd"
   },
   "source": [
    "---"
   ]
  },
  {
   "cell_type": "markdown",
   "metadata": {
    "id": "Jn8ZugV5EsSd"
   },
   "source": [
    "#### Listas "
   ]
  },
  {
   "cell_type": "markdown",
   "metadata": {
    "id": "PJFH7jrcEsSd"
   },
   "source": [
    "Python inclui diversas estruturas de dados compostas, usadas para agrupar outros valores. A mais versátil é list (lista), que pode ser escrita como uma lista de valores (itens) separados por vírgula, entre colchetes. Os valores contidos na lista não precisam ser todos do mesmo tipo."
   ]
  },
  {
   "cell_type": "code",
   "execution_count": null,
   "metadata": {
    "ExecuteTime": {
     "end_time": "2022-05-25T16:59:08.593570Z",
     "start_time": "2022-05-25T16:59:08.593556Z"
    },
    "id": "daYH06OQH4DJ"
   },
   "outputs": [],
   "source": [
    "lista = [0,1,2,3,4,5]\n",
    "lista"
   ]
  },
  {
   "cell_type": "code",
   "execution_count": null,
   "metadata": {
    "ExecuteTime": {
     "end_time": "2022-05-25T16:59:08.594509Z",
     "start_time": "2022-05-25T16:59:08.594495Z"
    }
   },
   "outputs": [],
   "source": [
    "lista = [0,2.4,3+1j]\n",
    "lista"
   ]
  },
  {
   "cell_type": "markdown",
   "metadata": {
    "id": "_DTE3HztEsSd"
   },
   "source": [
    "As lista podem ser indexadas (subscritas), com o primeiro elemento como índice 0"
   ]
  },
  {
   "cell_type": "code",
   "execution_count": null,
   "metadata": {
    "ExecuteTime": {
     "end_time": "2022-05-25T16:59:08.595661Z",
     "start_time": "2022-05-25T16:59:08.595648Z"
    },
    "id": "ZgXxeo_7H4DJ"
   },
   "outputs": [],
   "source": [
    "lista = [10,20,30,40]\n",
    "print(lista[0])\n",
    "print(lista[1])\n",
    "print(lista[2])"
   ]
  },
  {
   "cell_type": "markdown",
   "metadata": {
    "id": "MzsULmdhEsSd"
   },
   "source": [
    "Índices também podem ser números negativos para iniciar a contagem pela direita:"
   ]
  },
  {
   "cell_type": "code",
   "execution_count": null,
   "metadata": {
    "ExecuteTime": {
     "end_time": "2022-05-25T16:59:08.596588Z",
     "start_time": "2022-05-25T16:59:08.596574Z"
    },
    "id": "H-IWZFJDH4DJ"
   },
   "outputs": [],
   "source": [
    "lista = [10,20,30,40]\n",
    "print(lista[-1])\n",
    "print(lista[-2])\n",
    "print(lista[-3])"
   ]
  },
  {
   "cell_type": "markdown",
   "metadata": {
    "id": "l2ox1VSHEsSd"
   },
   "source": [
    "Note que dado que -0 é o mesmo que 0, índices negativos começam em -1.\n",
    "\n",
    "Além da indexação, o fatiamento também é permitido. Embora a indexação seja usada para obter elementos individuais, fatiar permite que você obtenha conjuntos de elementos:"
   ]
  },
  {
   "cell_type": "code",
   "execution_count": null,
   "metadata": {
    "ExecuteTime": {
     "end_time": "2022-05-25T16:59:08.597507Z",
     "start_time": "2022-05-25T16:59:08.597494Z"
    },
    "id": "bix7yCQdH4DK"
   },
   "outputs": [],
   "source": [
    "print(lista[0:2])\n",
    "print(lista[2:5])\n",
    "print(lista[2:])"
   ]
  },
  {
   "cell_type": "markdown",
   "metadata": {
    "id": "GZFVGYHnEsSe"
   },
   "source": [
    "Os índices do fatiamento possuem padrões úteis; um primeiro índice omitido padrão é zero, um segundo índice omitido é por padrão o tamanho da lista sendo fatiada:"
   ]
  },
  {
   "cell_type": "code",
   "execution_count": null,
   "metadata": {
    "ExecuteTime": {
     "end_time": "2022-05-25T16:59:08.598326Z",
     "start_time": "2022-05-25T16:59:08.598313Z"
    },
    "id": "G8YW4LACH4DK"
   },
   "outputs": [],
   "source": [
    "print(lista[0:4:2])\n",
    "print(lista[-2:])\n",
    "print(lista[0::2])"
   ]
  },
  {
   "cell_type": "markdown",
   "metadata": {
    "id": "nTiY8GSREsSe"
   },
   "source": [
    "Observe como o início sempre está incluído, e o fim sempre é excluído. Isso garante que lista[:i] + lista[i:] seja sempre igual a lista:\n"
   ]
  },
  {
   "cell_type": "code",
   "execution_count": null,
   "metadata": {
    "ExecuteTime": {
     "end_time": "2022-05-25T16:59:08.599148Z",
     "start_time": "2022-05-25T16:59:08.599134Z"
    },
    "id": "Zm8E_z4rH4DK"
   },
   "outputs": [],
   "source": [
    "print(lista[:2]+lista[2:])\n",
    "print(lista[:4]+lista[4:])"
   ]
  },
  {
   "cell_type": "markdown",
   "metadata": {
    "id": "nPGUbSOWEsSe"
   },
   "source": [
    "Uma maneira de lembrar como fatias funcionam é pensar que os índices indicam posições entre elementos, onde a borda esquerda do primeiro elemento é 0. Assim, a borda direita do último elemento de uma lista de comprimento n tem índice n, por exemplo:"
   ]
  },
  {
   "cell_type": "code",
   "execution_count": null,
   "metadata": {
    "id": "l-3CPEqbH4DK"
   },
   "outputs": [],
   "source": []
  },
  {
   "cell_type": "markdown",
   "metadata": {
    "id": "kTgTtAAbEsSe"
   },
   "source": [
    "A primeira fileira de números indica a posição dos índices 0…6 na lista; a segunda fileira indica a posição dos respectivos índices negativos. Uma fatia de i a j consiste em todos os caracteres entre as bordas i e j, respectivamente.\n",
    "\n",
    "Para índices positivos, o comprimento da fatia é a diferença entre os índices, se ambos estão dentro dos limites da lista. Por exemplo, o comprimento de lista[1:3] é 2.\n",
    "\n",
    "A tentativa de usar um índice que seja muito grande resultará em um erro:"
   ]
  },
  {
   "cell_type": "code",
   "execution_count": null,
   "metadata": {
    "ExecuteTime": {
     "end_time": "2022-05-25T16:59:08.600052Z",
     "start_time": "2022-05-25T16:59:08.600039Z"
    },
    "id": "bQUGWXCfH4DL"
   },
   "outputs": [],
   "source": [
    "lista[42]"
   ]
  },
  {
   "cell_type": "markdown",
   "metadata": {
    "id": "eLcXxfcfEsSe"
   },
   "source": [
    "No entanto, os índices de fatiamento fora do alcance são tratados graciosamente (N.d.T: o termo original “gracefully” indica robustez no tratamento de erros) quando usados para fatiamento. Um índice maior que o comprimento é trocado pelo comprimento, um limite superior menor que o limite inferior produz uma string vazia:"
   ]
  },
  {
   "cell_type": "code",
   "execution_count": null,
   "metadata": {
    "ExecuteTime": {
     "end_time": "2022-05-25T16:59:08.604966Z",
     "start_time": "2022-05-25T16:59:08.604952Z"
    },
    "id": "0qhhFfWXH4DL"
   },
   "outputs": [],
   "source": [
    "print(lista[2:42])\n",
    "print(lista[42:])"
   ]
  },
  {
   "cell_type": "markdown",
   "metadata": {
    "id": "Qv1eDAwGEsSe"
   },
   "source": [
    "O terceiro termo do fatiamento indica o passo a ser aplicado entre cada elemento"
   ]
  },
  {
   "cell_type": "code",
   "execution_count": null,
   "metadata": {
    "ExecuteTime": {
     "end_time": "2022-05-25T16:59:08.605975Z",
     "start_time": "2022-05-25T16:59:08.605962Z"
    },
    "id": "K-CS3X5EH4DL"
   },
   "outputs": [],
   "source": [
    "lista[0:4:1]"
   ]
  },
  {
   "cell_type": "markdown",
   "metadata": {
    "id": "cZCffKYDEsSe"
   },
   "source": [
    "Listas também podem ser combinadas entre si utilizando os operadores + e *"
   ]
  },
  {
   "cell_type": "code",
   "execution_count": null,
   "metadata": {
    "ExecuteTime": {
     "end_time": "2022-05-25T16:59:08.607088Z",
     "start_time": "2022-05-25T16:59:08.607074Z"
    },
    "id": "T8GC4iQZH4DL"
   },
   "outputs": [],
   "source": [
    "lista1 = [1,2,3,4]\n",
    "lista2 = [5,6,7,8]\n",
    "lista3 = lista1 + lista2\n",
    "print(lista3)"
   ]
  },
  {
   "cell_type": "markdown",
   "metadata": {
    "id": "l8RG431gEsSe"
   },
   "source": [
    "Listas também aceitam qualquer tipo de objeto incluindo outras listas"
   ]
  },
  {
   "cell_type": "code",
   "execution_count": null,
   "metadata": {
    "ExecuteTime": {
     "end_time": "2022-05-25T16:59:08.608017Z",
     "start_time": "2022-05-25T16:59:08.608003Z"
    },
    "id": "yVBwdoTZH4DM"
   },
   "outputs": [],
   "source": [
    "lista = [1,2,3,[4,5,6]]\n",
    "print(lista)"
   ]
  },
  {
   "cell_type": "code",
   "execution_count": null,
   "metadata": {
    "ExecuteTime": {
     "end_time": "2022-05-25T16:59:08.608921Z",
     "start_time": "2022-05-25T16:59:08.608907Z"
    }
   },
   "outputs": [],
   "source": [
    "lista[3][1]"
   ]
  },
  {
   "cell_type": "markdown",
   "metadata": {
    "id": "CR22TeojEsSf"
   },
   "source": [
    "Listas são objetos mútaveis na qual podemos alterar os valores de seus elementos utilizando a sintaxe de atribuição"
   ]
  },
  {
   "cell_type": "code",
   "execution_count": null,
   "metadata": {
    "ExecuteTime": {
     "end_time": "2022-05-25T16:59:08.609716Z",
     "start_time": "2022-05-25T16:59:08.609707Z"
    },
    "id": "6pIc7PCuH4DM"
   },
   "outputs": [],
   "source": [
    "lista = [1,2,3,4]\n",
    "lista[2] = 4\n",
    "lista\n"
   ]
  },
  {
   "cell_type": "markdown",
   "metadata": {
    "id": "K2be-YTaEsSf"
   },
   "source": [
    "Além disso, elas possuem múltiplos métodos para alterar seu conteúdo (https://docs.python.org/3/tutorial/datastructures.html), abaixo listamos os mais comuns"
   ]
  },
  {
   "cell_type": "markdown",
   "metadata": {
    "ExecuteTime": {
     "end_time": "2021-09-06T23:12:27.466539Z",
     "start_time": "2021-09-06T23:12:27.460555Z"
    },
    "id": "1jnUPQyIEsSf"
   },
   "source": [
    "APPEND: Adiciona um novo elemento ao final da lista"
   ]
  },
  {
   "cell_type": "code",
   "execution_count": null,
   "metadata": {
    "ExecuteTime": {
     "end_time": "2022-05-25T16:59:08.610404Z",
     "start_time": "2022-05-25T16:59:08.610391Z"
    },
    "id": "mrTVs_seH4DM"
   },
   "outputs": [],
   "source": [
    "lista = [1,2,3]\n",
    "print(lista)\n",
    "lista.append(4)\n",
    "print(lista)"
   ]
  },
  {
   "cell_type": "markdown",
   "metadata": {
    "id": "VBcUq-P8EsSf"
   },
   "source": [
    "REMOVE: Remove a primeira ocorrência de um determinado elemento de uma lista"
   ]
  },
  {
   "cell_type": "code",
   "execution_count": 5,
   "metadata": {
    "ExecuteTime": {
     "end_time": "2022-05-25T16:59:08.622254Z",
     "start_time": "2022-05-25T16:59:08.612170Z"
    },
    "id": "a8bPlRw8H4DM"
   },
   "outputs": [
    {
     "name": "stdout",
     "output_type": "stream",
     "text": [
      "[1, 2, 3, 4, 3]\n",
      "[1, 2, 4, 3]\n"
     ]
    }
   ],
   "source": [
    "lista = [1,2,3,4,3]\n",
    "print(lista)\n",
    "lista.remove(3)\n",
    "print(lista)"
   ]
  },
  {
   "cell_type": "markdown",
   "metadata": {
    "id": "XWBg73X1EsSf"
   },
   "source": [
    "INSERT: Insere um novo elemento no indice selecionado da lista"
   ]
  },
  {
   "cell_type": "code",
   "execution_count": 6,
   "metadata": {
    "ExecuteTime": {
     "end_time": "2022-05-25T16:59:08.692470Z",
     "start_time": "2022-05-25T16:59:08.624201Z"
    },
    "id": "QJY77m_9H4DN"
   },
   "outputs": [
    {
     "name": "stdout",
     "output_type": "stream",
     "text": [
      "[1, 1.1, 2, 3, 4, 5]\n"
     ]
    }
   ],
   "source": [
    "lista = [1,2,3,4,5,]\n",
    "lista.insert(1,1.1)\n",
    "print(lista)"
   ]
  },
  {
   "cell_type": "markdown",
   "metadata": {
    "ExecuteTime": {
     "end_time": "2021-09-06T23:14:14.093013Z",
     "start_time": "2021-09-06T23:14:14.085038Z"
    },
    "id": "MokWB-O2EsSh"
   },
   "source": [
    "SORT: Ordena os elementos da lista"
   ]
  },
  {
   "cell_type": "code",
   "execution_count": 7,
   "metadata": {
    "ExecuteTime": {
     "end_time": "2022-05-25T16:59:08.776867Z",
     "start_time": "2022-05-25T16:59:08.695686Z"
    },
    "id": "T8ZKd-QJH4DN"
   },
   "outputs": [
    {
     "name": "stdout",
     "output_type": "stream",
     "text": [
      "[3, 6, 7, 8, 1, 2, 3, 9]\n",
      "[1, 2, 3, 3, 6, 7, 8, 9]\n"
     ]
    }
   ],
   "source": [
    "lista = [3,6,7,8,1,2,3,9]\n",
    "print(lista)\n",
    "lista.sort()\n",
    "print(lista)"
   ]
  },
  {
   "cell_type": "markdown",
   "metadata": {
    "id": "Xm_wlrPEEsSh"
   },
   "source": [
    "Assim como range, listas são objetos que podem ser percorridos com for loops"
   ]
  },
  {
   "cell_type": "code",
   "execution_count": 8,
   "metadata": {
    "ExecuteTime": {
     "end_time": "2022-05-25T16:59:08.860220Z",
     "start_time": "2022-05-25T16:59:08.779487Z"
    },
    "id": "dn1rS5o0H4DN"
   },
   "outputs": [
    {
     "name": "stdout",
     "output_type": "stream",
     "text": [
      "0\n",
      "1\n",
      "2\n",
      "3\n",
      "4\n"
     ]
    }
   ],
   "source": [
    "for i in [0,1,2,3,4]:\n",
    "    print(i)"
   ]
  },
  {
   "cell_type": "code",
   "execution_count": 9,
   "metadata": {
    "ExecuteTime": {
     "end_time": "2022-05-25T16:59:08.944066Z",
     "start_time": "2022-05-25T16:59:08.864249Z"
    }
   },
   "outputs": [
    {
     "name": "stdout",
     "output_type": "stream",
     "text": [
      "1\n",
      "2\n",
      "3\n",
      "3\n",
      "6\n",
      "7\n",
      "8\n",
      "9\n"
     ]
    }
   ],
   "source": [
    "for i in lista:\n",
    "    print(i)"
   ]
  },
  {
   "cell_type": "markdown",
   "metadata": {
    "id": "eo7303tqEsSh"
   },
   "source": [
    "E nós também podemos checar o conteúdo de uma lista usando a expressão \"in\""
   ]
  },
  {
   "cell_type": "code",
   "execution_count": 10,
   "metadata": {
    "ExecuteTime": {
     "end_time": "2022-05-25T16:59:09.027663Z",
     "start_time": "2022-05-25T16:59:08.946815Z"
    },
    "id": "YCNfLfohH4DN"
   },
   "outputs": [
    {
     "data": {
      "text/plain": [
       "True"
      ]
     },
     "execution_count": 10,
     "metadata": {},
     "output_type": "execute_result"
    }
   ],
   "source": [
    "3 in lista"
   ]
  },
  {
   "cell_type": "code",
   "execution_count": 11,
   "metadata": {
    "ExecuteTime": {
     "end_time": "2022-05-25T16:59:09.110503Z",
     "start_time": "2022-05-25T16:59:09.030391Z"
    }
   },
   "outputs": [
    {
     "data": {
      "text/plain": [
       "True"
      ]
     },
     "execution_count": 11,
     "metadata": {},
     "output_type": "execute_result"
    }
   ],
   "source": [
    "6 in lista\n"
   ]
  },
  {
   "cell_type": "markdown",
   "metadata": {
    "id": "NWP1JAE0EsSi"
   },
   "source": [
    "A função embutida len() devolve o tamanho de uma lista:"
   ]
  },
  {
   "cell_type": "code",
   "execution_count": 12,
   "metadata": {
    "ExecuteTime": {
     "end_time": "2022-05-25T16:59:09.193865Z",
     "start_time": "2022-05-25T16:59:09.113193Z"
    }
   },
   "outputs": [
    {
     "data": {
      "text/plain": [
       "8"
      ]
     },
     "execution_count": 12,
     "metadata": {},
     "output_type": "execute_result"
    }
   ],
   "source": [
    "len(lista)"
   ]
  },
  {
   "cell_type": "code",
   "execution_count": null,
   "metadata": {
    "id": "StpfnDzHH4DO"
   },
   "outputs": [],
   "source": []
  },
  {
   "cell_type": "markdown",
   "metadata": {
    "id": "A-gP-CAjEsSi"
   },
   "source": [
    "---"
   ]
  },
  {
   "cell_type": "markdown",
   "metadata": {
    "id": "lYDnuWycEsSi"
   },
   "source": [
    "**Exercício 8**"
   ]
  },
  {
   "cell_type": "markdown",
   "metadata": {
    "id": "xaOwOZzrEsSi"
   },
   "source": [
    "Faça um programa que leia um número indeterminado de valores, correspondentes a notas, encerrando a entrada de dados quando for informado um valor igual a -1 (que não deve ser armazenado).\n",
    "\n",
    "Após esta entrada de dados, faça:\n",
    "1. Mostre a quantidade de valores que foram lidos;\n",
    "1. Exiba todos os valores na ordem em que foram informados;\n",
    "1. Exiba todos os valores na ordem inversa à que foram informados;\n",
    "1. Calcule e mostre a soma dos valores;\n",
    "1. Calcule e mostre a média dos valores;\n",
    "1. Calcule e mostre a quantidade de valores acima da média calculada;\n",
    "1. Calcule e mostre a quantidade de valores abaixo de sete;\n",
    "1. Encerre o programa com uma mensagem;"
   ]
  },
  {
   "cell_type": "code",
   "execution_count": 13,
   "metadata": {
    "ExecuteTime": {
     "end_time": "2022-05-25T17:13:32.795772Z",
     "start_time": "2022-05-25T16:59:09.196564Z"
    },
    "id": "J0kSYkFQEsSi",
    "solution2": "hidden",
    "solution2_first": true
   },
   "outputs": [
    {
     "ename": "KeyboardInterrupt",
     "evalue": "Interrupted by user",
     "output_type": "error",
     "traceback": [
      "\u001b[0;31m---------------------------------------------------------------------------\u001b[0m",
      "\u001b[0;31mKeyboardInterrupt\u001b[0m                         Traceback (most recent call last)",
      "Input \u001b[0;32mIn [13]\u001b[0m, in \u001b[0;36m<cell line: 6>\u001b[0;34m()\u001b[0m\n\u001b[1;32m      4\u001b[0m acima_media \u001b[38;5;241m=\u001b[39m []\n\u001b[1;32m      5\u001b[0m \u001b[38;5;28;01mwhile\u001b[39;00m \u001b[38;5;28;01mTrue\u001b[39;00m:\n\u001b[0;32m----> 6\u001b[0m     entrada \u001b[38;5;241m=\u001b[39m \u001b[38;5;28mint\u001b[39m(\u001b[38;5;28;43minput\u001b[39;49m\u001b[43m(\u001b[49m\u001b[38;5;124;43m\"\u001b[39;49m\u001b[38;5;124;43mDigite um número: \u001b[39;49m\u001b[38;5;124;43m\"\u001b[39;49m\u001b[43m)\u001b[49m)\n\u001b[1;32m      7\u001b[0m     \u001b[38;5;28;01mif\u001b[39;00m entrada \u001b[38;5;241m==\u001b[39m \u001b[38;5;241m-\u001b[39m\u001b[38;5;241m1\u001b[39m:\n\u001b[1;32m      8\u001b[0m         \u001b[38;5;28;01mbreak\u001b[39;00m\n",
      "File \u001b[0;32m~/anaconda3/envs/ambiente-teste/lib/python3.9/site-packages/ipykernel/kernelbase.py:1075\u001b[0m, in \u001b[0;36mKernel.raw_input\u001b[0;34m(self, prompt)\u001b[0m\n\u001b[1;32m   1071\u001b[0m \u001b[38;5;28;01mif\u001b[39;00m \u001b[38;5;129;01mnot\u001b[39;00m \u001b[38;5;28mself\u001b[39m\u001b[38;5;241m.\u001b[39m_allow_stdin:\n\u001b[1;32m   1072\u001b[0m     \u001b[38;5;28;01mraise\u001b[39;00m StdinNotImplementedError(\n\u001b[1;32m   1073\u001b[0m         \u001b[38;5;124m\"\u001b[39m\u001b[38;5;124mraw_input was called, but this frontend does not support input requests.\u001b[39m\u001b[38;5;124m\"\u001b[39m\n\u001b[1;32m   1074\u001b[0m     )\n\u001b[0;32m-> 1075\u001b[0m \u001b[38;5;28;01mreturn\u001b[39;00m \u001b[38;5;28;43mself\u001b[39;49m\u001b[38;5;241;43m.\u001b[39;49m\u001b[43m_input_request\u001b[49m\u001b[43m(\u001b[49m\n\u001b[1;32m   1076\u001b[0m \u001b[43m    \u001b[49m\u001b[38;5;28;43mstr\u001b[39;49m\u001b[43m(\u001b[49m\u001b[43mprompt\u001b[49m\u001b[43m)\u001b[49m\u001b[43m,\u001b[49m\n\u001b[1;32m   1077\u001b[0m \u001b[43m    \u001b[49m\u001b[38;5;28;43mself\u001b[39;49m\u001b[38;5;241;43m.\u001b[39;49m\u001b[43m_parent_ident\u001b[49m\u001b[43m[\u001b[49m\u001b[38;5;124;43m\"\u001b[39;49m\u001b[38;5;124;43mshell\u001b[39;49m\u001b[38;5;124;43m\"\u001b[39;49m\u001b[43m]\u001b[49m\u001b[43m,\u001b[49m\n\u001b[1;32m   1078\u001b[0m \u001b[43m    \u001b[49m\u001b[38;5;28;43mself\u001b[39;49m\u001b[38;5;241;43m.\u001b[39;49m\u001b[43mget_parent\u001b[49m\u001b[43m(\u001b[49m\u001b[38;5;124;43m\"\u001b[39;49m\u001b[38;5;124;43mshell\u001b[39;49m\u001b[38;5;124;43m\"\u001b[39;49m\u001b[43m)\u001b[49m\u001b[43m,\u001b[49m\n\u001b[1;32m   1079\u001b[0m \u001b[43m    \u001b[49m\u001b[43mpassword\u001b[49m\u001b[38;5;241;43m=\u001b[39;49m\u001b[38;5;28;43;01mFalse\u001b[39;49;00m\u001b[43m,\u001b[49m\n\u001b[1;32m   1080\u001b[0m \u001b[43m\u001b[49m\u001b[43m)\u001b[49m\n",
      "File \u001b[0;32m~/anaconda3/envs/ambiente-teste/lib/python3.9/site-packages/ipykernel/kernelbase.py:1120\u001b[0m, in \u001b[0;36mKernel._input_request\u001b[0;34m(self, prompt, ident, parent, password)\u001b[0m\n\u001b[1;32m   1117\u001b[0m             \u001b[38;5;28;01mbreak\u001b[39;00m\n\u001b[1;32m   1118\u001b[0m \u001b[38;5;28;01mexcept\u001b[39;00m \u001b[38;5;167;01mKeyboardInterrupt\u001b[39;00m:\n\u001b[1;32m   1119\u001b[0m     \u001b[38;5;66;03m# re-raise KeyboardInterrupt, to truncate traceback\u001b[39;00m\n\u001b[0;32m-> 1120\u001b[0m     \u001b[38;5;28;01mraise\u001b[39;00m \u001b[38;5;167;01mKeyboardInterrupt\u001b[39;00m(\u001b[38;5;124m\"\u001b[39m\u001b[38;5;124mInterrupted by user\u001b[39m\u001b[38;5;124m\"\u001b[39m) \u001b[38;5;28;01mfrom\u001b[39;00m \u001b[38;5;28mNone\u001b[39m\n\u001b[1;32m   1121\u001b[0m \u001b[38;5;28;01mexcept\u001b[39;00m \u001b[38;5;167;01mException\u001b[39;00m:\n\u001b[1;32m   1122\u001b[0m     \u001b[38;5;28mself\u001b[39m\u001b[38;5;241m.\u001b[39mlog\u001b[38;5;241m.\u001b[39mwarning(\u001b[38;5;124m\"\u001b[39m\u001b[38;5;124mInvalid Message:\u001b[39m\u001b[38;5;124m\"\u001b[39m, exc_info\u001b[38;5;241m=\u001b[39m\u001b[38;5;28;01mTrue\u001b[39;00m)\n",
      "\u001b[0;31mKeyboardInterrupt\u001b[0m: Interrupted by user"
     ]
    }
   ],
   "source": [
    "count = 0\n",
    "lista = []\n",
    "lista_invertida = []\n",
    "acima_media = []\n",
    "while True:\n",
    "    entrada = int(input(\"Digite um número: \"))\n",
    "    if entrada == -1:\n",
    "        break\n",
    "    count += 1\n",
    "    \n",
    "    lista.append(entrada)\n",
    "    \n",
    "    lista_invertida.insert(0,entrada)\n",
    "    \n",
    "    \n",
    "    \n",
    "    \n",
    "lista_soma = sum(lista)\n",
    "media_lista = sum(lista)/len(lista)\n",
    "\n",
    "acima = 0\n",
    "for entrada in lista:\n",
    "    if entrada > media_lista:\n",
    "        acima += 1\n",
    "\n",
    "abaixo = 0\n",
    "for entrada in lista:\n",
    "    if entrada < media_lista:\n",
    "        abaixo += 1\n",
    "\n",
    "\n",
    "\n",
    "\n",
    "print(\"Lista: \",lista)\n",
    "print(\"Lista invertida: \",lista_invertida)\n",
    "print(\"Quantidades de valores inseridos [%i]\" % count)\n",
    "print(\"A soma dos valores é: \",lista_soma)\n",
    "print(\"A media dos valores é: \",media_lista)\n",
    "print(\"Valores acima da média são: \",acima)\n",
    "print(\"Valores abaixo da média são: \",abaixo)\n",
    "    \n"
   ]
  },
  {
   "cell_type": "code",
   "execution_count": null,
   "metadata": {
    "ExecuteTime": {
     "end_time": "2022-05-25T17:13:32.874074Z",
     "start_time": "2022-05-25T17:13:32.874063Z"
    },
    "cellView": "form",
    "id": "fIsT5ETPEsSi",
    "solution2": "hidden"
   },
   "outputs": [],
   "source": [
    "#@title Resposta\n",
    "notas = []\n",
    "\n",
    "while True:\n",
    "    nota = float(input(\"Digite uma nota: \"))\n",
    "    notas.append(nota)\n",
    "    if nota == -1: break\n",
    "\n",
    "print(\"Foram lidos %i valores.\" % len(notas))\n",
    "\n",
    "print(\"\\nValores informados: \")\n",
    "for nota in notas:\n",
    "    print(nota)\n",
    "\n",
    "print(\"\\nValores informados (ordem inversa): \")\n",
    "notas.reverse()\n",
    "for nota in notas:\n",
    "    print(nota)\n",
    "\n",
    "soma = 0\n",
    "for nota in notas:\n",
    "    soma += nota\n",
    "print(\"\\nA soma de valores é\", soma)\n",
    "\n",
    "soma /= len(notas)\n",
    "print(\"\\nA média dos valores é\", soma)\n",
    "\n",
    "acima = 0\n",
    "for nota in notas:\n",
    "    if nota > soma:\n",
    "        acima += 1\n",
    "print(\"\\nNúmero de notas acima da média é\", acima)\n",
    "\n",
    "abaixo = 0\n",
    "for nota in notas:\n",
    "    if nota < 7:\n",
    "        abaixo += 1\n",
    "print(\"\\nNúmero de notas abaixo de 7 é\", abaixo)"
   ]
  },
  {
   "cell_type": "markdown",
   "metadata": {
    "id": "pT5FGc8lEsSi"
   },
   "source": [
    "---"
   ]
  },
  {
   "cell_type": "markdown",
   "metadata": {
    "id": "Iv3FReD2EsSi"
   },
   "source": [
    "#### Tuplas "
   ]
  },
  {
   "cell_type": "markdown",
   "metadata": {
    "id": "ezfLkEt8EsSi"
   },
   "source": [
    "Uma tupla consiste em uma sequência de valores separados por vírgulas, por exemplo:"
   ]
  },
  {
   "cell_type": "code",
   "execution_count": null,
   "metadata": {
    "ExecuteTime": {
     "end_time": "2022-05-25T17:13:32.874941Z",
     "start_time": "2022-05-25T17:13:32.874930Z"
    },
    "id": "cZMmYAtRH4DP"
   },
   "outputs": [],
   "source": [
    "tupla = (1,2,3,4)\n",
    "tupla"
   ]
  },
  {
   "cell_type": "code",
   "execution_count": null,
   "metadata": {
    "ExecuteTime": {
     "end_time": "2022-05-25T17:13:32.875515Z",
     "start_time": "2022-05-25T17:13:32.875505Z"
    }
   },
   "outputs": [],
   "source": [
    "tupla = 1,2,3,4\n",
    "tupla"
   ]
  },
  {
   "cell_type": "markdown",
   "metadata": {
    "id": "_NIemvOgEsSj"
   },
   "source": [
    "Como você pode ver no trecho acima, na saída do console as tuplas são sempre envolvidas por parênteses, assim tuplas aninhadas podem ser lidas corretamente. Na criação, tuplas podem ser envolvidas ou não por parênteses, desde que o contexto não exija os parênteses (como no caso da tupla dentro de uma expressão maior). Não é possível atribuir itens individuais de uma tupla, contudo é possível criar tuplas que contenham objetos mutáveis, como listas.\n"
   ]
  },
  {
   "cell_type": "code",
   "execution_count": null,
   "metadata": {
    "ExecuteTime": {
     "end_time": "2022-05-25T17:13:32.876202Z",
     "start_time": "2022-05-25T17:13:32.876184Z"
    },
    "id": "GpoAqvU7H4DP"
   },
   "outputs": [],
   "source": [
    "tupla = 1,2,[3,4,5]\n",
    "tupla"
   ]
  },
  {
   "cell_type": "markdown",
   "metadata": {
    "id": "RmGBTLFIEsSj"
   },
   "source": [
    "Tuplas são muito similares a listas, entretanto são objetos imutaveis que ocupam menos memória e são mais eficientes computacionalmente"
   ]
  },
  {
   "cell_type": "code",
   "execution_count": null,
   "metadata": {
    "ExecuteTime": {
     "end_time": "2022-05-25T17:13:32.877318Z",
     "start_time": "2022-05-25T17:13:32.877302Z"
    },
    "id": "7R7qhnOMH4DP"
   },
   "outputs": [],
   "source": [
    "print(tupla[0])\n",
    "print(tupla[::-1])\n",
    "print(1 in tupla)"
   ]
  },
  {
   "cell_type": "markdown",
   "metadata": {
    "id": "YeFBTcR-EsSj"
   },
   "source": [
    "\n",
    "Apesar de tuplas serem similares a listas, elas são frequentemente utilizadas em situações diferentes e com propósitos distintos. Tuplas são imutáveis, e usualmente contém uma sequência heterogênea de elementos que são acessados via desempacotamento (ver a seguir nessa seção) ou índice (ou mesmo por um atributo no caso de namedtuples). Listas são mutáveis, e seus elementos geralmente são homogêneos e são acessados iterando sobre a lista."
   ]
  },
  {
   "cell_type": "code",
   "execution_count": null,
   "metadata": {
    "ExecuteTime": {
     "end_time": "2022-05-25T17:13:32.879509Z",
     "start_time": "2022-05-25T17:13:32.879478Z"
    },
    "id": "SkqGEtJhH4DP"
   },
   "outputs": [],
   "source": [
    "tupla[0] = 7"
   ]
  },
  {
   "cell_type": "code",
   "execution_count": null,
   "metadata": {
    "ExecuteTime": {
     "end_time": "2022-05-25T17:13:32.881193Z",
     "start_time": "2022-05-25T17:13:32.881167Z"
    }
   },
   "outputs": [],
   "source": [
    "lista = list(tupla)\n",
    "lista"
   ]
  },
  {
   "cell_type": "code",
   "execution_count": null,
   "metadata": {
    "ExecuteTime": {
     "end_time": "2022-05-25T17:13:32.883052Z",
     "start_time": "2022-05-25T17:13:32.883020Z"
    }
   },
   "outputs": [],
   "source": [
    "tupla = tuple(lista)\n",
    "tupla"
   ]
  },
  {
   "cell_type": "markdown",
   "metadata": {
    "id": "LcXpBnMyEsSj"
   },
   "source": [
    "Um problema especial é a criação de tuplas contendo 0 ou 1 itens: a sintaxe usa certos truques para acomodar estes casos. Tuplas vazias são construídas por um par de parênteses vazios; uma tupla unitária é construída por um único valor e uma vírgula entre parênteses (não basta colocar um único valor entre parênteses). Feio, mas funciona. Por exemplo:"
   ]
  },
  {
   "cell_type": "code",
   "execution_count": null,
   "metadata": {
    "ExecuteTime": {
     "end_time": "2022-05-25T17:13:32.885355Z",
     "start_time": "2022-05-25T17:13:32.885308Z"
    }
   },
   "outputs": [],
   "source": [
    "tupla = (1,)\n",
    "tupla"
   ]
  },
  {
   "cell_type": "code",
   "execution_count": null,
   "metadata": {
    "ExecuteTime": {
     "end_time": "2022-05-25T17:13:32.886959Z",
     "start_time": "2022-05-25T17:13:32.886945Z"
    },
    "id": "dzmOAhNRH4DQ"
   },
   "outputs": [],
   "source": [
    "tupla = ()\n",
    "type(tupla)"
   ]
  },
  {
   "cell_type": "markdown",
   "metadata": {
    "id": "JsFvDGdoEsSj"
   },
   "source": [
    "---"
   ]
  },
  {
   "cell_type": "markdown",
   "metadata": {
    "id": "toq4xEzDEsSj"
   },
   "source": [
    "#### Dicionários "
   ]
  },
  {
   "cell_type": "markdown",
   "metadata": {
    "id": "Cv36zEcWEsSj"
   },
   "source": [
    "Outra estrutura de dados muito útil embutida em Python é o dicionário, cujo tipo é dict. Dicionários são também chamados de “memória associativa” ou “vetor associativo” em outras linguagens. Diferente de sequências que são indexadas por inteiros, dicionários são indexados por chaves (keys), que podem ser de qualquer tipo imutável (como strings e inteiros). Tuplas também podem ser chaves se contiverem apenas strings, inteiros ou outras tuplas. Se a tupla contiver, direta ou indiretamente, qualquer valor mutável, não poderá ser chave. Listas não podem ser usadas como chaves porque podem ser modificadas internamente pela atribuição em índices ou fatias, e por métodos como append() e extend().\n",
    "\n",
    "Um bom modelo mental é imaginar um dicionário como um conjunto não-ordenado de pares chave:valor, onde as chaves são únicas em uma dada instância do dicionário. Dicionários são delimitados por chaves: {}, e contém uma lista de pares chave:valor separada por vírgulas. Dessa forma também será exibido o conteúdo de um dicionário no console do Python. O dicionário vazio é {}."
   ]
  },
  {
   "cell_type": "code",
   "execution_count": null,
   "metadata": {
    "ExecuteTime": {
     "end_time": "2022-05-25T17:13:32.887976Z",
     "start_time": "2022-05-25T17:13:32.887962Z"
    },
    "id": "0cFAAc_kH4DQ"
   },
   "outputs": [],
   "source": [
    "dicionario = {\"nome\": \"Pedro\", \"sobrenome\": \"Forli\",\"Idade\":20}\n",
    "dicionario"
   ]
  },
  {
   "cell_type": "code",
   "execution_count": null,
   "metadata": {
    "ExecuteTime": {
     "end_time": "2022-05-25T17:13:32.889173Z",
     "start_time": "2022-05-25T17:13:32.889159Z"
    }
   },
   "outputs": [],
   "source": [
    "dicionario[\"nome\"]"
   ]
  },
  {
   "cell_type": "markdown",
   "metadata": {
    "id": "NyAmOejEEsSj"
   },
   "source": [
    "As principais operações em um dicionário são armazenar e recuperar valores a partir de chaves. Também é possível remover um par chave:valor com o comando del. Se você armazenar um valor utilizando uma chave já presente, o antigo valor será substituído pelo novo. Se tentar recuperar um valor usando uma chave inexistente, será gerado um erro."
   ]
  },
  {
   "cell_type": "code",
   "execution_count": null,
   "metadata": {
    "ExecuteTime": {
     "end_time": "2022-05-25T17:13:32.890237Z",
     "start_time": "2022-05-25T17:13:32.890221Z"
    }
   },
   "outputs": [],
   "source": [
    "print(dicionario)\n",
    "del dicionario[\"Idade\"]\n",
    "print(dicionario)"
   ]
  },
  {
   "cell_type": "code",
   "execution_count": null,
   "metadata": {
    "ExecuteTime": {
     "end_time": "2022-05-25T17:13:32.891411Z",
     "start_time": "2022-05-25T17:13:32.891396Z"
    },
    "id": "57rmZEYGH4DQ"
   },
   "outputs": [],
   "source": [
    "dicionario[\"nome\"] = \"Mateus\"\n",
    "dicionario"
   ]
  },
  {
   "cell_type": "code",
   "execution_count": null,
   "metadata": {
    "ExecuteTime": {
     "end_time": "2022-05-25T17:13:32.892535Z",
     "start_time": "2022-05-25T17:13:32.892513Z"
    }
   },
   "outputs": [],
   "source": [
    "dicionario[\"nome\"] = \"Matheus\"\n",
    "dicionario"
   ]
  },
  {
   "cell_type": "code",
   "execution_count": null,
   "metadata": {
    "ExecuteTime": {
     "end_time": "2022-05-25T17:13:32.894694Z",
     "start_time": "2022-05-25T17:13:32.894673Z"
    }
   },
   "outputs": [],
   "source": [
    "dicionario[\"nome\"]"
   ]
  },
  {
   "cell_type": "code",
   "execution_count": null,
   "metadata": {
    "ExecuteTime": {
     "end_time": "2022-05-25T17:13:32.896822Z",
     "start_time": "2022-05-25T17:13:32.896793Z"
    }
   },
   "outputs": [],
   "source": [
    "dicionario[\"Matheus\"]"
   ]
  },
  {
   "cell_type": "markdown",
   "metadata": {
    "id": "WwG0L2xmEsSk"
   },
   "source": [
    "Executar list(d) em um dicionário devolve a lista de todas as chaves presentes no dicionário, na ordem de inserção (se desejar ordená-las basta usar a função sorted(d)). Para verificar a existência de uma chave, use o operador in."
   ]
  },
  {
   "cell_type": "code",
   "execution_count": null,
   "metadata": {
    "ExecuteTime": {
     "end_time": "2022-05-25T17:13:32.898567Z",
     "start_time": "2022-05-25T17:13:32.898542Z"
    }
   },
   "outputs": [],
   "source": [
    "\"nome\" in dicionario"
   ]
  },
  {
   "cell_type": "code",
   "execution_count": null,
   "metadata": {
    "ExecuteTime": {
     "end_time": "2022-05-25T17:13:32.900034Z",
     "start_time": "2022-05-25T17:13:32.900008Z"
    },
    "id": "rZ0IN82PH4DR"
   },
   "outputs": [],
   "source": [
    "tuple(dicionario)"
   ]
  },
  {
   "cell_type": "markdown",
   "metadata": {
    "id": "n8kOmamiEsSk"
   },
   "source": [
    "Dicionários, assim como listas, possuem métodos pré-definidos que ajudam a trabalhar com a estrutura"
   ]
  },
  {
   "cell_type": "markdown",
   "metadata": {
    "id": "nnoddv52EsSk"
   },
   "source": [
    "KEYS: Lista de chaves do dicionário"
   ]
  },
  {
   "cell_type": "code",
   "execution_count": null,
   "metadata": {
    "ExecuteTime": {
     "end_time": "2022-05-25T17:13:32.902140Z",
     "start_time": "2022-05-25T17:13:32.902105Z"
    },
    "id": "UmHpuQ1oH4DR"
   },
   "outputs": [],
   "source": [
    "for k in dicionario.keys():\n",
    "    print(k)"
   ]
  },
  {
   "cell_type": "markdown",
   "metadata": {
    "id": "RXTChLjmEsSk"
   },
   "source": [
    "VALUES: Lista de valores do dicionário"
   ]
  },
  {
   "cell_type": "code",
   "execution_count": null,
   "metadata": {
    "ExecuteTime": {
     "end_time": "2022-05-25T17:13:32.903298Z",
     "start_time": "2022-05-25T17:13:32.903288Z"
    },
    "id": "ZeMv5loLH4DR"
   },
   "outputs": [],
   "source": [
    "dicionario.values()"
   ]
  },
  {
   "cell_type": "code",
   "execution_count": null,
   "metadata": {
    "ExecuteTime": {
     "end_time": "2022-05-25T17:13:32.904104Z",
     "start_time": "2022-05-25T17:13:32.904094Z"
    }
   },
   "outputs": [],
   "source": [
    "\"Matheus\" in dicionario.values()"
   ]
  },
  {
   "cell_type": "markdown",
   "metadata": {
    "id": "TRLid7baEsSk"
   },
   "source": [
    "ITEMS: Pares de chave e valor"
   ]
  },
  {
   "cell_type": "code",
   "execution_count": null,
   "metadata": {
    "ExecuteTime": {
     "end_time": "2022-05-25T17:13:32.904745Z",
     "start_time": "2022-05-25T17:13:32.904734Z"
    },
    "id": "bC4kjVVnH4DS"
   },
   "outputs": [],
   "source": [
    "dicionario.items()"
   ]
  },
  {
   "cell_type": "code",
   "execution_count": null,
   "metadata": {
    "ExecuteTime": {
     "end_time": "2022-05-25T17:13:32.905705Z",
     "start_time": "2022-05-25T17:13:32.905696Z"
    }
   },
   "outputs": [],
   "source": [
    "for k,v in dicionario.items():\n",
    "    print(k,\"->\",v)"
   ]
  },
  {
   "cell_type": "markdown",
   "metadata": {
    "id": "VryaBHPlEsSk"
   },
   "source": [
    "GET: Obtém o valor do dicionário"
   ]
  },
  {
   "cell_type": "code",
   "execution_count": null,
   "metadata": {
    "ExecuteTime": {
     "end_time": "2022-05-25T17:13:32.906298Z",
     "start_time": "2022-05-25T17:13:32.906288Z"
    },
    "id": "35hiTucJH4DS"
   },
   "outputs": [],
   "source": [
    "dicionario[\"nome\"]"
   ]
  },
  {
   "cell_type": "code",
   "execution_count": null,
   "metadata": {
    "ExecuteTime": {
     "end_time": "2022-05-25T17:13:32.907104Z",
     "start_time": "2022-05-25T17:13:32.907094Z"
    }
   },
   "outputs": [],
   "source": [
    "dicionario.get[\"idade\"]"
   ]
  },
  {
   "cell_type": "markdown",
   "metadata": {
    "id": "nrTZ6XpiEsSk"
   },
   "source": [
    "---"
   ]
  },
  {
   "cell_type": "markdown",
   "metadata": {
    "id": "nyQRk1h4EsSk"
   },
   "source": [
    "**Exercício 9**"
   ]
  },
  {
   "cell_type": "markdown",
   "metadata": {
    "id": "zwKo34Y-EsSl"
   },
   "source": [
    "Escreva um programa que receba quantas entradas o usuário desejar e depois\n",
    "crie um novo contato para cada entrada (Nome, Telefone, Endereço, Email), e\n",
    "por fim imprima, em ordem alfabética, a agenda de contatos "
   ]
  },
  {
   "cell_type": "code",
   "execution_count": null,
   "metadata": {
    "ExecuteTime": {
     "end_time": "2022-05-25T17:13:32.907724Z",
     "start_time": "2022-05-25T17:13:32.907715Z"
    },
    "id": "wuLJiKOPEsSl",
    "solution2": "hidden",
    "solution2_first": true
   },
   "outputs": [],
   "source": [
    "agenda = {}\n",
    "nomes = []\n",
    "while True:\n",
    "    print(\"Adicionar novo usuário? Digite 1 para CONTINUAR, 0 para ENCERRAR\")\n",
    "    decisao = int(input(\"Digite 1 ou 0: \"))\n",
    "    if decisao == 0:\n",
    "        break\n",
    "    nome = input(\"Digite um novo nome\")\n",
    "    telefone = int(input(\"Digite um telefone: \"))\n",
    "    endereco = input(\"Digite o endereço: \")\n",
    "    email = input(\"Digite o email: \")\n",
    "    \n",
    "    contato = {}\n",
    "    nomes.append(nome)\n",
    "    \n",
    "    contato[\"telefone\"] = telefone\n",
    "    contato[\"endereco\"] = endereco\n",
    "    contato[\"email\"] = email\n",
    "    \n",
    "    agenda[nome] = contato\n",
    "    \n",
    "    \n",
    "    \n",
    "    #dicionario[\"nome\"] = nome\n",
    "    #dicionario[\"telefone\"] = telefone\n",
    "    #dicionario[\"endereço\"] = endereco\n",
    "    #dicionario[\"email\"] = email\n",
    "\n",
    "nomes.sort()\n",
    "for nome in nomes:\n",
    "    print('Nome: ', nome)\n",
    "    print('Telefone: ', agenda[nome]['telefone'])\n",
    "    print('Endereço: ', agenda[nome]['endereco'])\n",
    "    print('Email: ', agenda[nome]['email'])\n",
    "    print()\n",
    "    "
   ]
  },
  {
   "cell_type": "code",
   "execution_count": null,
   "metadata": {
    "ExecuteTime": {
     "end_time": "2022-05-25T17:13:32.908562Z",
     "start_time": "2022-05-25T17:13:32.908553Z"
    },
    "cellView": "form",
    "id": "NAb_4YL9EsSl",
    "solution2": "hidden"
   },
   "outputs": [],
   "source": [
    "#@title Resposta\n",
    "nomes = []\n",
    "agenda = {}\n",
    "\n",
    "while True:\n",
    "    ordem = input('Deseja adicionar um novo contato(add) ou parar a execução(stop)').lower()\n",
    "\n",
    "    if not ordem.isalpha():\n",
    "        print(\"Digite apenas letras!\")\n",
    "        \n",
    "    elif ordem.startswith('a'):\n",
    "        contato = {}\n",
    "\n",
    "\n",
    "        nome = input('Digite o nome do contato: ')\n",
    "        if not nome[0].isupper():\n",
    "            nome = nome[0].upper() + nome[1:]\n",
    "\n",
    "        nomes.append(nome)\n",
    "\n",
    "        tel = input('Digite o telefone do contato: ')\n",
    "        contato['Telefone'] = tel\n",
    "\n",
    "        end = input('Digite o endereço do contato: ')\n",
    "        contato['Endereço'] = end\n",
    "\n",
    "        email = input('Digite o Email do contato: ')\n",
    "        contato['Email'] = email\n",
    "\n",
    "        agenda[nome] = contato\n",
    "        \n",
    "    elif ordem.startswith('s'):\n",
    "        break\n",
    "\n",
    "print('A G E N D A\\n')\n",
    "nomes.sort()\n",
    "for nome in nomes:\n",
    "    print('Nome: ', nome)\n",
    "    print('Telefone: ', agenda[nome]['Telefone'])\n",
    "    print('Endereço: ', agenda[nome]['Endereço'])\n",
    "    print('Email: ', agenda[nome]['Email'])\n",
    "    print()"
   ]
  },
  {
   "cell_type": "markdown",
   "metadata": {
    "id": "fBJNCYcNEsSl"
   },
   "source": [
    "---"
   ]
  },
  {
   "cell_type": "markdown",
   "metadata": {
    "id": "hkWrocc3EsSl"
   },
   "source": [
    "#### Sets "
   ]
  },
  {
   "cell_type": "markdown",
   "metadata": {
    "id": "Nx8jFmymEsSl"
   },
   "source": [
    "Python também inclui um tipo de dados para conjuntos, chamado set. Um conjunto é uma coleção desordenada de elementos, sem elementos repetidos. Usos comuns para conjuntos incluem a verificação eficiente da existência de objetos e a eliminação de itens duplicados. Conjuntos também suportam operações matemáticas como união, interseção, diferença e diferença simétrica.\n",
    "\n",
    "Chaves ou a função set() podem ser usados para criar conjuntos. Note: para criar um conjunto vazio você precisa usar set(), não {}; este último cria um dicionário vazio."
   ]
  },
  {
   "cell_type": "code",
   "execution_count": null,
   "metadata": {
    "ExecuteTime": {
     "end_time": "2022-05-25T17:13:32.909139Z",
     "start_time": "2022-05-25T17:13:32.909130Z"
    },
    "id": "xJUn2ByFH4DT"
   },
   "outputs": [],
   "source": [
    "conj = {1,2,3}\n",
    "conj"
   ]
  },
  {
   "cell_type": "code",
   "execution_count": null,
   "metadata": {
    "ExecuteTime": {
     "end_time": "2022-05-25T17:13:32.912777Z",
     "start_time": "2022-05-25T17:13:32.912755Z"
    }
   },
   "outputs": [],
   "source": [
    "conj = set([1,2,3])\n",
    "conj"
   ]
  },
  {
   "cell_type": "code",
   "execution_count": null,
   "metadata": {
    "ExecuteTime": {
     "end_time": "2022-05-25T17:13:32.915161Z",
     "start_time": "2022-05-25T17:13:32.915117Z"
    }
   },
   "outputs": [],
   "source": [
    "{1,2,3,4,5,6,6,7,}"
   ]
  },
  {
   "cell_type": "code",
   "execution_count": null,
   "metadata": {
    "ExecuteTime": {
     "end_time": "2022-05-25T17:13:32.916776Z",
     "start_time": "2022-05-25T17:13:32.916756Z"
    }
   },
   "outputs": [],
   "source": [
    "conj[0]"
   ]
  },
  {
   "cell_type": "markdown",
   "metadata": {
    "id": "OfJSj7WpEsSl"
   },
   "source": [
    "Sets permitem calculos de conjuntos como intersecção, sub e superset"
   ]
  },
  {
   "cell_type": "code",
   "execution_count": null,
   "metadata": {
    "ExecuteTime": {
     "end_time": "2022-05-25T17:13:32.918859Z",
     "start_time": "2022-05-25T17:13:32.918841Z"
    },
    "id": "O983fT34H4DT"
   },
   "outputs": [],
   "source": [
    "conj1 = {1,2,3,4}\n",
    "conj2 = {4,5,6,}\n",
    "print(conj2 - conj1)"
   ]
  },
  {
   "cell_type": "markdown",
   "metadata": {
    "id": "t-JIVCx7EsSl"
   },
   "source": [
    "---"
   ]
  },
  {
   "cell_type": "markdown",
   "metadata": {
    "id": "_7ioi2vMEsSl"
   },
   "source": [
    "### Variáveis de Texto "
   ]
  },
  {
   "cell_type": "markdown",
   "metadata": {
    "id": "Hftc9eD6EsSl"
   },
   "source": [
    "Além de números, Python também pode manipular strings (sequências de caracteres), que podem ser expressas de diversas formas. Elas podem ser delimitadas por aspas simples ('...') ou duplas (\"...\") e teremos o mesmo resultado. \\ pode ser usada para escapar aspas:"
   ]
  },
  {
   "cell_type": "code",
   "execution_count": null,
   "metadata": {
    "ExecuteTime": {
     "end_time": "2022-05-25T17:13:32.920822Z",
     "start_time": "2022-05-25T17:13:32.920802Z"
    },
    "id": "HA84bAqGH4DU"
   },
   "outputs": [],
   "source": [
    "\"Olá mundo\""
   ]
  },
  {
   "cell_type": "code",
   "execution_count": null,
   "metadata": {
    "ExecuteTime": {
     "end_time": "2022-05-25T17:13:32.922161Z",
     "start_time": "2022-05-25T17:13:32.922144Z"
    }
   },
   "outputs": [],
   "source": [
    "a = \"Olá mundo\""
   ]
  },
  {
   "cell_type": "code",
   "execution_count": null,
   "metadata": {
    "ExecuteTime": {
     "end_time": "2022-05-25T17:13:32.923325Z",
     "start_time": "2022-05-25T17:13:32.923309Z"
    }
   },
   "outputs": [],
   "source": [
    "a"
   ]
  },
  {
   "cell_type": "markdown",
   "metadata": {
    "id": "m1j7P64vEsSm"
   },
   "source": [
    "Na interpretação interativa, a string de saída é delimitada com aspas e caracteres especiais são escapados com barras invertidas. Embora isso possa às vezes parecer diferente da entrada (as aspas podem mudar), as duas strings são equivalentes. A string é delimitada com aspas duplas se a string contiver uma única aspa simples e nenhuma aspa dupla, caso contrário, ela é delimitada com aspas simples."
   ]
  },
  {
   "cell_type": "markdown",
   "metadata": {
    "id": "i07GXkUNEsSm"
   },
   "source": [
    "Se não quiseres que os caracteres sejam precedidos por \\ para serem interpretados como caracteres especiais, poderás usar strings raw (N.d.T: “crua” ou sem processamento de caracteres de escape) adicionando um r antes da primeira aspa:"
   ]
  },
  {
   "cell_type": "code",
   "execution_count": null,
   "metadata": {
    "ExecuteTime": {
     "end_time": "2022-05-25T17:13:32.924708Z",
     "start_time": "2022-05-25T17:13:32.924684Z"
    },
    "id": "bm2EbIoWH4DU"
   },
   "outputs": [],
   "source": [
    "print(r\"C:\\neusa\")"
   ]
  },
  {
   "cell_type": "markdown",
   "metadata": {
    "id": "KHyaoAjTEsSm"
   },
   "source": [
    "As strings literais podem abranger várias linhas. Uma maneira é usar as aspas triplas: \"\"\"...\"\"\" ou '''...'''. O fim das linhas é incluído automaticamente na string, mas é possível evitar isso adicionando uma \\ no final. O seguinte exemplo:"
   ]
  },
  {
   "cell_type": "code",
   "execution_count": null,
   "metadata": {
    "ExecuteTime": {
     "end_time": "2022-05-25T17:13:32.926148Z",
     "start_time": "2022-05-25T17:13:32.926130Z"
    },
    "id": "bynff9WgH4DV"
   },
   "outputs": [],
   "source": [
    "\"\"\"\n",
    "UMA\n",
    "STRING\n",
    "COM\n",
    "MULTIPLAS \n",
    "LINHAS\n",
    "\"\"\""
   ]
  },
  {
   "cell_type": "markdown",
   "metadata": {
    "ExecuteTime": {
     "end_time": "2021-09-07T12:35:45.857002Z",
     "start_time": "2021-09-07T12:35:45.844036Z"
    },
    "id": "MoPLCu2_EsSm"
   },
   "source": [
    "Strings podem ser concatenadas (coladas) com o operador +, e repetidas com *:"
   ]
  },
  {
   "cell_type": "code",
   "execution_count": null,
   "metadata": {
    "ExecuteTime": {
     "end_time": "2022-05-25T17:13:32.932175Z",
     "start_time": "2022-05-25T17:13:32.932133Z"
    },
    "id": "Gnj7l1o2H4DV"
   },
   "outputs": [],
   "source": [
    "3 * 'un' + 'iun'"
   ]
  },
  {
   "cell_type": "markdown",
   "metadata": {
    "id": "mPdN_P0BEsSm"
   },
   "source": [
    "Duas ou mais strings literais (ou seja, entre aspas) ao lado da outra são automaticamente concatenados."
   ]
  },
  {
   "cell_type": "code",
   "execution_count": null,
   "metadata": {
    "ExecuteTime": {
     "end_time": "2022-05-25T17:13:32.933848Z",
     "start_time": "2022-05-25T17:13:32.933823Z"
    },
    "id": "MvmqwxUTH4DV"
   },
   "outputs": [],
   "source": [
    "'Py' + 'thon'"
   ]
  },
  {
   "cell_type": "markdown",
   "metadata": {
    "id": "hg2-XS8GEsSm"
   },
   "source": [
    "Esse recurso é particularmente útil quando você quer quebrar strings longas:"
   ]
  },
  {
   "cell_type": "code",
   "execution_count": null,
   "metadata": {
    "ExecuteTime": {
     "end_time": "2022-05-25T17:13:32.935402Z",
     "start_time": "2022-05-25T17:13:32.935387Z"
    },
    "id": "1MaBhqS6H4DV"
   },
   "outputs": [],
   "source": [
    "texto = (\n",
    "\"Olha, esse é um texto enorme que vou querer deixar em varias linhas \"\n",
    "\"para que meu código fique mais legível\"\n",
    ")\n",
    "texto"
   ]
  },
  {
   "cell_type": "markdown",
   "metadata": {
    "id": "P7hGs624EsSn"
   },
   "source": [
    "Isso só funciona com duas strings literais, não com variáveis ou expressões:"
   ]
  },
  {
   "cell_type": "code",
   "execution_count": null,
   "metadata": {
    "ExecuteTime": {
     "end_time": "2022-05-25T17:13:32.936824Z",
     "start_time": "2022-05-25T17:13:32.936808Z"
    },
    "id": "WtIrxTigH4DW"
   },
   "outputs": [],
   "source": [
    "p1 = \"Py\"\n",
    "p1 + \"thon\""
   ]
  },
  {
   "cell_type": "code",
   "execution_count": null,
   "metadata": {
    "ExecuteTime": {
     "end_time": "2022-05-13T16:47:47.346559Z",
     "start_time": "2022-05-13T16:47:47.323876Z"
    }
   },
   "outputs": [],
   "source": []
  },
  {
   "cell_type": "markdown",
   "metadata": {
    "id": "OrA23oPhEsSn"
   },
   "source": [
    "Se você quiser concatenar variáveis ou uma variável e uma literal, use +:"
   ]
  },
  {
   "cell_type": "code",
   "execution_count": null,
   "metadata": {
    "id": "LTYRrJqxH4DW"
   },
   "outputs": [],
   "source": []
  },
  {
   "cell_type": "markdown",
   "metadata": {
    "id": "z5Nm6ZtlEsSn"
   },
   "source": [
    "As strings podem ser indexadas (subscritas), da mesma maneira que listas e tuplas"
   ]
  },
  {
   "cell_type": "code",
   "execution_count": null,
   "metadata": {
    "ExecuteTime": {
     "end_time": "2022-05-25T17:13:32.937855Z",
     "start_time": "2022-05-25T17:13:32.937839Z"
    },
    "id": "enieXTzmH4DW"
   },
   "outputs": [],
   "source": [
    "\"t\" + \"o\""
   ]
  },
  {
   "cell_type": "code",
   "execution_count": null,
   "metadata": {
    "ExecuteTime": {
     "end_time": "2022-05-25T17:13:32.939015Z",
     "start_time": "2022-05-25T17:13:32.939000Z"
    }
   },
   "outputs": [],
   "source": [
    "[\"P\",\"y\",\"t\",\"h\",\"o\",\"n\"]\n",
    "p = \"Python\"\n",
    "print(p[0])\n",
    "print(p[5])"
   ]
  },
  {
   "cell_type": "code",
   "execution_count": null,
   "metadata": {
    "ExecuteTime": {
     "end_time": "2022-05-25T17:13:32.940683Z",
     "start_time": "2022-05-25T17:13:32.940655Z"
    }
   },
   "outputs": [],
   "source": [
    "p[-1]\n",
    "p[1:3]"
   ]
  },
  {
   "cell_type": "markdown",
   "metadata": {
    "id": "qjUtNV8ZEsSn"
   },
   "source": [
    "As strings do Python não podem ser alteradas — uma string é imutável. Portanto, atribuir a uma posição indexada na sequência resulta em um erro:"
   ]
  },
  {
   "cell_type": "code",
   "execution_count": null,
   "metadata": {
    "ExecuteTime": {
     "end_time": "2022-05-25T17:13:32.942770Z",
     "start_time": "2022-05-25T17:13:32.942728Z"
    },
    "id": "prEg84_ZH4DW"
   },
   "outputs": [],
   "source": [
    "p[0] = \"J\""
   ]
  },
  {
   "cell_type": "markdown",
   "metadata": {
    "id": "iGpWqZJvEsSn"
   },
   "source": [
    "Se você precisar de uma string diferente, deverá criar uma nova:"
   ]
  },
  {
   "cell_type": "code",
   "execution_count": null,
   "metadata": {
    "ExecuteTime": {
     "end_time": "2022-05-25T17:13:32.946485Z",
     "start_time": "2022-05-25T17:13:32.946467Z"
    },
    "id": "CRpHsegEH4DW"
   },
   "outputs": [],
   "source": [
    "\"J\" + p[1:]"
   ]
  },
  {
   "cell_type": "markdown",
   "metadata": {
    "id": "vy-0p8Y5EsSn"
   },
   "source": [
    "A função embutida len() devolve o comprimento de uma string:"
   ]
  },
  {
   "cell_type": "code",
   "execution_count": null,
   "metadata": {
    "ExecuteTime": {
     "end_time": "2022-05-25T17:13:32.947697Z",
     "start_time": "2022-05-25T17:13:32.947680Z"
    },
    "id": "CZjhh7IVH4DX"
   },
   "outputs": [],
   "source": [
    "len(p)"
   ]
  },
  {
   "cell_type": "markdown",
   "metadata": {
    "id": "XZ1w0q2hEsSn"
   },
   "source": [
    "Assim como todas as variáveis numéricas strings também possuem uma função que permite converter uma expressão em texto."
   ]
  },
  {
   "cell_type": "code",
   "execution_count": null,
   "metadata": {
    "ExecuteTime": {
     "end_time": "2022-05-25T17:13:32.948905Z",
     "start_time": "2022-05-25T17:13:32.948889Z"
    },
    "id": "YQXgGcTiH4DX"
   },
   "outputs": [],
   "source": [
    "str([1,2,3])\n"
   ]
  },
  {
   "cell_type": "markdown",
   "metadata": {
    "id": "nqbdCf7KEsSn"
   },
   "source": [
    "Como já vimos, strings podem ser criadas a partir de outras variáveis apresentando formatações específicas. Há 4 principais tipos de sintaxe para isso: "
   ]
  },
  {
   "cell_type": "markdown",
   "metadata": {
    "id": "Jk8VzZkMEsSo"
   },
   "source": [
    "1) Operador %: A formatação que vimos no print com o uso do % para colocar inteiros e reais"
   ]
  },
  {
   "cell_type": "markdown",
   "metadata": {
    "id": "p90FtlXLEsSo"
   },
   "source": [
    "<img src=\"https://i.stack.imgur.com/j1NqG.png\" />"
   ]
  },
  {
   "cell_type": "code",
   "execution_count": null,
   "metadata": {
    "ExecuteTime": {
     "end_time": "2022-05-25T17:13:32.950054Z",
     "start_time": "2022-05-25T17:13:32.950038Z"
    },
    "id": "IByw0ov2H4DX"
   },
   "outputs": [],
   "source": [
    "print(\"Olá %s %d\" % (\"Mundo\",1))"
   ]
  },
  {
   "cell_type": "markdown",
   "metadata": {
    "ExecuteTime": {
     "end_time": "2021-09-07T12:49:06.456626Z",
     "start_time": "2021-09-07T12:49:06.438675Z"
    },
    "id": "tbrRNApXEsSo"
   },
   "source": [
    "2) str.format: Utiliza a sintaxe do .format passando para a string o nome de variáveis específicas"
   ]
  },
  {
   "cell_type": "code",
   "execution_count": null,
   "metadata": {
    "ExecuteTime": {
     "end_time": "2022-05-25T17:13:32.951200Z",
     "start_time": "2022-05-25T17:13:32.951184Z"
    },
    "id": "qTqn-07MH4DY"
   },
   "outputs": [],
   "source": [
    "nome = \"Pedro\"\n",
    "errono = \"badc0ffee\"\n",
    "print(\"Olá, {}\".format(nome))\n",
    "print(\"Olá, {nome}, há um erro 0x{errono}\".format(nome=nome,errono=errono))"
   ]
  },
  {
   "cell_type": "markdown",
   "metadata": {
    "id": "dM9djsJ5EsSo"
   },
   "source": [
    "3) f-strings: O formato que mais utilizaremos no curso, na qual ao colocar um \"f\" na frente da string podemos passar as variáveis diretamente para ela"
   ]
  },
  {
   "cell_type": "code",
   "execution_count": null,
   "metadata": {
    "ExecuteTime": {
     "end_time": "2022-05-25T17:13:32.952218Z",
     "start_time": "2022-05-25T17:13:32.952202Z"
    },
    "id": "S-93ZkdYH4DY"
   },
   "outputs": [],
   "source": [
    "print(f\"Olá, {nome}\")\n",
    "print(f\"Olá, {1*2 + 3}\")"
   ]
  },
  {
   "cell_type": "markdown",
   "metadata": {
    "id": "8hjCcWhaEsSo"
   },
   "source": [
    "4) Templates: Gera strings que esperam determinadas variáveis para serem utilizadas com template múltiplas vezes"
   ]
  },
  {
   "cell_type": "code",
   "execution_count": null,
   "metadata": {
    "ExecuteTime": {
     "end_time": "2022-05-25T17:13:32.953460Z",
     "start_time": "2022-05-25T17:13:32.953444Z"
    },
    "id": "OLp7Ne0sH4DY"
   },
   "outputs": [],
   "source": [
    "from string import Template\n",
    "\n",
    "s1 = Template(\"Olá, $nome\")\n",
    "s2 = Template(\"Olá, $nome, há um erro 0x$errono!\")\n",
    "\n",
    "print(s1.substitute(nome=nome))\n",
    "print(s2.substitute(nome=nome,errono=errono))"
   ]
  },
  {
   "cell_type": "markdown",
   "metadata": {
    "id": "xpI2_7LlEsSp"
   },
   "source": [
    "Por fim, é importante destacar que há uma série de ferramentas pré-prontas para se trabalhar na manipulação de strings em python, os chamados métodos. Destacamos abaixo o mais utilizados"
   ]
  },
  {
   "cell_type": "markdown",
   "metadata": {
    "id": "b4qaEtdiEsSp"
   },
   "source": [
    "UPPER / LOWER: Converte um string para maiscula / minuscula"
   ]
  },
  {
   "cell_type": "code",
   "execution_count": null,
   "metadata": {
    "ExecuteTime": {
     "end_time": "2022-05-25T17:13:32.954708Z",
     "start_time": "2022-05-25T17:13:32.954692Z"
    },
    "id": "MBQGca66H4DY"
   },
   "outputs": [],
   "source": [
    "s = \"Olá Mundo\"\n",
    "print(s.lower())\n",
    "print(s.upper())"
   ]
  },
  {
   "cell_type": "markdown",
   "metadata": {
    "id": "WMIy7x7ZEsSp"
   },
   "source": [
    "ISDIGIT: Checa se a string é numérica"
   ]
  },
  {
   "cell_type": "code",
   "execution_count": null,
   "metadata": {
    "ExecuteTime": {
     "end_time": "2022-05-25T17:13:32.955825Z",
     "start_time": "2022-05-25T17:13:32.955809Z"
    },
    "id": "EjuIAhvoH4DZ"
   },
   "outputs": [],
   "source": [
    "s = \"123\"\n",
    "print(s.isdigit())"
   ]
  },
  {
   "cell_type": "markdown",
   "metadata": {
    "id": "l91PJH-KEsSp"
   },
   "source": [
    "SPLIT: Divide a string de acordo com um separador"
   ]
  },
  {
   "cell_type": "code",
   "execution_count": null,
   "metadata": {
    "ExecuteTime": {
     "end_time": "2022-05-25T17:13:32.956931Z",
     "start_time": "2022-05-25T17:13:32.956915Z"
    },
    "id": "iBymvC2aH4DZ"
   },
   "outputs": [],
   "source": [
    "s = \"Olá Mundo\"\n",
    "s.split(\" \")"
   ]
  },
  {
   "cell_type": "markdown",
   "metadata": {
    "id": "gRXsqsy2EsSp"
   },
   "source": [
    "JOIN: Junta uma lista ou tupla de textos em um string usando uma string de junção"
   ]
  },
  {
   "cell_type": "code",
   "execution_count": null,
   "metadata": {
    "ExecuteTime": {
     "end_time": "2022-05-25T17:13:32.958076Z",
     "start_time": "2022-05-25T17:13:32.958060Z"
    },
    "id": "2j4JH5rBH4DZ"
   },
   "outputs": [],
   "source": [
    "l = ['Olá', 'Mundo']\n",
    "print(\"==> \".join(l))"
   ]
  },
  {
   "cell_type": "markdown",
   "metadata": {
    "id": "Xkkbd5ssEsSp"
   },
   "source": [
    "STRIP: Elimina caracteres vazios nos extremos da string"
   ]
  },
  {
   "cell_type": "code",
   "execution_count": null,
   "metadata": {
    "ExecuteTime": {
     "end_time": "2022-05-25T17:13:32.959071Z",
     "start_time": "2022-05-25T17:13:32.959055Z"
    },
    "id": "5cWraPerH4DZ"
   },
   "outputs": [],
   "source": [
    "s = \" Olá mundo   \"\n",
    "print(s)\n",
    "print(s.strip(s))"
   ]
  },
  {
   "cell_type": "markdown",
   "metadata": {
    "id": "pkzSkaXLEsSp"
   },
   "source": [
    "---"
   ]
  },
  {
   "cell_type": "markdown",
   "metadata": {
    "id": "i1Hc8J05EsSp"
   },
   "source": [
    "**Exercício 10**"
   ]
  },
  {
   "cell_type": "markdown",
   "metadata": {
    "id": "NfPYwsY9EsSp"
   },
   "source": [
    "Vamos criar um programa que reproduza a Cifra de Cesar.\n",
    "\n",
    "Este era um método utilizado pelos Romanos de criptografia de mensagens, na qual se codificava o valor de cada letra do alfabeto a um número e então, por meio de uma chave numérica, se deslocava as letras de acordo com o valor dessa chave.\n",
    "\n",
    "Por exemplo se codificassemos a = 1, b = 2, c = 3, ... a letra \"a\" codificada com chave 3, se tornaria \"d\", porque a=1 e d=4 (4 = 1 + 3).\n",
    "\n",
    "Escreva um programa que permita criptografar e descriptografar uma mensagem. \n",
    "\n",
    "Primeiro peça para o usuário informar se ele deseja criptografar ou descriptografar uma mensagem. Depois peça o valor da chave, obrigando-o a informar um valor entre 1 e 26. Em seguida, peça uma mensagem a ser traduzida e converta-a para minúsculo, também remova caracteres com acento ou \"ç\" da string. Por fim aplique o método da cifra para traduzir a mensagem.\n",
    "\n",
    "DICA: Pode ser útil olhar para as funções ord e chr."
   ]
  },
  {
   "cell_type": "code",
   "execution_count": null,
   "metadata": {
    "ExecuteTime": {
     "end_time": "2022-05-25T17:13:32.960888Z",
     "start_time": "2022-05-25T17:13:32.960871Z"
    },
    "id": "CAmWjataEsSq",
    "solution2": "shown",
    "solution2_first": true
   },
   "outputs": [],
   "source": [
    "import re\n",
    "while True: \n",
    "    print(\"Olá, você quer criptografar ou descripritografar a mensagem ?\")\n",
    "    opcao = int(input(\"Digite 1 para criptografar e 0 para descriptografar\"))\n",
    "    \n",
    "    \n",
    "    \n",
    "while True:\n",
    "    try:\n",
    "        chave = int(input(\"Digite o valor da chave[Somente entre 1 e 26]: \"))\n",
    "        if not 0 < chave < 27:\n",
    "            raise ValueError('Valor fora do intervalo permitido')\n",
    "        break\n",
    "\n",
    "    except ValueError as error:\n",
    "        print(error)\n",
    "            \n",
    "mensagem = input(\"Digite a mensagem a ser traduzida: \")\n",
    "mensagem.lower()\n",
    "mensagem.strip()\n",
    "    \n",
    "    # garante que a mensagem não tenha caractéres com acento ou ç\n",
    "orig = \"áàãâéèêíìîóòõôúùûç\"\n",
    "sub = \"aaaaeeeiiioooouuuc\"\n",
    "repl = dict(zip(orig, sub))\n",
    "for o, r in repl.items():\n",
    "    mensagem = mensagem.replace(o, r)\n",
    "    \n",
    "    \n",
    "        \n",
    "\n"
   ]
  },
  {
   "cell_type": "code",
   "execution_count": null,
   "metadata": {
    "ExecuteTime": {
     "end_time": "2022-05-25T17:13:32.962328Z",
     "start_time": "2022-05-25T17:13:32.962306Z"
    },
    "cellView": "form",
    "id": "07X9rHcAEsSq",
    "solution2": "shown"
   },
   "outputs": [],
   "source": [
    "#@title Resposta\n",
    "TAM_MAX_CH = 26\n",
    "\n",
    "# primeiro nós pegamos o modo a ser aplicado na string\n",
    "while True:\n",
    "    modo = input(\"Você deseja criptografar ou decriptografar? \").lower()\n",
    "    if modo in [\"criptografar\", \"c\", \"decriptografar\",  \"d\"]:\n",
    "        break\n",
    "    else:\n",
    "        print(\"Entre 'criptografar' ou 'c' ou 'decriptografar' ou 'd'.\")\n",
    "\n",
    "# depois pedimos a mensagem a ser processada\n",
    "mensagem = input(\"Entre sua mensagem: \").lower()\n",
    "\n",
    "# garante que a mensagem não tenha caractéres com acento ou ç\n",
    "orig = \"áàãâéèêíìîóòõôúùûç\"\n",
    "sub = \"aaaaeeeiiioooouuuc\"\n",
    "repl = dict(zip(orig, sub))\n",
    "for o, r in repl.items():\n",
    "    mensagem = mensagem.replace(o, r)\n",
    "\n",
    "# pedimos então a chave da criptografia\n",
    "chave = 0\n",
    "while True:\n",
    "    chave = int(input(f\"Entre o número da chave (1-{TAM_MAX_CH}): \"))\n",
    "    if 1 <= chave <= TAM_MAX_CH:\n",
    "        break\n",
    "    else:\n",
    "        print(f\"A chave deve estar entre 1 e {TAM_MAX_CH}\")\n",
    "        \n",
    "# Nós então traduzimos a mensagem\n",
    "if modo[0] == \"d\":\n",
    "    chave *= -1\n",
    "\n",
    "traduzido = \"\"\n",
    "\n",
    "# para cada caracter na mensagem\n",
    "for simbolo in mensagem:\n",
    "    # nós verificamos se o caracter é alpha numérico\n",
    "    if simbolo.isalpha():\n",
    "        # se for nós pegamos a ordem do simbolo\n",
    "        num = ord(simbolo)\n",
    "        \n",
    "        # então nós adicionamos o valor da chave a ordem\n",
    "        num += chave\n",
    "        \n",
    "        # nós então garantimos que o simbolo não ultrapasse os\n",
    "        # valores de ordem entre A e Z\n",
    "        if num > ord(\"z\"):\n",
    "            num -= 26\n",
    "        elif num < ord(\"a\"):\n",
    "            num += 26\n",
    "        \n",
    "        # convertemos o simbolo para um caracter e adicionamos\n",
    "        # a mensagem\n",
    "        traduzido += chr(num)\n",
    "    else:\n",
    "        traduzido += simbolo\n",
    "\n",
    "# imprime a mensagem traduzida\n",
    "print(traduzido)"
   ]
  },
  {
   "cell_type": "markdown",
   "metadata": {
    "id": "JcMSzxQ6EsSq"
   },
   "source": [
    "---"
   ]
  },
  {
   "cell_type": "markdown",
   "metadata": {
    "id": "oSBxuuesEsSq"
   },
   "source": [
    "## Módulos "
   ]
  },
  {
   "cell_type": "markdown",
   "metadata": {
    "id": "jRLk5DPBEsSq"
   },
   "source": [
    "Uma das maiores vantagens do python é sua modularidade e comunidade. Porque Python é uma linguagem aberta, há muitas pessoas que desenvolvem para a mesma, e muitas vezes sua vida fica muito mais fácil utilizando esse código pré escrito do que o reescrevendo."
   ]
  },
  {
   "cell_type": "markdown",
   "metadata": {
    "ExecuteTime": {
     "end_time": "2021-09-06T22:00:08.920354Z",
     "start_time": "2021-09-06T22:00:08.916365Z"
    },
    "id": "IHBirLgNEsSq"
   },
   "source": [
    "Essas bibliotecas são chamadas de módulo e podem ser importandas utilizando a sintexe do import"
   ]
  },
  {
   "cell_type": "code",
   "execution_count": null,
   "metadata": {
    "ExecuteTime": {
     "end_time": "2022-05-25T17:13:32.964449Z",
     "start_time": "2022-05-25T17:13:32.964432Z"
    },
    "id": "dcC1vsMLH4Db"
   },
   "outputs": [],
   "source": [
    "import math"
   ]
  },
  {
   "cell_type": "markdown",
   "metadata": {
    "id": "a53ksJHkEsSq"
   },
   "source": [
    "Ao fazer isso podemos acessar as múltiplas funcionalidades daquele módulo utilizando a sintaxe do ponto"
   ]
  },
  {
   "cell_type": "code",
   "execution_count": null,
   "metadata": {
    "ExecuteTime": {
     "end_time": "2022-05-25T17:13:32.966410Z",
     "start_time": "2022-05-25T17:13:32.966374Z"
    },
    "id": "Uzl3_14CH4Db"
   },
   "outputs": [],
   "source": [
    "math.sqrt(4)"
   ]
  },
  {
   "cell_type": "markdown",
   "metadata": {
    "id": "rhBF3oCGEsSq"
   },
   "source": [
    "Além disso, podemos importar funções específicas de cada módulo utilizando a sintaxe do from"
   ]
  },
  {
   "cell_type": "code",
   "execution_count": null,
   "metadata": {
    "ExecuteTime": {
     "end_time": "2022-05-25T17:13:32.967713Z",
     "start_time": "2022-05-25T17:13:32.967698Z"
    },
    "id": "qA0DWymQH4Db"
   },
   "outputs": [],
   "source": [
    "from math import sqrt\n",
    "sqrt(4)"
   ]
  },
  {
   "cell_type": "markdown",
   "metadata": {
    "id": "tgqoZ4arEsSq"
   },
   "source": [
    "Caso já tenhamos váriaveis ou funções com os nomes desses módulos podemos renomear-los usando a expressão \"as\""
   ]
  },
  {
   "cell_type": "code",
   "execution_count": null,
   "metadata": {
    "ExecuteTime": {
     "end_time": "2022-05-25T17:13:32.968802Z",
     "start_time": "2022-05-25T17:13:32.968788Z"
    },
    "id": "L1DmjYOJH4Dc"
   },
   "outputs": [],
   "source": [
    "from math import sqrt as raiz\n",
    "raiz(4)"
   ]
  },
  {
   "cell_type": "markdown",
   "metadata": {
    "id": "sQdjy4r-EsSq"
   },
   "source": [
    "---"
   ]
  },
  {
   "cell_type": "markdown",
   "metadata": {
    "id": "YrmtNPevEsSr"
   },
   "source": [
    "**Exercício 11**\n",
    "\n",
    "Escreva um programa para simular o jogo das portas. Faça um programa que tenha\n",
    "a saída como a seguinte:\n",
    "\n",
    "> <p>Olá, bem-vindo ao nosso programa! Vamos ver se você vai ganhar um carro ou não!</p>\n",
    "> <p>Escolha uma porta: 3</p>\n",
    "> <p>Você escolheu a porta 3, mas</p>\n",
    "> <p>eu lhe informo que na porta 2 há um bode.</p>\n",
    "> <p>Deseja trocar de porta (1 - Sim/ 0 - Não): 1</p>\n",
    "> <p>Ganhou um carro!</p>\n",
    "\n",
    "Sortei de forma aleatória a porta com o carro. Utilize o módulo random (https://docs.python.org/3/library/random.html) para isso."
   ]
  },
  {
   "cell_type": "code",
   "execution_count": null,
   "metadata": {
    "ExecuteTime": {
     "end_time": "2022-05-25T17:13:32.970382Z",
     "start_time": "2022-05-25T17:13:32.970359Z"
    },
    "id": "jAdlZr1EEsSr",
    "solution2": "shown",
    "solution2_first": true
   },
   "outputs": [],
   "source": [
    "import random\n",
    "print(\"Olá, bem-vindo ao nosso programa! Vamos ver se você vai ganhar um carro ou não!\")\n",
    "porta = int(input(\"Escolha uma porta: \"))\n",
    "premio = random.choice(range(1,3))\n",
    "\n",
    "if premio != 1 and porta != 1:\n",
    "    bode = 1\n",
    "elif premio != 2 and porta != 2:\n",
    "    bode = 2\n",
    "else:\n",
    "    bode = 3\n",
    "\n",
    "print(\"Você escolheu a porta %i, mas eu lhe informo que na porta %i há um bode.\" % (porta, bode))\n",
    "\n",
    "troca = int(input(\"Deseja trocar de porta? (1 - Sim/ 0 - Não)\"))\n",
    "            \n",
    "if troca == 1:\n",
    "    if premio != 1 and porta != 1:\n",
    "        porta = 1\n",
    "    elif premio != 2 and porta != 2:\n",
    "        porta = 2\n",
    "    else:\n",
    "        porta = 3\n",
    "\n",
    "if porta == premio:\n",
    "    print(\"Ganhou o prêmio!\")\n",
    "else:\n",
    "    print(\"Não ganhou o carro!\")\n"
   ]
  },
  {
   "cell_type": "code",
   "execution_count": null,
   "metadata": {
    "ExecuteTime": {
     "end_time": "2022-05-25T17:13:32.971556Z",
     "start_time": "2022-05-25T17:13:32.971540Z"
    },
    "cellView": "form",
    "id": "reo6As6jEsSr",
    "solution2": "shown"
   },
   "outputs": [],
   "source": [
    "#@title Resposta\n",
    "import random\n",
    "\n",
    "print(\"Olá, bem-vindo ao nosso programa! Vamos ver se você vai ganhar um carro ou não!\")\n",
    "\n",
    "porta = int(input(\"Escolha uma porta: \"))\n",
    "# premio = random.choice([1, 2, 3])\n",
    "# premio = random.randrange(1, 4)\n",
    "premio = random.randint(1, 3)\n",
    "\n",
    "if premio != 1 and porta != 1:\n",
    "    bode = 1\n",
    "elif premio != 2 and porta != 2:\n",
    "    bode = 2\n",
    "else:\n",
    "    bode = 3\n",
    "\n",
    "print(\"Você escolheu a porta %i, mas\" % porta)\n",
    "print(\"eu lhe informo que na porta %i há um bode.\" % bode)\n",
    "\n",
    "decisão = int(input(\"Deseja trocar de porta (1 - Sim/ 0 - Não): \"))\n",
    "\n",
    "if decisão == 1:\n",
    "    if porta != 1 and bode != 1:\n",
    "        porta = 1\n",
    "    elif porta != 2 and bode != 2:\n",
    "        porta = 2\n",
    "    else:\n",
    "        porta = 3\n",
    "\n",
    "if porta == premio:\n",
    "    print(\"Ganhou um carro!\")\n",
    "else:\n",
    "    print(\"Não ganhou um carro...\")"
   ]
  },
  {
   "cell_type": "markdown",
   "metadata": {
    "id": "oDh12TqQEsSr"
   },
   "source": [
    "---"
   ]
  },
  {
   "cell_type": "markdown",
   "metadata": {
    "id": "Len7iJQcEsSr"
   },
   "source": [
    "## Funções"
   ]
  },
  {
   "cell_type": "markdown",
   "metadata": {
    "id": "z6GrjuUEEsSr"
   },
   "source": [
    "### Definição "
   ]
  },
  {
   "cell_type": "markdown",
   "metadata": {
    "id": "tCmGhBjHEsSr"
   },
   "source": [
    "A palavra reservada def inicia a definição de uma função. Ela deve ser seguida do nome da função e da lista de parâmetros formais entre parênteses. Os comandos que formam o corpo da função começam na linha seguinte e devem ser indentados."
   ]
  },
  {
   "cell_type": "markdown",
   "metadata": {
    "id": "wsRXV49fEsSr"
   },
   "source": [
    "<img src=\"https://bham-carpentries.github.io/2018-12-17-bham_python-novice-inflammation/fig/python-function.svg\" />"
   ]
  },
  {
   "cell_type": "code",
   "execution_count": null,
   "metadata": {
    "ExecuteTime": {
     "end_time": "2022-05-25T17:13:32.972821Z",
     "start_time": "2022-05-25T17:13:32.972800Z"
    },
    "id": "36Jy6_zWH4Dd"
   },
   "outputs": [],
   "source": [
    "def ola_mundo(nome):\n",
    "    texto_de_ola = f\"Olá {nome}! Prazer em te conhecer!\"\n",
    "    print(texto_de_ola)"
   ]
  },
  {
   "cell_type": "code",
   "execution_count": null,
   "metadata": {
    "ExecuteTime": {
     "end_time": "2022-05-25T17:13:32.974342Z",
     "start_time": "2022-05-25T17:13:32.974323Z"
    }
   },
   "outputs": [],
   "source": [
    "ola_mundo(\"Pedro\")"
   ]
  },
  {
   "cell_type": "code",
   "execution_count": null,
   "metadata": {
    "ExecuteTime": {
     "end_time": "2022-05-25T17:13:32.975321Z",
     "start_time": "2022-05-25T17:13:32.975293Z"
    }
   },
   "outputs": [],
   "source": [
    "ola_mundo(\"Matheus\")"
   ]
  },
  {
   "cell_type": "markdown",
   "metadata": {
    "id": "AG0aEA-JEsSr"
   },
   "source": [
    "### Variáveis de Função "
   ]
  },
  {
   "cell_type": "markdown",
   "metadata": {
    "id": "oywluPlGEsSr"
   },
   "source": [
    "A execução de uma função cria uma nova tabela de símbolos para as variáveis locais da função. Mais precisamente, todas as atribuições de variáveis numa função são armazenadas na tabela de símbolos local; referências a variáveis são buscadas primeiro na tabela de símbolos local, em seguida na tabela de símbolos locais de funções delimitadoras ou circundantes, depois na tabela de símbolos global e, finalmente, na tabela de nomes da própria linguagem."
   ]
  },
  {
   "cell_type": "code",
   "execution_count": null,
   "metadata": {
    "ExecuteTime": {
     "end_time": "2022-05-25T17:13:32.976636Z",
     "start_time": "2022-05-25T17:13:32.976614Z"
    },
    "id": "oqdImr44H4De"
   },
   "outputs": [],
   "source": [
    "ola_mundo(\"Pedro\")"
   ]
  },
  {
   "cell_type": "code",
   "execution_count": null,
   "metadata": {
    "ExecuteTime": {
     "end_time": "2022-05-25T17:13:32.977877Z",
     "start_time": "2022-05-25T17:13:32.977863Z"
    }
   },
   "outputs": [],
   "source": [
    "texto_de_ola #variável local"
   ]
  },
  {
   "cell_type": "code",
   "execution_count": null,
   "metadata": {
    "ExecuteTime": {
     "end_time": "2022-05-25T17:13:32.978889Z",
     "start_time": "2022-05-25T17:13:32.978875Z"
    }
   },
   "outputs": [],
   "source": [
    "texto_de_ola = \"Olá fulano! Prazer em te conhecer!\""
   ]
  },
  {
   "cell_type": "code",
   "execution_count": null,
   "metadata": {
    "ExecuteTime": {
     "end_time": "2022-05-25T17:13:32.980097Z",
     "start_time": "2022-05-25T17:13:32.980082Z"
    }
   },
   "outputs": [],
   "source": [
    "def ola_mundo(nome):\n",
    "    global texto_de_ola\n",
    "    print(texto_de_ola)\n",
    "    \n",
    "    \n",
    "    texto_de_ola = f\"Olá {nome}! Prazer em te conhecer!\"\n",
    "    print(texto_de_ola)"
   ]
  },
  {
   "cell_type": "code",
   "execution_count": null,
   "metadata": {
    "ExecuteTime": {
     "end_time": "2022-05-25T17:13:32.981382Z",
     "start_time": "2022-05-25T17:13:32.981358Z"
    }
   },
   "outputs": [],
   "source": [
    "texto_de_ola"
   ]
  },
  {
   "cell_type": "markdown",
   "metadata": {
    "id": "k3nBb8UsEsSs"
   },
   "source": [
    "### Argumentos "
   ]
  },
  {
   "cell_type": "markdown",
   "metadata": {
    "id": "TMt-BD9zEsSs"
   },
   "source": [
    "É possível definir funções com um número variável de argumentos. Existem três formas, que podem ser combinadas."
   ]
  },
  {
   "cell_type": "markdown",
   "metadata": {
    "id": "FUBj8IUKEsSs"
   },
   "source": [
    "**Argumentos com valor padrão**: A mais útil das três é especificar um valor padrão para um ou mais argumentos. Isso cria uma função que pode ser invocada com menos argumentos do que os que foram definidos. Por exemplo:"
   ]
  },
  {
   "cell_type": "code",
   "execution_count": null,
   "metadata": {},
   "outputs": [],
   "source": []
  },
  {
   "cell_type": "code",
   "execution_count": null,
   "metadata": {
    "ExecuteTime": {
     "end_time": "2022-05-25T17:13:32.982562Z",
     "start_time": "2022-05-25T17:13:32.982546Z"
    },
    "id": "kvaDrgIuH4Df"
   },
   "outputs": [],
   "source": [
    "def ola_mundo(nome,sobn = \"Forli\"):\n",
    "    texto_de_ola = f\"Olá {nome} {sobn}! Prazer em te conhecer!\"\n",
    "    print(texto_de_ola)\n",
    "    \n",
    "ola_mundo(\"Pedro\")\n",
    "ola_mundo(\"Matheus\")\n",
    "ola_mundo(\"Cristiano\",\"Ronaldo\")\n",
    "ola_mundo(\"Mathias\",sobn=\"Pinto\")"
   ]
  },
  {
   "cell_type": "markdown",
   "metadata": {
    "id": "ltIFJZl5EsSs"
   },
   "source": [
    "Aviso importante: Valores padrões são avaliados apenas uma vez. Isso faz diferença quando o valor é um objeto mutável, como uma lista, dicionário, ou instâncias de classes. Por exemplo, a função a seguir acumula os argumentos passados, nas chamadas subsequentes:"
   ]
  },
  {
   "cell_type": "code",
   "execution_count": null,
   "metadata": {
    "ExecuteTime": {
     "end_time": "2022-05-25T17:13:32.983710Z",
     "start_time": "2022-05-25T17:13:32.983695Z"
    },
    "id": "9RoPi5XlH4Df"
   },
   "outputs": [],
   "source": [
    "lista = [1,2,3,4]\n",
    "def altera_lista(lista):\n",
    "    lista.append(5)\n",
    "print(lista)\n",
    "altera_lista(lista)\n",
    "print(lista)\n",
    "altera_lista(lista)\n",
    "print(lista)"
   ]
  },
  {
   "cell_type": "markdown",
   "metadata": {
    "id": "VAs9UGvREsSs"
   },
   "source": [
    "**Argumentos nomeados**: Funções também podem ser chamadas usando argumentos nomeados da forma chave=valor. Por exemplo, a função a seguir:"
   ]
  },
  {
   "cell_type": "code",
   "execution_count": null,
   "metadata": {
    "ExecuteTime": {
     "end_time": "2022-05-25T17:13:32.984689Z",
     "start_time": "2022-05-25T17:13:32.984673Z"
    },
    "id": "76F6P-8EH4Df"
   },
   "outputs": [],
   "source": [
    "def papai_noel(vel,acao=\"voou\",presente=\"chocalho\",cor=\"azul\"):\n",
    "    print(\n",
    "        f\"Papai noel {acao}\"\n",
    "        f\" a {vel} km/h\"\n",
    "        f\" para me dar um {presente}\"\n",
    "        f\" de cor {cor}\"\n",
    "    )\n",
    "    \n",
    "papai_noel(1000)\n",
    "papai_noel(1000,\"correu\",\"carrinho\")\n",
    "papai_noel(vel=1000)\n",
    "papai_noel(vel=1000,acao=\"correu\")\n",
    "papai_noel(acao=\"nadou\",vel=300)\n"
   ]
  },
  {
   "cell_type": "code",
   "execution_count": null,
   "metadata": {
    "ExecuteTime": {
     "end_time": "2022-05-25T17:13:32.985921Z",
     "start_time": "2022-05-25T17:13:32.985906Z"
    }
   },
   "outputs": [],
   "source": [
    "papai_noel()"
   ]
  },
  {
   "cell_type": "code",
   "execution_count": null,
   "metadata": {
    "ExecuteTime": {
     "end_time": "2022-05-25T17:13:32.987126Z",
     "start_time": "2022-05-25T17:13:32.987111Z"
    }
   },
   "outputs": [],
   "source": [
    "papai_noel(vel=5,\"correu\")"
   ]
  },
  {
   "cell_type": "markdown",
   "metadata": {
    "id": "A4KE1Bf4EsSs"
   },
   "source": [
    "Em uma chamada de função, argumentos nomeados devem vir depois dos argumentos posicionais. Todos os argumentos nomeados passados devem corresponder com argumentos aceitos pela função (ex. comida não é um argumento nomeado válido para a função papai_noel), mas sua ordem é irrelevante. Isto também inclui argumentos obrigatórios (ex.: papai_noel(vel=1000) funciona). Nenhum argumento pode receber mais de um valor. Eis um exemplo que não funciona devido a esta restrição:"
   ]
  },
  {
   "cell_type": "code",
   "execution_count": null,
   "metadata": {
    "ExecuteTime": {
     "end_time": "2022-05-25T17:13:32.988128Z",
     "start_time": "2022-05-25T17:13:32.988114Z"
    },
    "id": "vEGdiJPVH4Dg"
   },
   "outputs": [],
   "source": [
    "def function(a):\n",
    "    pass\n",
    "fuction(0,a=0)"
   ]
  },
  {
   "cell_type": "markdown",
   "metadata": {
    "id": "IobA5gRFEsSs"
   },
   "source": [
    "Quando um último parâmetro formal no formato \\*\\*nome está presente, ele recebe um dicionário (veja Tipo mapeamento — dict) contendo todos os argumentos nomeados, exceto aqueles que correspondem a um parâmetro formal. Isto pode ser combinado com um parâmetro formal no formato \\*nome (descrito na próxima subseção) que recebe uma tupla contendo os argumentos posicionais, além da lista de parâmetros formais. (\\*nome deve ocorrer antes de \\*\\*nome.) Por exemplo, se definirmos uma função assim:"
   ]
  },
  {
   "cell_type": "code",
   "execution_count": null,
   "metadata": {
    "ExecuteTime": {
     "end_time": "2022-05-25T17:13:32.989205Z",
     "start_time": "2022-05-25T17:13:32.989191Z"
    },
    "id": "mfQM44rsH4Dg"
   },
   "outputs": [],
   "source": [
    "def loja_de_queijo(tipo, *args, **kwargs):\n",
    "    print(\"VocÊ tem tipo\",tipo,\"?\")\n",
    "    print(\"Foi mal, mas acabou todo queijo\",tipo)\n",
    "    \n",
    "    for arg in args:\n",
    "        print(arg)\n",
    "    print(\"-\"*40)\n",
    "    \n",
    "    for kw in kwargs:\n",
    "        print(kw, \":\", kwargs[kw])\n",
    "\n",
    "    \n",
    "loja_de_queijo(\n",
    "    \"Prato\",\n",
    "    \"É bem procurado este quejo\",\n",
    "    \"A galera come pra caramba, mas você pode ver com: \",\n",
    "    loja=\"Alegria do queijo\",\n",
    "    dono=\"Fernando Cabra\",\n",
    "    rua=\"Cheddar com Faria Lima\"\n",
    "\n",
    ")\n",
    "     "
   ]
  },
  {
   "cell_type": "code",
   "execution_count": null,
   "metadata": {
    "ExecuteTime": {
     "end_time": "2022-05-18T17:24:49.500807Z",
     "start_time": "2022-05-18T17:24:49.496697Z"
    }
   },
   "outputs": [],
   "source": []
  },
  {
   "cell_type": "code",
   "execution_count": null,
   "metadata": {
    "ExecuteTime": {
     "end_time": "2022-05-25T17:13:32.990287Z",
     "start_time": "2022-05-25T17:13:32.990272Z"
    }
   },
   "outputs": [],
   "source": [
    "dicionario = {}\n",
    "loja_de_queijo(\"Prato\",*lista,**dicionario)"
   ]
  },
  {
   "cell_type": "code",
   "execution_count": null,
   "metadata": {},
   "outputs": [],
   "source": []
  },
  {
   "cell_type": "code",
   "execution_count": null,
   "metadata": {},
   "outputs": [],
   "source": []
  },
  {
   "cell_type": "markdown",
   "metadata": {
    "id": "boN8xzvtEsSt"
   },
   "source": [
    "**Parâmetros especiais**: Por padrão, argumentos podem ser passadas para uma função Python tanto por posição quanto explicitamente pelo nome. Para uma melhor legibilidade e desempenho, faz sentido restringir a maneira pelo qual argumentos possam ser passados, assim um desenvolvedor precisa apenas olhar para a definição da função para determinar se os itens são passados por posição, por posição e nome, ou por nome.\n",
    "\n",
    "A definição de uma função pode parecer com:"
   ]
  },
  {
   "cell_type": "raw",
   "metadata": {
    "id": "ZG37EnDqEsSt"
   },
   "source": [
    "def f(pos1, pos2, /, pos_or_kwd, *, kwd1, kwd2):\n",
    "      -----------    ----------     ----------\n",
    "        |             |                  |\n",
    "        |        Positional or keyword   |\n",
    "        |                                - Keyword only\n",
    "         -- Positional only"
   ]
  },
  {
   "cell_type": "markdown",
   "metadata": {
    "id": "-MC8Lp2qEsSt"
   },
   "source": [
    "*Argumentos posicional-ou-nomeados*: Se / e * não estão presentes na definição da função, argumentos podem ser passados para uma função por posição ou por nome.\n",
    "\n",
    "*Parâmetros somente-posicionais*: Olhando com um pouco mais de detalhes, é possível definir certos parâmetros como somente-posicional. Se somente-posicional, a ordem do parâmetro importa, e os parâmetros não podem ser passados por nome. Parâmetros somente-posicional são colocados antes de / (barra). A / é usada para logicamente separar os argumentos somente-posicional dos demais parâmetros. Se não existe uma / na definição da função, não existe parâmetros somente-posicionais.\n",
    "\n",
    "Parâmetros após a / podem ser posicional-ou-nomeado ou somente-nomeado.\n",
    "\n",
    "*Argumentos somente-nomeados*: Para definir parâmetros como somente-nomeado, indicando que o parâmetro deve ser passado por argumento nomeado, colocamos um * na lista de argumentos imediatamente antes do primeiro parâmetro somente-nomeado."
   ]
  },
  {
   "cell_type": "code",
   "execution_count": null,
   "metadata": {
    "ExecuteTime": {
     "end_time": "2022-05-25T17:13:32.991186Z",
     "start_time": "2022-05-25T17:13:32.991170Z"
    },
    "id": "OHtucFjcH4Dh"
   },
   "outputs": [],
   "source": [
    "def funcao_normal(arg):\n",
    "    print(arg)\n",
    "\n",
    "def somente_posicional(arg,/):\n",
    "    print(arg)\n",
    "    \n",
    "def somente_chaveado(*,arg):\n",
    "    print(arg)\n",
    "\n",
    "def combinado(pos,/,normal,*,chave):\n",
    "    print(pos,normal,chave)"
   ]
  },
  {
   "cell_type": "code",
   "execution_count": null,
   "metadata": {
    "ExecuteTime": {
     "end_time": "2022-05-25T17:13:32.992323Z",
     "start_time": "2022-05-25T17:13:32.992308Z"
    }
   },
   "outputs": [],
   "source": [
    "funcao_normal(1)\n",
    "funcao_normal(arg=1)"
   ]
  },
  {
   "cell_type": "code",
   "execution_count": null,
   "metadata": {
    "ExecuteTime": {
     "end_time": "2022-05-25T17:13:32.993903Z",
     "start_time": "2022-05-25T17:13:32.993882Z"
    }
   },
   "outputs": [],
   "source": [
    "somente_posicional(1)\n",
    "somente_posicional(arg=1)"
   ]
  },
  {
   "cell_type": "code",
   "execution_count": null,
   "metadata": {
    "ExecuteTime": {
     "end_time": "2022-05-25T17:13:32.996389Z",
     "start_time": "2022-05-25T17:13:32.996354Z"
    }
   },
   "outputs": [],
   "source": [
    "somente_chaveado(arg=1)\n",
    "somente_chaveado(1)"
   ]
  },
  {
   "cell_type": "code",
   "execution_count": null,
   "metadata": {
    "ExecuteTime": {
     "end_time": "2022-05-25T17:13:32.998407Z",
     "start_time": "2022-05-25T17:13:32.998385Z"
    }
   },
   "outputs": [],
   "source": [
    "combinado(1,normal=3,chave=\"chave\")"
   ]
  },
  {
   "cell_type": "markdown",
   "metadata": {
    "id": "n5i8-4d8EsSt"
   },
   "source": [
    "### Retorno "
   ]
  },
  {
   "cell_type": "markdown",
   "metadata": {
    "id": "k8Pqhx_4EsSt"
   },
   "source": [
    "É fácil escrever uma função que retorna o texto ao invés de exibi-los:"
   ]
  },
  {
   "cell_type": "code",
   "execution_count": null,
   "metadata": {
    "ExecuteTime": {
     "end_time": "2022-05-25T17:13:33.000161Z",
     "start_time": "2022-05-25T17:13:33.000136Z"
    },
    "id": "UvCmmxJ7H4Dh"
   },
   "outputs": [],
   "source": [
    "def ola_mundo(nome):\n",
    "    return f\"Olá {nome}! Prazer em te conhecer\"\n",
    "\n",
    "texto = ola_mundo(\"Pedro\")\n",
    "texto"
   ]
  },
  {
   "cell_type": "code",
   "execution_count": null,
   "metadata": {
    "ExecuteTime": {
     "end_time": "2022-05-25T17:13:33.002282Z",
     "start_time": "2022-05-25T17:13:33.002266Z"
    }
   },
   "outputs": [],
   "source": [
    "1 == None"
   ]
  },
  {
   "cell_type": "markdown",
   "metadata": {
    "id": "gH9CczlDEsSt"
   },
   "source": [
    "A instrução return finaliza a execução e retorna um valor da função. return sem qualquer expressão como argumento retorna None. Atingir o final da função também retorna None."
   ]
  },
  {
   "cell_type": "markdown",
   "metadata": {
    "id": "mOFhfeyEEsSt"
   },
   "source": [
    "A instrução também pode retornar múltiplos valores ao invés de apenas um, gerando uma tupla como resultado"
   ]
  },
  {
   "cell_type": "code",
   "execution_count": 16,
   "metadata": {
    "ExecuteTime": {
     "end_time": "2022-05-25T17:13:47.425883Z",
     "start_time": "2022-05-25T17:13:47.418967Z"
    },
    "id": "lw0qtxQTH4Di"
   },
   "outputs": [
    {
     "name": "stdout",
     "output_type": "stream",
     "text": [
      "(15, -5, 50)\n",
      "(15, -5, 50)\n",
      "15 -5 50\n"
     ]
    }
   ],
   "source": [
    "def operacao(a,b):\n",
    "    return a+b,a-b,a*b\n",
    "\n",
    "print(operacao(5,10))\n",
    "v = operacao(5,10)\n",
    "print(v)\n",
    "v1,v2,v3 = operacao(5,10)\n",
    "print(v1,v2,v3)"
   ]
  },
  {
   "cell_type": "markdown",
   "metadata": {
    "id": "7ctdKBUoEsSt"
   },
   "source": [
    "### Docstring "
   ]
  },
  {
   "cell_type": "markdown",
   "metadata": {
    "id": "ibUhkzMlEsSt"
   },
   "source": [
    "Opcionalmente, a primeira linha do corpo da função pode ser uma literal string, cujo propósito é documentar a função. Se presente, essa string chama-se docstring. (Há mais informação sobre docstrings na seção Strings de documentação.) Existem ferramentas que utilizam docstrings para produzir automaticamente documentação online ou para imprimir, ou ainda, permitir que o usuário navegue interativamente pelo código. É uma boa prática incluir sempre docstrings em suas funções, portanto, tente fazer disso um hábito."
   ]
  },
  {
   "cell_type": "code",
   "execution_count": 17,
   "metadata": {
    "ExecuteTime": {
     "end_time": "2022-05-25T17:13:50.000804Z",
     "start_time": "2022-05-25T17:13:49.996514Z"
    },
    "id": "8vjlK-QrH4Di"
   },
   "outputs": [],
   "source": [
    "def ola_mundo(nome):\n",
    "    \"\"\"\n",
    "    Imprime um mensagem de olá com o nome da pessoa\n",
    "    \n",
    "    :param nome: nome da pessoa a ser impresso\n",
    "    \n",
    "    \"\"\"\n",
    "    texto_de_ola = f\"Olá {nome}! Prazer em te conhecer\"\n",
    "    print(texto_de_ola)"
   ]
  },
  {
   "cell_type": "code",
   "execution_count": null,
   "metadata": {
    "ExecuteTime": {
     "end_time": "2022-05-25T17:13:33.005247Z",
     "start_time": "2022-05-25T17:13:33.005233Z"
    }
   },
   "outputs": [],
   "source": [
    "ola_mundo()"
   ]
  },
  {
   "cell_type": "code",
   "execution_count": 18,
   "metadata": {
    "ExecuteTime": {
     "end_time": "2022-05-25T17:13:52.090135Z",
     "start_time": "2022-05-25T17:13:52.084911Z"
    }
   },
   "outputs": [
    {
     "data": {
      "text/plain": [
       "'\\n    Imprime um mensagem de olá com o nome da pessoa\\n    \\n    :param nome: nome da pessoa a ser impresso\\n    \\n    '"
      ]
     },
     "execution_count": 18,
     "metadata": {},
     "output_type": "execute_result"
    }
   ],
   "source": [
    "ola_mundo.__doc__"
   ]
  },
  {
   "cell_type": "markdown",
   "metadata": {
    "id": "BT_40OuZEsSt"
   },
   "source": [
    "Em particular o padrão de documentação que utilizaremos é o Sphinx (https://www.sphinx-doc.org/en/master/).\n",
    "\n",
    "Sphinx usa a sintaxe de palavra-chave (palavra reservada), que a maioria das linguagens de programação fazem. As palavras-chave mais importantes são:\n",
    "\n",
    "- *param* e *type*: O valor do parâmetro e o tipo de variável.\n",
    "- *return* e *rtype*: o valor de retorno e seu tipo.\n",
    "- *:raise* : Descreve todos os erros que são levantados pelo código.\n",
    "- *.. seealso::*: Leituras adicionais.\n",
    "- *.. notes::*: Adicionar uma nota.\n",
    "- *.. warning::*: Adicionar um aviso."
   ]
  },
  {
   "cell_type": "code",
   "execution_count": 19,
   "metadata": {
    "ExecuteTime": {
     "end_time": "2022-05-25T17:13:54.495793Z",
     "start_time": "2022-05-25T17:13:54.490488Z"
    },
    "id": "LQNwh6jZH4Dj"
   },
   "outputs": [],
   "source": [
    "def multiplica(a,b,c= 1):\n",
    "    \"\"\"\n",
    "    Retorna à multiplicação de todos os argumentos da função\n",
    "    \n",
    "    :param a: argumento 1\n",
    "    :type a: int\n",
    "    :param b: argumento 2\n",
    "    :type b: int\n",
    "    :param c: argumento 3,padrão 0\n",
    "    :type c: int, opcional\n",
    "    :raises ValueError: se a == b\n",
    "    \"\"\"\n",
    "    \n",
    "    if a == b:\n",
    "        raise ValueError(\"arg1 deve ser diferente de arg2\")\n",
    "    return a * b * c"
   ]
  },
  {
   "cell_type": "markdown",
   "metadata": {
    "id": "kYEUvyU5EsSu"
   },
   "source": [
    "Para mais detalhes veja https://sphinx-rtd-tutorial.readthedocs.io/en/latest/docstrings.html"
   ]
  },
  {
   "cell_type": "markdown",
   "metadata": {
    "id": "ID71GCTAEsSu"
   },
   "source": [
    "### Type hint"
   ]
  },
  {
   "cell_type": "markdown",
   "metadata": {
    "id": "xJTiOhe6EsSu"
   },
   "source": [
    "Em Python utiliza-se tipagem dinâmica, na qual os tipos de variáveis são atribuidos no momento da execução do código. Por exemplo, quando definimos a função ola_mundo, a príncipio não informamos qual era o tipo da variavel \"nome\", mas de alguma maneira, em algum momento, a linguagem conseguiu inferir que nome deveria ser do tipo \"string\" e com isso executar os blocos de código de acordo.\n",
    "\n",
    "Podemos, por outro lado, colocar de forma explícita o tipo de uma determinada variável utilizando o \"type hint\". Como o nome implica (type hint = dica de tipo) esta especificação não forçará a linguagem a utilizar um determinado tipo para uma variável, mas ajudará na documentação e em verificações do código, e serão muito utilizados no nosso código"
   ]
  },
  {
   "cell_type": "code",
   "execution_count": 20,
   "metadata": {
    "ExecuteTime": {
     "end_time": "2022-05-25T17:13:58.266477Z",
     "start_time": "2022-05-25T17:13:58.262405Z"
    },
    "id": "pK5Q8ui1H4Dj"
   },
   "outputs": [
    {
     "name": "stdout",
     "output_type": "stream",
     "text": [
      "Olá Pedro! Prazer em te conhecer\n"
     ]
    }
   ],
   "source": [
    "ola_mundo(\"Pedro\")"
   ]
  },
  {
   "cell_type": "code",
   "execution_count": 21,
   "metadata": {
    "ExecuteTime": {
     "end_time": "2022-05-25T17:16:38.405282Z",
     "start_time": "2022-05-25T17:16:38.401249Z"
    }
   },
   "outputs": [
    {
     "name": "stdout",
     "output_type": "stream",
     "text": [
      "Olá (2+3j)! Prazer em te conhecer\n"
     ]
    }
   ],
   "source": [
    "ola_mundo(2 + 3j)"
   ]
  },
  {
   "cell_type": "code",
   "execution_count": 24,
   "metadata": {
    "ExecuteTime": {
     "end_time": "2022-05-25T17:18:43.739291Z",
     "start_time": "2022-05-25T17:18:43.735855Z"
    }
   },
   "outputs": [],
   "source": [
    "import typing"
   ]
  },
  {
   "cell_type": "code",
   "execution_count": 22,
   "metadata": {
    "ExecuteTime": {
     "end_time": "2022-05-25T17:17:50.148527Z",
     "start_time": "2022-05-25T17:17:50.144411Z"
    }
   },
   "outputs": [],
   "source": [
    "def ola_mundo(nome: str) -> None:\n",
    "    \"\"\"\n",
    "    Imprime um mensagem de olá com o nome da pessoa\n",
    "    \n",
    "    :param nome: nome da pessoa a ser impresso\n",
    "    \n",
    "    \"\"\"\n",
    "    texto_de_ola = f\"Olá {nome}! Prazer em te conhecer\"\n",
    "    print(texto_de_ola)"
   ]
  },
  {
   "cell_type": "code",
   "execution_count": 23,
   "metadata": {
    "ExecuteTime": {
     "end_time": "2022-05-25T17:18:10.215224Z",
     "start_time": "2022-05-25T17:18:10.210781Z"
    }
   },
   "outputs": [
    {
     "name": "stdout",
     "output_type": "stream",
     "text": [
      "Olá (2+3j)! Prazer em te conhecer\n"
     ]
    }
   ],
   "source": [
    "ola_mundo(2 + 3j)"
   ]
  },
  {
   "cell_type": "markdown",
   "metadata": {
    "id": "aAwnxHspEsSu"
   },
   "source": [
    "Para mais detalhes https://diogommartins.medium.com/python-3-e-type-hints-40e80a9e8214"
   ]
  },
  {
   "cell_type": "markdown",
   "metadata": {
    "id": "Q15hjwtjEsSu"
   },
   "source": [
    "### Funções anônimas"
   ]
  },
  {
   "cell_type": "markdown",
   "metadata": {
    "id": "VN8ydeltEsSu"
   },
   "source": [
    "Pequenas funções anônimas podem ser criadas com a palavra-chave lambda. Esta função retorna a soma de seus dois argumentos: lambda a, b: a+b. As funções lambda podem ser usadas sempre que objetos função forem necessários. Eles são sintaticamente restritos a uma única expressão. Semanticamente, eles são apenas açúcar sintático para uma definição de função normal. Como definições de funções aninhadas, as funções lambda podem referenciar variáveis contidas no escopo:"
   ]
  },
  {
   "cell_type": "code",
   "execution_count": 25,
   "metadata": {
    "ExecuteTime": {
     "end_time": "2022-05-25T19:35:18.376397Z",
     "start_time": "2022-05-25T19:35:18.368516Z"
    },
    "id": "5PZu2ZfEH4Dk"
   },
   "outputs": [
    {
     "data": {
      "text/plain": [
       "11"
      ]
     },
     "execution_count": 25,
     "metadata": {},
     "output_type": "execute_result"
    }
   ],
   "source": [
    "def cria_incrementador(n):\n",
    "    return n + 1\n",
    "\n",
    "cria_incrementador(10)"
   ]
  },
  {
   "cell_type": "code",
   "execution_count": 27,
   "metadata": {
    "ExecuteTime": {
     "end_time": "2022-05-25T19:35:58.891546Z",
     "start_time": "2022-05-25T19:35:58.886076Z"
    }
   },
   "outputs": [
    {
     "data": {
      "text/plain": [
       "11"
      ]
     },
     "execution_count": 27,
     "metadata": {},
     "output_type": "execute_result"
    }
   ],
   "source": [
    "cria_incrementador = lambda n:n +1\n",
    "cria_incrementador(10)"
   ]
  },
  {
   "cell_type": "code",
   "execution_count": 29,
   "metadata": {
    "ExecuteTime": {
     "end_time": "2022-05-25T19:37:46.418726Z",
     "start_time": "2022-05-25T19:37:46.412475Z"
    }
   },
   "outputs": [
    {
     "name": "stdout",
     "output_type": "stream",
     "text": [
      "1\n",
      "42\n"
     ]
    }
   ],
   "source": [
    "def cria_incrementador(n):\n",
    "    return lambda x: x + n\n",
    "\n",
    "f1 = cria_incrementador(1)\n",
    "f2 = cria_incrementador(42)\n",
    "\n",
    "\n",
    "print(f1(0))\n",
    "print(f2(0))"
   ]
  },
  {
   "cell_type": "markdown",
   "metadata": {
    "id": "OsD0Qam4EsSu"
   },
   "source": [
    "O exemplo acima usa uma expressão lambda para retornar uma função. Outro uso é passar uma pequena função como um argumento:"
   ]
  },
  {
   "cell_type": "code",
   "execution_count": 33,
   "metadata": {
    "ExecuteTime": {
     "end_time": "2022-05-25T19:46:39.539341Z",
     "start_time": "2022-05-25T19:46:39.533388Z"
    },
    "id": "9KumAPm-H4Dk"
   },
   "outputs": [
    {
     "name": "stdout",
     "output_type": "stream",
     "text": [
      "[(2, 'dois'), (3, 'três'), (1, 'um')]\n"
     ]
    }
   ],
   "source": [
    "pares = [(1,\"um\"),(3,\"três\"),(2,\"dois\")]\n",
    "pares.sort(key=lambda par: par[1])\n",
    "print(pares)"
   ]
  },
  {
   "cell_type": "markdown",
   "metadata": {
    "id": "_tXQj-AlEsSu"
   },
   "source": [
    "---"
   ]
  },
  {
   "cell_type": "markdown",
   "metadata": {
    "id": "T4Yq3nmOEsSv"
   },
   "source": [
    "**Exercício 12**"
   ]
  },
  {
   "cell_type": "markdown",
   "metadata": {
    "id": "rL1UUxxxEsSv"
   },
   "source": [
    "No jogo dos 15 o objetivo é receber uma matriz com números de 1 a 15 ordenados de forma aleatória e ir trocando as peças até que se consiga obter um tabuleiro com os números ordenados.\n",
    "\n",
    "<img src=\"https://images-na.ssl-images-amazon.com/images/I/8107cskBQ3L.png\" width=200 height=150 />\n",
    "\n",
    "Neste exercício iremos reproduzir o jogo dos 15 através da construção de funções específicas. Você já começa com algumas funções pré-definidas, como gera_matriz, mas precisará completar as demais:\n",
    "\n",
    "1. troca_elemento: Troca os elementos de uma matriz de itens\n",
    "1. verifica_se_venceu: Recebe uma matriz 4x4 e verifica se os números estão ordenados de forma que o jogador venceu\n",
    "1. verifica_jogada: Verifica se a jogada escolhida pelo usuário é válida\n",
    "\n",
    "Você pode fazer quantas funções adcionais quanto quiser\n",
    "\n",
    "Organize o seu jogo dentro da função main. Dê para o usuário a toda rodada a opção de desistir(0) ou de inserir uma posição(1), a posição inserida será feita colocando a linha e coluna da matriz, por exemplo 11 significa que\n",
    "estamos nos referenciando ao elemento da linha 1 coluna 1, 32 se referencia ao elemento da linha 3 coluna 2"
   ]
  },
  {
   "cell_type": "code",
   "execution_count": null,
   "metadata": {
    "ExecuteTime": {
     "end_time": "2022-05-25T17:13:33.009766Z",
     "start_time": "2022-05-25T17:13:33.009740Z"
    },
    "id": "LZM5KnKrHMwh",
    "solution2": "hidden",
    "solution2_first": true
   },
   "outputs": [],
   "source": [
    "import random\n",
    "import typing\n",
    "import time\n",
    "from IPython.display import clear_output\n",
    "\n",
    "\n",
    "def gera_matriz() -> typing.List[typing.List[int]]:\n",
    "    \"\"\"\n",
    "    Gera uma matriz 4x4 com elementos em posições aleatórias\n",
    "    entre 0 e 15\n",
    "    \n",
    "    :return: matriz 4x4 com valores entre 0 e 15\n",
    "    \"\"\"\n",
    "    matriz = list()\n",
    "    lista = list(range(16))\n",
    "    for j in range(4):\n",
    "        linha = []\n",
    "        for i in range(4):\n",
    "            x = random.choice(lista)\n",
    "            linha.append(x)\n",
    "            lista.remove(x)\n",
    "        matriz.append(linha)\n",
    "    return matriz\n",
    "        \n",
    "\n",
    "def acha_pos_zero(matriz: typing.List[typing.List[int]]) -> int:\n",
    "    \"\"\"\n",
    "    Função que procura e devolve a posição do zero da matriz (espaço vazio)\n",
    "    \n",
    "    :param matriz: matriz com os elementos do jogo\n",
    "    :return: posição do elemento 0\n",
    "    \"\"\"\n",
    "    for i in range(len(matriz)):\n",
    "        for j in range(len(matriz[0])):\n",
    "            if matriz[i][j] == 0:\n",
    "                return (i + 1) * 10 + j + 1\n",
    "\n",
    "\n",
    "def imprime_jogo(\n",
    "    matriz: typing.List[typing.List[int]]\n",
    ") -> None:\n",
    "    \"\"\"\n",
    "    Imprime o estado atual do tabuleiro\n",
    "    \n",
    "    :param matriz: matriz com os elementos do jogo\n",
    "    \"\"\"\n",
    "    for i in range(4):\n",
    "        print(\"+------+------+------+------+\")\n",
    "        for j in range(4):\n",
    "            print(\"+  %02d \" % matriz[i][j], end=\" \")\n",
    "        print(\"+\")\n",
    "    print(\"+------+------+------+------+\")\n",
    "\n",
    "\n",
    "def troca_elemento(\n",
    "    pos1: int, \n",
    "    pos2: int, \n",
    "    matriz: typing.List[typing.List[int]]\n",
    ") -> None:\n",
    "    \"\"\"\n",
    "    Dada uma matriz (listas de listas) de tamanho 4x4 troque os\n",
    "    elementos contidos na posição 1 com o elemento da posição 2,\n",
    "    na qual os elementos são representados por um número inteiro\n",
    "    cujo valor correponde a linha e coluna do elemento.\n",
    "    \n",
    "    Por exemplo pos1 = 11 -> elemento da primeira linha e primeira coluna\n",
    "    \n",
    "    Assim, se pos1 = 11, pos2 = 12 e\n",
    "    matriz =\n",
    "        1  2  3  4\n",
    "        5  6  7  8\n",
    "        9 10 11 12\n",
    "    \n",
    "    Queremos obter\n",
    "        2  1  3  4\n",
    "        5  6  7  8\n",
    "        9 10 11 12\n",
    "    \n",
    "    As mudanças da matriz devem ser feitas dentro da função, sem necessidade\n",
    "    de retornar uma nova matriz\n",
    "    \n",
    "    :param pos1: número inteiro da posição 1\n",
    "    :param pos2: número inteiro da posição 2\n",
    "    :param matriz: matriz de elementos\n",
    "    \"\"\"\n",
    "    pass\n",
    "\n",
    "\n",
    "def verifica_jogada(pos: int, zero_pos: int) -> bool:\n",
    "    \"\"\"\n",
    "    Verifca se a jogada selecionada é valida\n",
    "    \n",
    "    :param pos: posição do elemento a ser trocado\n",
    "    :param zero_pos: posição do elemento 0\n",
    "    :return: True se a jogada é válida\n",
    "    \"\"\"\n",
    "    pass\n",
    "\n",
    "    \n",
    "def verifica_se_venceu(matriz: typing.List[typing.List[int]]) -> bool:\n",
    "    \"\"\"\n",
    "    Verifica se o jogador venceu o jogo\n",
    "    \n",
    "    :param matriz: matriz com os elementos do jogo\n",
    "    :return: True se o jogador venceu\n",
    "    \"\"\"\n",
    "    pass\n",
    "\n",
    "    \n",
    "def main() -> None:\n",
    "    \"\"\"\n",
    "    Função principal do jogo\n",
    "    \"\"\"\n",
    "    # inicializa o jogo\n",
    "    jogo = gera_matriz()\n",
    "    zero_pos = acha_pos_zero(jogo)\n",
    "    jogando = True\n",
    "    venceu = False\n",
    "\n",
    "    # cria o loop principal do jogo\n",
    "    while jogando:\n",
    "        # imprime o estado do jogo\n",
    "        clear_output(wait=True)\n",
    "        time.sleep(0.3)\n",
    "        imprime_jogo(jogo)\n",
    "        time.sleep(0.3)\n",
    "        \n",
    "        # pede a posição até obter uma posição válida\n",
    "        pos = int(input(\"Digite a posição do elemento que você deseja trocar: \"))\n",
    "        while not verifica_jogada(pos, zero_pos):\n",
    "            print(\"Entrada inválida. Digite novamente\")\n",
    "            pos = int(input(\"Digite a posição do elemento que você deseja trocar: \"))\n",
    "        \n",
    "        # executa a troca de elementos\n",
    "        troca_elemento(pos, zero_pos, jogo)\n",
    "        zero_pos = pos\n",
    "        \n",
    "        # verifica se o usuário venceu o jogo\n",
    "        venceu = verifica_se_venceu(jogo)\n",
    "        jogando = not venceu\n",
    "    \n",
    "    # imprime o resultado do jogo\n",
    "    if venceu:\n",
    "        print(\"Parabens, você venceu!!!\")\n",
    "    else:\n",
    "        print(\"Obrigado por jogar.\")\n",
    "        \n",
    "main()"
   ]
  },
  {
   "cell_type": "code",
   "execution_count": null,
   "metadata": {
    "ExecuteTime": {
     "end_time": "2022-05-25T17:13:33.011575Z",
     "start_time": "2022-05-25T17:13:33.011550Z"
    },
    "cellView": "form",
    "id": "-T3YnFi7EsSv",
    "solution2": "hidden"
   },
   "outputs": [],
   "source": [
    "#@title Resposta\n",
    "import random\n",
    "import typing\n",
    "import time\n",
    "from IPython.display import clear_output\n",
    "\n",
    "\n",
    "def gera_matriz() -> typing.List[typing.List[int]]:\n",
    "    \"\"\"\n",
    "    Gera uma matriz 4x4 com elementos em posições aleatórias\n",
    "    entre 0 e 15\n",
    "    \n",
    "    :return: matriz 4x4 com valores entre 0 e 15\n",
    "    \"\"\"\n",
    "    matriz = list()\n",
    "    lista = list(range(16))\n",
    "    for j in range(4):\n",
    "        linha = []\n",
    "        for i in range(4):\n",
    "            x = random.choice(lista)\n",
    "            linha.append(x)\n",
    "            lista.remove(x)\n",
    "        matriz.append(linha)\n",
    "    return matriz\n",
    "        \n",
    "\n",
    "def acha_pos_zero(matriz: typing.List[typing.List[int]]) -> int:\n",
    "    \"\"\"\n",
    "    Função que procura e devolve a posição do zero da matriz (espaço vazio)\n",
    "    \n",
    "    :param matriz: matriz com os elementos do jogo\n",
    "    :return: posição do elemento 0\n",
    "    \"\"\"\n",
    "    for i in range(len(matriz)):\n",
    "        for j in range(len(matriz[0])):\n",
    "            if matriz[i][j] == 0:\n",
    "                return (i + 1) * 10 + j + 1\n",
    "\n",
    "\n",
    "def imprime_jogo(\n",
    "    matriz: typing.List[typing.List[int]]\n",
    ") -> None:\n",
    "    \"\"\"\n",
    "    Imprime o estado atual do tabuleiro\n",
    "    \n",
    "    :param matriz: matriz com os elementos do jogo\n",
    "    \"\"\"\n",
    "    for i in range(4):\n",
    "        print(\"+------+------+------+------+\")\n",
    "        for j in range(4):\n",
    "            print(\"+  %02d \" % matriz[i][j], end=\" \")\n",
    "        print(\"+\")\n",
    "    print(\"+------+------+------+------+\")\n",
    "\n",
    "\n",
    "def troca_elemento(\n",
    "    pos1: int, \n",
    "    pos2: int, \n",
    "    matriz: typing.List[typing.List[int]]\n",
    ") -> None:\n",
    "    \"\"\"\n",
    "    Dada uma matriz (listas de listas) de tamanho 4x4 troque os\n",
    "    elementos contidos na posição 1 com o elemento da posição 2,\n",
    "    na qual os elementos são representados por um número inteiro\n",
    "    cujo valor correponde a linha e coluna do elemento.\n",
    "    \n",
    "    Por exemplo pos1 = 11 -> elemento da primeira linha e primeira coluna\n",
    "    \n",
    "    Assim, se pos1 = 11, pos2 = 12 e\n",
    "    matriz =\n",
    "        1  2  3  4\n",
    "        5  6  7  8\n",
    "        9 10 11 12\n",
    "    \n",
    "    Queremos obter\n",
    "        2  1  3  4\n",
    "        5  6  7  8\n",
    "        9 10 11 12\n",
    "    \n",
    "    As mudanças da matriz devem ser feitas dentro da função, sem necessidade\n",
    "    de retornar uma nova matriz\n",
    "    \n",
    "    :param pos1: número inteiro da posição 1\n",
    "    :param pos2: número inteiro da posição 2\n",
    "    :param matriz: matriz de elementos\n",
    "    \"\"\"\n",
    "    elemento1 = matriz[pos1 // 10 - 1][pos1 % 10 -1]\n",
    "    elemento2 = matriz[pos2 // 10 - 1][pos2 % 10-1]\n",
    "    matriz[pos1 // 10-1][pos1 % 10 - 1] = elemento2\n",
    "    matriz[pos2 // 10-1][pos2 % 10 - 1] = elemento1\n",
    "\n",
    "\n",
    "def verifica_jogada(pos: int, zero_pos: int) -> bool:\n",
    "    \"\"\"\n",
    "    Verifca se a jogada selecionada é valida\n",
    "    \n",
    "    :param pos: posição do elemento a ser trocado\n",
    "    :param zero_pos: posição do elemento 0\n",
    "    :return: True se a jogada é válida\n",
    "    \"\"\"\n",
    "    linha = pos // 10\n",
    "    coluna = pos % 10\n",
    "\n",
    "    linha_zero = zero_pos // 10\n",
    "    coluna_zero = zero_pos % 10\n",
    "\n",
    "    if linha < 1 or linha > 4 or coluna < 1 or coluna > 4:\n",
    "        return False\n",
    "    else:\n",
    "        return (\n",
    "            (linha == linha_zero -1 and coluna == coluna_zero) \n",
    "            or (linha == linha_zero and (coluna == coluna_zero-1 or coluna == coluna_zero+1)) \n",
    "            or (linha == linha_zero+1 and coluna == coluna_zero)\n",
    "        )\n",
    "\n",
    "    \n",
    "def verifica_se_venceu(matriz: typing.List[typing.List[int]]) -> bool:\n",
    "    \"\"\"\n",
    "    Verifica se o jogador venceu o jogo\n",
    "    \n",
    "    :param matriz: matriz com os elementos do jogo\n",
    "    :return: True se o jogador venceu\n",
    "    \"\"\"\n",
    "    em_linha = list()\n",
    "    for l in matriz:\n",
    "        em_linha += l\n",
    "    return em_linha == sorted(em_linha)\n",
    "\n",
    "    \n",
    "def main() -> None:\n",
    "    \"\"\"\n",
    "    Função principal do jogo\n",
    "    \"\"\"\n",
    "    # inicializa o jogo\n",
    "    jogo = gera_matriz()\n",
    "    zero_pos = acha_pos_zero(jogo)\n",
    "    jogando = True\n",
    "    venceu = False\n",
    "\n",
    "    # cria o loop principal do jogo\n",
    "    while jogando:\n",
    "        # imprime o estado do jogo\n",
    "        clear_output(wait=True)\n",
    "        time.sleep(0.3)\n",
    "        imprime_jogo(jogo)\n",
    "        time.sleep(0.3)\n",
    "        \n",
    "        # pede a posição até obter uma posição válida\n",
    "        pos = int(input(\"Digite a posição do elemento que você deseja trocar: \"))\n",
    "        while not verifica_jogada(pos, zero_pos):\n",
    "            print(\"Entrada inválida. Digite novamente\")\n",
    "            pos = int(input(\"Digite a posição do elemento que você deseja trocar: \"))\n",
    "        \n",
    "        # executa a troca de elementos\n",
    "        troca_elemento(pos, zero_pos, jogo)\n",
    "        zero_pos = pos\n",
    "        \n",
    "        # verifica se o usuário venceu o jogo\n",
    "        venceu = verifica_se_venceu(jogo)\n",
    "        jogando = not venceu\n",
    "    \n",
    "    # imprime o resultado do jogo\n",
    "    if venceu:\n",
    "        print(\"Parabens, você venceu!!!\")\n",
    "    else:\n",
    "        print(\"Obrigado por jogar.\")\n",
    "        \n",
    "main()"
   ]
  },
  {
   "cell_type": "markdown",
   "metadata": {
    "id": "uK_CrsR1EsSv"
   },
   "source": [
    "---"
   ]
  },
  {
   "cell_type": "markdown",
   "metadata": {
    "id": "wqg5wjWcEsSv"
   },
   "source": [
    "## Leitura de Dados "
   ]
  },
  {
   "cell_type": "markdown",
   "metadata": {
    "id": "YIALCjYrQ7pt"
   },
   "source": [
    "---"
   ]
  },
  {
   "cell_type": "markdown",
   "metadata": {
    "id": "ujpz-u46Q7HN"
   },
   "source": [
    "**NOTA**"
   ]
  },
  {
   "cell_type": "markdown",
   "metadata": {
    "id": "hBLsMRDXRCGM"
   },
   "source": [
    "Se você estiver executando este notebook a partir do google colab, seria necessário que você ajustasse o caminho para os diferentes arquivos. Entretanto, para faciliar a vida, iremos baixar os dados na pasta temporária do colab executando a célula abaixo."
   ]
  },
  {
   "cell_type": "code",
   "execution_count": null,
   "metadata": {
    "ExecuteTime": {
     "end_time": "2022-05-25T17:13:33.014612Z",
     "start_time": "2022-05-25T17:13:33.014575Z"
    },
    "id": "tWOTqgZXRFCv"
   },
   "outputs": [],
   "source": [
    "import urllib.request\n",
    "urllib.request.urlretrieve(\"https://drive.google.com/uc?id=1SQ6GksfmYdgRn7Bku46XxBFG-aovSu0M&export=download\", \"usuarios.txt\")\n",
    "urllib.request.urlretrieve(\"https://drive.google.com/uc?id=1SQISXgA98wU_v1oRws57lvMhms2e2rDY&export=download\", \"palavras.txt\")"
   ]
  },
  {
   "cell_type": "markdown",
   "metadata": {
    "id": "Bq0WnqlxREzw"
   },
   "source": [
    "Para ver o conteúdo da sua pasta execute o comando abaixo em uma nova célula"
   ]
  },
  {
   "cell_type": "code",
   "execution_count": null,
   "metadata": {
    "ExecuteTime": {
     "end_time": "2022-05-25T17:13:33.016075Z",
     "start_time": "2022-05-25T17:13:33.016058Z"
    },
    "id": "FStOq9nFREis"
   },
   "outputs": [],
   "source": [
    "!ls \".\""
   ]
  },
  {
   "cell_type": "markdown",
   "metadata": {
    "id": "jhyKkxzSQ6yt"
   },
   "source": [
    "---"
   ]
  },
  {
   "cell_type": "markdown",
   "metadata": {
    "id": "lOTNo1aCEsSw"
   },
   "source": [
    "A função open() devolve um objeto arquivo, e é frequentemente usada com dois argumentos: open(nome_do_arquivo, modo)."
   ]
  },
  {
   "cell_type": "code",
   "execution_count": null,
   "metadata": {
    "id": "EsLpKZKQH4Ds"
   },
   "outputs": [],
   "source": []
  },
  {
   "cell_type": "markdown",
   "metadata": {
    "id": "3h-t9dSiEsSw"
   },
   "source": [
    "O primeiro argumento é uma string contendo o nome/caminho do arquivo. O segundo argumento é outra string, contendo alguns caracteres que descrevem o modo como o arquivo será usado. modo pode ser 'r' quando o arquivo será apenas lido, 'w' para escrever (se o arquivo já existir seu conteúdo prévio será apagado), e 'a' para abrir o arquivo para adição; qualquer escrita será adicionada ao final do arquivo. A opção 'r+' abre o arquivo tanto para leitura como para escrita. O argumento modo é opcional, em caso de omissão será assumido 'r'.\n",
    "\n",
    "Normalmente, arquivos são abertos em modo texto, ou seja, você lê e grava strings, de e para o arquivo, numa codificação específica. Se a codificação não for especificada, o padrão é dependente da plataforma/sistema operacional (consulte open()). Incluir 'b' ao modo abre o arquivo em modo binário: os dados são lidos e escritos na forma de bytes. Esse modo deve ser usado para todos os arquivos que não contenham texto.\n",
    "\n",
    "Em modo texto, o padrão durante a leitura é converter terminadores de linha específicos da plataforma (\\n no Unix, \\r\\n no Windows) para apenas \\n. Ao escrever no modo de texto, o padrão é converter as ocorrências de \\n de volta para os finais de linha específicos da plataforma. Essa modificação de bastidores nos dados do arquivo é adequada para arquivos de texto, mas corromperá dados binários, como arquivos JPEG ou EXE. Tenha muito cuidado para só usar o modo binário, ao ler e gravar esses arquivos.\n",
    "\n",
    "É uma boa prática usar a palavra-chave with ao lidar com arquivos. A vantagem é que o arquivo é fechado corretamente após o término de sua utilização, mesmo que uma exceção seja levantada em algum momento. Usar with também é muito mais curto que escrever seu bloco equivalente try-finally:"
   ]
  },
  {
   "cell_type": "code",
   "execution_count": null,
   "metadata": {
    "id": "fXOGV1jtH4Dt"
   },
   "outputs": [],
   "source": []
  },
  {
   "cell_type": "markdown",
   "metadata": {
    "id": "Nk41nwR1EsSw"
   },
   "source": [
    "Se você não está usando a palavra reservada with, então você deveria chamar f.close() para fechar o arquivo e imediatamente liberar qualquer recurso do sistema usado por ele.\n",
    "\n",
    "    Aviso Chamar f.write() sem usar a palavra reservada with ou chamar``f.close()`` pode resultar nos argumentos de f.write() não serem completamente escritos no disco, mesmo se o programa for encerrado com êxito.\n",
    "\n",
    "Depois que um arquivo é fechado, seja por uma instrução with ou chamando f.close(), as tentativas de usar o arquivo falharão automaticamente."
   ]
  },
  {
   "cell_type": "code",
   "execution_count": null,
   "metadata": {
    "id": "YyDSgspVH4Dt"
   },
   "outputs": [],
   "source": []
  },
  {
   "cell_type": "markdown",
   "metadata": {
    "id": "Q6gpJSNbEsSw"
   },
   "source": [
    "Para simplificar, o resto dos exemplos nesta seção assumem que um objeto arquivo chamado f já foi criado.\n",
    "\n",
    "Para ler o conteúdo de um arquivo, chame f.read(tamanho), que lê um punhado de dados devolvendo-os como uma string (em modo texto) ou bytes (em modo binário). tamanho é um argumento numérico opcional. Quando tamanho é omitido ou negativo, todo o conteúdo do arquivo é lido e devolvido; se o arquivo é duas vezes maior que memória da máquina, o problema é seu. Caso contrário, no máximo tamanho caracteres (em modo texto) ou tamanho bytes (em modo binário) são lidos e devolvidos. Se o fim do arquivo for atingido, f.read() devolve uma string vazia ('')."
   ]
  },
  {
   "cell_type": "code",
   "execution_count": null,
   "metadata": {
    "id": "txNKNjVRH4Dt"
   },
   "outputs": [],
   "source": []
  },
  {
   "cell_type": "markdown",
   "metadata": {
    "id": "b86hR077EsSw"
   },
   "source": [
    "O método f.readline() lê uma única linha do arquivo; o caractere de quebra de linha (\\n) é mantido ao final da string, e só é omitido na última linha do arquivo, se o arquivo não terminar com uma quebra de linha. Isso elimina a ambiguidade do valor retornado; se f.readline() retorna uma string vazia, o fim do arquivo foi atingido. Linhas em branco são representadas por um '\\n' – uma string contendo apenas o caractere terminador de linha."
   ]
  },
  {
   "cell_type": "code",
   "execution_count": null,
   "metadata": {
    "id": "z3q6TQDwH4Dt"
   },
   "outputs": [],
   "source": []
  },
  {
   "cell_type": "markdown",
   "metadata": {
    "id": "bUFwSEVSEsSw"
   },
   "source": [
    "Uma maneira alternativa de ler linhas do arquivo é iterar diretamente pelo objeto arquivo. É eficiente, rápido e resulta em código mais simples:"
   ]
  },
  {
   "cell_type": "code",
   "execution_count": null,
   "metadata": {
    "id": "oVRUE6kYH4Du"
   },
   "outputs": [],
   "source": []
  },
  {
   "cell_type": "markdown",
   "metadata": {
    "id": "jmwXIBHiEsSw"
   },
   "source": [
    "Se desejar ler todas as linhas de um arquivo em uma lista, pode-se usar list(f) ou f.readlines().\n",
    "\n",
    "f.write(string) escreve o conteúdo de string para o arquivo, retornando o número de caracteres escritos."
   ]
  },
  {
   "cell_type": "code",
   "execution_count": null,
   "metadata": {
    "id": "T8JQ7uYsH4Du"
   },
   "outputs": [],
   "source": []
  },
  {
   "cell_type": "markdown",
   "metadata": {
    "id": "vm4wfYTQEsSw"
   },
   "source": [
    "Outros tipos de objetos precisam ser convertidos – seja para uma string (em modo texto) ou para bytes (em modo binário) – antes de escrevê-los:"
   ]
  },
  {
   "cell_type": "code",
   "execution_count": null,
   "metadata": {
    "id": "mUgU3x8pH4Du"
   },
   "outputs": [],
   "source": []
  },
  {
   "cell_type": "markdown",
   "metadata": {
    "id": "91GSaOC3EsSx"
   },
   "source": [
    "f.tell() retorna um inteiro dando a posição atual do objeto arquivo, no arquivo representado, como número de bytes desde o início do arquivo, no modo binário, e um número ininteligível, quando no modo de texto.\n",
    "\n",
    "Para mudar a posição, use f.seek(offset, de_onde). A nova posição é computada pela soma do deslocamento offset a um ponto de referência especificado pelo argumento de-onde. Se o valor de de_onde é 0,a referência é o início do arquivo, 1 refere-se à posição atual, e 2 refere-se ao fim do arquivo. Este argumento pode ser omitido e o valor padrão é 0, usando o início do arquivo como referência."
   ]
  },
  {
   "cell_type": "code",
   "execution_count": null,
   "metadata": {
    "id": "032o8pGFH4Du"
   },
   "outputs": [],
   "source": []
  },
  {
   "cell_type": "markdown",
   "metadata": {
    "id": "AXTyc-z-EsSx"
   },
   "source": [
    "---"
   ]
  },
  {
   "cell_type": "markdown",
   "metadata": {
    "id": "1Xj3ZyYsEsSx"
   },
   "source": [
    "**Exercício 13**"
   ]
  },
  {
   "cell_type": "markdown",
   "metadata": {
    "id": "Uw0JznOjEsSx"
   },
   "source": [
    "A ACME Inc., uma empresa de 500 funcionários, está tendo problemas de espaço em disco no seu servidor de arquivos. Para tentar resolver este problema, o Administrador de Rede precisa saber qual o espaço ocupado pelos usuários, e\n",
    "identificar os usuários com maior espaço ocupado. Através de um programa, baixado da Internet, ele conseguiu gerar o seguinte arquivo, chamado\n",
    "\n",
    "\"usuarios.txt\":\n",
    "\n",
    "    alexandre       456123789\n",
    "    anderson        1245698456\n",
    "    antonio         123456456\n",
    "    carlos          91257581\n",
    "    cesar           987458\n",
    "    rosemary        789456125\n",
    "\n",
    "Neste arquivo, o nome do usuário possui 15 caracteres. A partir deste arquivo, você deve criar um programa que gere um relatório, chamado \"relatório.txt\", no seguinte formato:\n",
    "\n",
    "    ACME Inc.               Uso do espaço em disco pelos usuários\n",
    "    ------------------------------------------------------------------------\n",
    "    Nr.  Usuário        Espaço utilizado     % do uso\n",
    "\n",
    "    1    alexandre       434,99 MB             16,85%\n",
    "    2    anderson       1187,99 MB             46,02%\n",
    "    3    antonio         117,73 MB              4,56%\n",
    "    4    carlos           87,03 MB              3,37%\n",
    "    5    cesar             0,94 MB              0,04%\n",
    "    6    rosemary        752,88 MB             29,16%\n",
    "\n",
    "Espaço total ocupado: 2581,57 MB\n",
    "Espaço médio ocupado: 430,26 MB\n",
    "\n",
    "O arquivo de entrada deve ser lido uma única vez, e os dados armazenados em memória, caso sejam necessários, de forma a agilizar a execução do programa."
   ]
  },
  {
   "cell_type": "code",
   "execution_count": null,
   "metadata": {
    "id": "wgVVjb4NEsSx",
    "solution2": "hidden",
    "solution2_first": true
   },
   "outputs": [],
   "source": []
  },
  {
   "cell_type": "code",
   "execution_count": null,
   "metadata": {
    "ExecuteTime": {
     "end_time": "2022-05-25T17:13:33.017640Z",
     "start_time": "2022-05-25T17:13:33.017622Z"
    },
    "cellView": "form",
    "id": "MuOnlEeNEsSx",
    "solution2": "hidden"
   },
   "outputs": [],
   "source": [
    "#@title Resposta\n",
    "usuarios = dict()\n",
    "\n",
    "# abre o arquivo com os usuários\n",
    "with open(\"usuarios.txt\", \"r\") as arquivo:      \n",
    "    # começa a percorrer o condeúdo da linha\n",
    "    for linha in arquivo:\n",
    "        # obtém o usuário\n",
    "        usuario = linha[:15].strip()\n",
    "        \n",
    "        # obtém o espaço utilizado\n",
    "        espaco = int(linha[15:].strip())\n",
    "\n",
    "        # adiciona ao dicionário \n",
    "        usuarios[usuario] = espaco\n",
    "\n",
    "# calcula o espaço total ocupado\n",
    "espaco_total = sum(list(usuarios.values()))\n",
    "\n",
    "# realiza a impressão dos resultados\n",
    "print(\n",
    "\"\"\"\n",
    "ACME Inc.               Uso do espaço em disco pelos usuários\n",
    "------------------------------------------------------------------------\n",
    "Nr.  Usuário        Espaço utilizado     % do uso\n",
    "\"\"\"\n",
    ")\n",
    "\n",
    "# percorre os usuários\n",
    "n = 1\n",
    "for u, e in usuarios.items():\n",
    "    # adiciona o número do usuário\n",
    "    output = f\"{n}\".ljust(5)\n",
    "    \n",
    "    # adiciona o nome do usuário\n",
    "    output += f\"{u}\".ljust(15)\n",
    "    \n",
    "    # adiciona o espaço ocupado\n",
    "    ocup = (\"%.2f\" % (e / (1024 ** 2))).rjust(8).replace(\".\", \",\")\n",
    "    ocup += \" MB\"\n",
    "    output += ocup.ljust(21)\n",
    "    \n",
    "    # adiciona o % do disco ocupado\n",
    "    output += (\"%.2f%%\" % (100 * e / espaco_total)).rjust(8).replace(\".\", \",\")\n",
    "    \n",
    "    print(output)\n",
    "    n += 1"
   ]
  },
  {
   "cell_type": "markdown",
   "metadata": {
    "id": "HdIezrcAEsSx"
   },
   "source": [
    "---"
   ]
  },
  {
   "cell_type": "markdown",
   "metadata": {
    "id": "7jkRoFclEsSx"
   },
   "source": [
    "## Projeto Final "
   ]
  },
  {
   "cell_type": "markdown",
   "metadata": {
    "id": "KlfqSZ6zEsSx"
   },
   "source": [
    "Como parte de seu projeto final, vamos gerar as funções de um jogo de forca.\n",
    "\n",
    "Utilize a estrutura abaixo e preencha as funções sem definição para fazer o jogo funcionar adequadamente.\n",
    "\n",
    "Como parte do loop do jogo:\n",
    "1. Carregue o arquivo palavras.txt para obter a lista de palavras possíveis\n",
    "1. Sorteie uma palavra aleatória da lista acima\n",
    "1. Imprima o estado da forca atual com os _ _ _ embaixo da forca com as letras a serem chutadas\n",
    "1. Peça para o usuário chutar uma letra\n",
    "1. Se a letra estiver correta substitua os _ onde ela aparece\n",
    "1. Se estiver errada, imprima embaixo da forca as letras erradas e atualize o boneco\n",
    "1. Caso o usuário perca, informe o número de chutes corretos e errados e a palavra correta\n",
    "1. Caso o usuário ganhe, informe uma mensagem de sucesso\n",
    "1. Ao final pergunte se o usuário quer jogar novamente\n",
    "\n",
    "Lembre-se que a mesma letra não pode ser chutada novamente, e que não se pode colocar caracteres especiais ou com acento"
   ]
  },
  {
   "cell_type": "code",
   "execution_count": null,
   "metadata": {
    "ExecuteTime": {
     "end_time": "2022-05-25T17:13:33.019066Z",
     "start_time": "2022-05-25T17:13:33.019049Z"
    },
    "id": "k-JOKIE7EsSx",
    "solution2": "hidden",
    "solution2_first": true
   },
   "outputs": [],
   "source": [
    "import random\n",
    "import typing\n",
    "import time\n",
    "from IPython.display import clear_output\n",
    "\n",
    "\n",
    "FORCAIMG = [\n",
    "    \"\"\"\n",
    "\n",
    "      +---+\n",
    "      |   |\n",
    "          |\n",
    "          |\n",
    "          |\n",
    "          |\n",
    "    =========\"\"\",\n",
    "    \"\"\"\n",
    "\n",
    "      +---+\n",
    "      |   |\n",
    "      O   |\n",
    "          |\n",
    "          |\n",
    "          |\n",
    "    =========\"\"\",\n",
    "    \"\"\"\n",
    "\n",
    "      +---+\n",
    "      |   |\n",
    "      O   |\n",
    "      |   |\n",
    "          |\n",
    "          |\n",
    "    =========\"\"\",\n",
    "    \"\"\"\n",
    "\n",
    "      +---+\n",
    "      |   |\n",
    "      O   |\n",
    "     /|   |\n",
    "          |\n",
    "          |\n",
    "    =========\"\"\",\n",
    "    \"\"\"\n",
    "\n",
    "      +---+\n",
    "      |   |\n",
    "      O   |\n",
    "     /|\\  |\n",
    "          |\n",
    "          |\n",
    "    =========\"\"\",\n",
    "    \"\"\"\n",
    "\n",
    "      +---+\n",
    "      |   |\n",
    "      O   |\n",
    "     /|\\  |\n",
    "     /    |\n",
    "          |\n",
    "    =========\"\"\",\n",
    "    \"\"\"\n",
    "\n",
    "      +---+\n",
    "      |   |\n",
    "      O   |\n",
    "     /|\\  |\n",
    "     / \\  |\n",
    "          |\n",
    "    =========\"\"\",\n",
    "]\n",
    "\n",
    "\n",
    "def main():\n",
    "    \"\"\"\n",
    "    Função Principal do programa\n",
    "    \"\"\"\n",
    "    pass\n",
    "\n",
    "\n",
    "def le_palavras() -> typing.List[str]:\n",
    "    \"\"\"\n",
    "    Le arquivo com palavras que podem ser utilizadas\n",
    "    como parte do jogo\n",
    "    \"\"\"\n",
    "    pass\n",
    "\n",
    "\n",
    "def gera_palavra_aleatoria(palavras: str) -> typing.List[str]:\n",
    "    \"\"\"\n",
    "    Função que retorna uma string a partir da\n",
    "    lista de palavras\n",
    "\n",
    "    :param palavras: lista com palavras que podem ser sorteadas\n",
    "    :return: palavra secreta do jogo\n",
    "    \"\"\"\n",
    "    pass\n",
    "\n",
    "\n",
    "def imprime_com_espacos(palavra: str) -> None:\n",
    "    \"\"\"\n",
    "    Recebe uma string palavra ou lista e imprime essa com\n",
    "    espaço entre suas letras ou strings\n",
    "\n",
    "    :param palavra: palavra secreta do jogo\n",
    "    \"\"\"\n",
    "    pass\n",
    "\n",
    "\n",
    "def imprime_jogo(\n",
    "    letras_erradas: typing.List[str],\n",
    "    letras_acertadas: typing.List[str],\n",
    "    palavra_secreta: str,\n",
    ") -> None:\n",
    "    \"\"\"\n",
    "    Feito a partir da variável global que contem as imagens\n",
    "    do jogo em ASCII art, e támbem as letras chutadas de\n",
    "    maneira correta e as letras erradas e a palavra secreta\n",
    "\n",
    "    :param letras_erradas: lista de letras chutadas incorretamente\n",
    "    :param letras_acertadas: lista de letras chutadas corretamente\n",
    "    :param palavra_secreta: palavra secreta do jogo\n",
    "    \"\"\"\n",
    "    pass\n",
    "\n",
    "\n",
    "def recebe_palpite(palpites_feitos: typing.List[str]) -> str:\n",
    "    \"\"\"\n",
    "    Função feita para garantir que o usuário coloque uma\n",
    "    entrada válida, ou seja, que seja uma única letra\n",
    "    que ele ainda não tenha chutado\n",
    "\n",
    "    :param palpites_feitos: lista de letras chutadas anteriormente\n",
    "    :return: nova letra chutada\n",
    "    \"\"\"\n",
    "    pass\n",
    "\n",
    "\n",
    "def jogar_novamente() -> bool:\n",
    "    \"\"\"\n",
    "    Função que pede para o usuário decidir se ele quer\n",
    "    jogar novamente e retorna um booleano representando\n",
    "    a resposta\n",
    "\n",
    "    :return: True se o jogador informou que deseja jogar novamente\n",
    "    \"\"\"\n",
    "    return input(\"Você quer jogar novamente? (sim ou nao)\\n\").upper().startswith(\"S\")\n",
    "\n",
    "\n",
    "def verifica_se_ganhou(\n",
    "    palavra_secreta: str, letras_acertadas: typing.List[str]\n",
    ") -> bool:\n",
    "    \"\"\"\n",
    "    Função que verifica se o usuário acertou todas as\n",
    "    letras da palavra secreta\n",
    "\n",
    "    :param palavra_secreta: palavra secreta do jogo\n",
    "    :param letras_acertadas: lista de letras chutadas corretamente\n",
    "    :return: booleano informando se o jogador ganhou o jogo\n",
    "    \"\"\"\n",
    "    pass\n",
    "\n",
    "\n",
    "main()"
   ]
  },
  {
   "cell_type": "code",
   "execution_count": null,
   "metadata": {
    "ExecuteTime": {
     "end_time": "2022-05-25T17:13:33.020466Z",
     "start_time": "2022-05-25T17:13:33.020448Z"
    },
    "cellView": "form",
    "id": "txalWC9tEsSy",
    "solution2": "hidden"
   },
   "outputs": [],
   "source": [
    "#@title Resposta\n",
    "import random\n",
    "import typing\n",
    "import time\n",
    "from IPython.display import clear_output\n",
    "\n",
    "\n",
    "FORCAIMG = [\n",
    "    \"\"\"\n",
    "\n",
    "      +---+\n",
    "      |   |\n",
    "          |\n",
    "          |\n",
    "          |\n",
    "          |\n",
    "    =========\"\"\",\n",
    "    \"\"\"\n",
    "\n",
    "      +---+\n",
    "      |   |\n",
    "      O   |\n",
    "          |\n",
    "          |\n",
    "          |\n",
    "    =========\"\"\",\n",
    "    \"\"\"\n",
    "\n",
    "      +---+\n",
    "      |   |\n",
    "      O   |\n",
    "      |   |\n",
    "          |\n",
    "          |\n",
    "    =========\"\"\",\n",
    "    \"\"\"\n",
    "\n",
    "      +---+\n",
    "      |   |\n",
    "      O   |\n",
    "     /|   |\n",
    "          |\n",
    "          |\n",
    "    =========\"\"\",\n",
    "    \"\"\"\n",
    "\n",
    "      +---+\n",
    "      |   |\n",
    "      O   |\n",
    "     /|\\  |\n",
    "          |\n",
    "          |\n",
    "    =========\"\"\",\n",
    "    \"\"\"\n",
    "\n",
    "      +---+\n",
    "      |   |\n",
    "      O   |\n",
    "     /|\\  |\n",
    "     /    |\n",
    "          |\n",
    "    =========\"\"\",\n",
    "    \"\"\"\n",
    "\n",
    "      +---+\n",
    "      |   |\n",
    "      O   |\n",
    "     /|\\  |\n",
    "     / \\  |\n",
    "          |\n",
    "    =========\"\"\",\n",
    "]\n",
    "\n",
    "\n",
    "def main():\n",
    "    \"\"\"\n",
    "    Função Principal do programa\n",
    "    \"\"\"\n",
    "    global FORCAIMG\n",
    "\n",
    "    letras_erradas = list()\n",
    "    letras_acertadas = list()\n",
    "\n",
    "    # lista as palavras disponíveis para o jogo\n",
    "    palavras = le_palavras()\n",
    "\n",
    "    # seleciona uma palavra aleatória\n",
    "    palavra_secreta = gera_palavra_aleatoria(palavras).upper()\n",
    "\n",
    "    # cria o loop do jogo\n",
    "    jogando = True\n",
    "    while jogando:\n",
    "        # imprime o estado do jogo atual\n",
    "        clear_output(wait=True)\n",
    "        time.sleep(0.3)\n",
    "        imprime_jogo(letras_erradas, letras_acertadas, palavra_secreta)\n",
    "        time.sleep(0.3)\n",
    "\n",
    "        # recebe um palpite do jogador\n",
    "        palpite = recebe_palpite(letras_erradas + letras_acertadas)\n",
    "\n",
    "        # adiciona o palpite ao dicionário adequado\n",
    "        if palpite in palavra_secreta:\n",
    "            letras_acertadas.append(palpite)\n",
    "        else:\n",
    "            letras_erradas.append(palpite)\n",
    "\n",
    "        # verifica se o usuário ganhou o jogo\n",
    "        if verifica_se_ganhou(palavra_secreta, letras_acertadas):\n",
    "            clear_output(wait=True)\n",
    "            time.sleep(0.3)\n",
    "            print(\"Exato! A palavra secreta é \" + palavra_secreta + \"! Você ganhou!!\")\n",
    "            jogando = False\n",
    "\n",
    "        # verifica se o usuário perdeu o jogo\n",
    "        elif len(letras_erradas) == len(FORCAIMG) - 1:\n",
    "            clear_output(wait=True)\n",
    "            time.sleep(0.3)\n",
    "            print(\"Você excedeu o seu limite de palpites!\")\n",
    "            print(\n",
    "                \"Depois de \"\n",
    "                + str(len(letras_erradas))\n",
    "                + \" letras erradas e \"\n",
    "                + str(len(letras_acertadas)),\n",
    "                end=\" \",\n",
    "            )\n",
    "            print(\"palpites corretos, a palavra era \" + palavra_secreta + \".\")\n",
    "\n",
    "            jogando = False\n",
    "\n",
    "        # se o usuário terminar o jogo\n",
    "        if not jogando:\n",
    "            # pede para jogar novamente\n",
    "            time.sleep(0.3)\n",
    "            if jogar_novamente():\n",
    "                letras_erradas = list()\n",
    "                letras_acertadas = list()\n",
    "                jogando = True\n",
    "                palavra_secreta = gera_palavra_aleatoria(palavras).upper()\n",
    "\n",
    "\n",
    "def le_palavras() -> typing.List[str]:\n",
    "    \"\"\"\n",
    "    Le arquivo com palavras que podem ser utilizadas\n",
    "    como parte do jogo\n",
    "    \"\"\"\n",
    "    with open(\"palavras.txt\") as f:\n",
    "        return f.readlines()\n",
    "\n",
    "\n",
    "def gera_palavra_aleatoria(palavras: str) -> typing.List[str]:\n",
    "    \"\"\"\n",
    "    Função que retorna uma string a partir da\n",
    "    lista de palavras\n",
    "\n",
    "    :param palavras: lista com palavras que podem ser sorteadas\n",
    "    :return: palavra secreta do jogo\n",
    "    \"\"\"\n",
    "    return random.choice(palavras).replace(\"\\n\", \"\")\n",
    "\n",
    "\n",
    "def imprime_com_espacos(palavra: str) -> None:\n",
    "    \"\"\"\n",
    "    Recebe uma string palavra ou lista e imprime essa com\n",
    "    espaço entre suas letras ou strings\n",
    "\n",
    "    :param palavra: palavra secreta do jogo\n",
    "    \"\"\"\n",
    "    for letra in palavra:\n",
    "        print(letra, end=\" \")\n",
    "    print()\n",
    "\n",
    "\n",
    "def imprime_jogo(\n",
    "    letras_erradas: typing.List[str],\n",
    "    letras_acertadas: typing.List[str],\n",
    "    palavra_secreta: str,\n",
    ") -> None:\n",
    "    \"\"\"\n",
    "    Feito a partir da variável global que contem as imagens\n",
    "    do jogo em ASCII art, e támbem as letras chutadas de\n",
    "    maneira correta e as letras erradas e a palavra secreta\n",
    "\n",
    "    :param letras_erradas: lista de letras chutadas incorretamente\n",
    "    :param letras_acertadas: lista de letras chutadas corretamente\n",
    "    :param palavra_secreta: palavra secreta do jogo\n",
    "    \"\"\"\n",
    "    global FORCAIMG\n",
    "    print(FORCAIMG[len(letras_erradas)] + \"\\n\")\n",
    "\n",
    "    print(\"Letras Erradas:\", end=\" \")\n",
    "    imprime_com_espacos(letras_erradas)\n",
    "\n",
    "    vazio = \"_\" * len(palavra_secreta)\n",
    "    for i in range(len(palavra_secreta)):\n",
    "        if palavra_secreta[i] in letras_acertadas:\n",
    "            vazio = vazio[:i] + palavra_secreta[i] + vazio[i + 1 :]\n",
    "\n",
    "    imprime_com_espacos(vazio)\n",
    "\n",
    "\n",
    "def recebe_palpite(palpites_feitos: typing.List[str]) -> str:\n",
    "    \"\"\"\n",
    "    Função feita para garantir que o usuário coloque uma\n",
    "    entrada válida, ou seja, que seja uma única letra\n",
    "    que ele ainda não tenha chutado\n",
    "\n",
    "    :param palpites_feitos: lista de letras chutadas anteriormente\n",
    "    :return: nova letra chutada\n",
    "    \"\"\"\n",
    "    while True:\n",
    "        palpite = input(\"Advinhe uma letra.\\n\").upper()\n",
    "\n",
    "        if len(palpite) != 1:\n",
    "            print(\"Coloque uma única letra.\")\n",
    "        elif palpite in palpites_feitos:\n",
    "            print(\"Você já chutou esta letra. Escolha novamente.\")\n",
    "        elif not \"A\" <= palpite <= \"Z\":\n",
    "            print(\"Por favor escolha apenas letras.\")\n",
    "        else:\n",
    "            return palpite\n",
    "\n",
    "\n",
    "def jogar_novamente() -> bool:\n",
    "    \"\"\"\n",
    "    Função que pede para o usuário decidir se ele quer\n",
    "    jogar novamente e retorna um booleano representando\n",
    "    a resposta\n",
    "\n",
    "    :return: True se o jogador informou que deseja jogar novamente\n",
    "    \"\"\"\n",
    "    return input(\"Você quer jogar novamente? (sim ou nao)\\n\").upper().startswith(\"S\")\n",
    "\n",
    "\n",
    "def verifica_se_ganhou(\n",
    "    palavra_secreta: str, letras_acertadas: typing.List[str]\n",
    ") -> bool:\n",
    "    \"\"\"\n",
    "    Função que verifica se o usuário acertou todas as\n",
    "    letras da palavra secreta\n",
    "\n",
    "    :param palavra_secreta: palavra secreta do jogo\n",
    "    :param letras_acertadas: lista de letras chutadas corretamente\n",
    "    :return: booleano informando se o jogador ganhou o jogo\n",
    "    \"\"\"\n",
    "    return set(list(palavra_secreta)) == set(letras_acertadas)\n",
    "\n",
    "\n",
    "main()"
   ]
  },
  {
   "cell_type": "markdown",
   "metadata": {
    "id": "M0gVvvtYEsSy"
   },
   "source": [
    "---"
   ]
  }
 ],
 "metadata": {
  "colab": {
   "collapsed_sections": [],
   "name": "Python Básico (Code Along).ipynb",
   "provenance": [],
   "toc_visible": true
  },
  "hide_input": false,
  "kernelspec": {
   "display_name": "Python 3 (ipykernel)",
   "language": "python",
   "name": "python3"
  },
  "language_info": {
   "codemirror_mode": {
    "name": "ipython",
    "version": 3
   },
   "file_extension": ".py",
   "mimetype": "text/x-python",
   "name": "python",
   "nbconvert_exporter": "python",
   "pygments_lexer": "ipython3",
   "version": "3.9.1"
  },
  "toc": {
   "base_numbering": 1,
   "nav_menu": {},
   "number_sections": true,
   "sideBar": true,
   "skip_h1_title": true,
   "title_cell": "Table of Contents",
   "title_sidebar": "Contents",
   "toc_cell": false,
   "toc_position": {
    "height": "calc(100% - 180px)",
    "left": "10px",
    "top": "150px",
    "width": "304.46px"
   },
   "toc_section_display": true,
   "toc_window_display": true
  },
  "varInspector": {
   "cols": {
    "lenName": 16,
    "lenType": 16,
    "lenVar": 40
   },
   "kernels_config": {
    "python": {
     "delete_cmd_postfix": "",
     "delete_cmd_prefix": "del ",
     "library": "var_list.py",
     "varRefreshCmd": "print(var_dic_list())"
    },
    "r": {
     "delete_cmd_postfix": ") ",
     "delete_cmd_prefix": "rm(",
     "library": "var_list.r",
     "varRefreshCmd": "cat(var_dic_list()) "
    }
   },
   "position": {
    "height": "260.85px",
    "left": "1166px",
    "right": "20px",
    "top": "120px",
    "width": "350px"
   },
   "types_to_exclude": [
    "module",
    "function",
    "builtin_function_or_method",
    "instance",
    "_Feature"
   ],
   "window_display": false
  }
 },
 "nbformat": 4,
 "nbformat_minor": 1
}
